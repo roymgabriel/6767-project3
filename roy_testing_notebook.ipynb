{
 "cells": [
  {
   "cell_type": "markdown",
   "source": [
    "# Roy\n",
    "\n",
    "This is for me to test around and write some functions out for the class, you can create your own notebook and test around if needed. The main notebook will be `StatArb.ipynb`."
   ],
   "metadata": {
    "collapsed": false
   }
  },
  {
   "cell_type": "code",
   "execution_count": 15,
   "outputs": [],
   "source": [
    "import pandas as pd\n",
    "import numpy as np"
   ],
   "metadata": {
    "collapsed": false
   }
  },
  {
   "cell_type": "code",
   "execution_count": 16,
   "outputs": [],
   "source": [
    "df = pd.read_csv(\"data/coin_universe_150K_40.csv\")\n",
    "df2 = pd.read_csv('data/coin_all_prices.csv')"
   ],
   "metadata": {
    "collapsed": false
   }
  },
  {
   "cell_type": "code",
   "execution_count": 17,
   "outputs": [
    {
     "data": {
      "text/plain": "                       startTime          time    0    1    2    3     4  \\\n0      2021-02-19T05:00:00+00:00  1.613711e+12  BTC  BNB  XRP  LTC  LINK   \n1      2021-02-19T06:00:00+00:00  1.613714e+12  BTC  BNB  XRP  LTC  LINK   \n2      2021-02-19T07:00:00+00:00  1.613718e+12  BTC  BNB  XRP  LTC  LINK   \n3      2021-02-19T08:00:00+00:00  1.613722e+12  BTC  BNB  XRP  LTC  LINK   \n4      2021-02-19T09:00:00+00:00  1.613725e+12  BTC  BNB  XRP  LTC  LINK   \n...                          ...           ...  ...  ...  ...  ...   ...   \n14010  2022-09-25T23:00:00+00:00  1.664147e+12  BTC  ETH  BNB  XRP   SOL   \n14011  2022-09-26T00:00:00+00:00  1.664150e+12  BTC  ETH  BNB  XRP   SOL   \n14012  2022-09-26T01:00:00+00:00  1.664154e+12  BTC  ETH  BNB  XRP   SOL   \n14013  2022-09-26T02:00:00+00:00  1.664158e+12  BTC  ETH  BNB  XRP   SOL   \n14014  2022-09-26T03:00:00+00:00  1.664161e+12  BTC  ETH  BNB  XRP   SOL   \n\n          5     6     7  ...   30   31    32    33     34      35   36    37  \\\n0       BCH  DOGE   UNI  ...  ASD  SXP   SRM  TOMO   PERP  BADGER  TRU  LINA   \n1       BCH  DOGE   UNI  ...  ASD  SXP   SRM  TOMO   PERP  BADGER  TRU  LINA   \n2       BCH  DOGE   UNI  ...  ASD  SXP   SRM  TOMO   PERP  BADGER  TRU  LINA   \n3       BCH  DOGE   UNI  ...  ASD  SXP   SRM  TOMO   PERP  BADGER  TRU  LINA   \n4       BCH  DOGE   UNI  ...  ASD  SXP   SRM  TOMO   PERP  BADGER  TRU  LINA   \n...     ...   ...   ...  ...  ...  ...   ...   ...    ...     ...  ...   ...   \n14010  DOGE   DOT  SHIB  ...  FTM  SNX  COMP   GMT  1INCH     CRV  RSR  GALA   \n14011  DOGE   DOT  SHIB  ...  FTM  SNX  COMP   GMT  1INCH     CRV  RSR  GALA   \n14012  DOGE   DOT  SHIB  ...  FTM  SNX  COMP   GMT  1INCH     CRV  RSR  GALA   \n14013  DOGE   DOT  SHIB  ...  FTM  SNX  COMP   GMT  1INCH     CRV  RSR  GALA   \n14014  DOGE   DOT  SHIB  ...  FTM  SNX  COMP   GMT  1INCH     CRV  RSR  GALA   \n\n         38    39  \n0      MAPS  FIDA  \n1      MAPS  FIDA  \n2      MAPS  FIDA  \n3      MAPS  FIDA  \n4      MAPS  FIDA  \n...     ...   ...  \n14010   FXS   SRM  \n14011   FXS   SRM  \n14012   FXS   SRM  \n14013   FXS   SRM  \n14014   FXS   SRM  \n\n[14015 rows x 42 columns]",
      "text/html": "<div>\n<style scoped>\n    .dataframe tbody tr th:only-of-type {\n        vertical-align: middle;\n    }\n\n    .dataframe tbody tr th {\n        vertical-align: top;\n    }\n\n    .dataframe thead th {\n        text-align: right;\n    }\n</style>\n<table border=\"1\" class=\"dataframe\">\n  <thead>\n    <tr style=\"text-align: right;\">\n      <th></th>\n      <th>startTime</th>\n      <th>time</th>\n      <th>0</th>\n      <th>1</th>\n      <th>2</th>\n      <th>3</th>\n      <th>4</th>\n      <th>5</th>\n      <th>6</th>\n      <th>7</th>\n      <th>...</th>\n      <th>30</th>\n      <th>31</th>\n      <th>32</th>\n      <th>33</th>\n      <th>34</th>\n      <th>35</th>\n      <th>36</th>\n      <th>37</th>\n      <th>38</th>\n      <th>39</th>\n    </tr>\n  </thead>\n  <tbody>\n    <tr>\n      <th>0</th>\n      <td>2021-02-19T05:00:00+00:00</td>\n      <td>1.613711e+12</td>\n      <td>BTC</td>\n      <td>BNB</td>\n      <td>XRP</td>\n      <td>LTC</td>\n      <td>LINK</td>\n      <td>BCH</td>\n      <td>DOGE</td>\n      <td>UNI</td>\n      <td>...</td>\n      <td>ASD</td>\n      <td>SXP</td>\n      <td>SRM</td>\n      <td>TOMO</td>\n      <td>PERP</td>\n      <td>BADGER</td>\n      <td>TRU</td>\n      <td>LINA</td>\n      <td>MAPS</td>\n      <td>FIDA</td>\n    </tr>\n    <tr>\n      <th>1</th>\n      <td>2021-02-19T06:00:00+00:00</td>\n      <td>1.613714e+12</td>\n      <td>BTC</td>\n      <td>BNB</td>\n      <td>XRP</td>\n      <td>LTC</td>\n      <td>LINK</td>\n      <td>BCH</td>\n      <td>DOGE</td>\n      <td>UNI</td>\n      <td>...</td>\n      <td>ASD</td>\n      <td>SXP</td>\n      <td>SRM</td>\n      <td>TOMO</td>\n      <td>PERP</td>\n      <td>BADGER</td>\n      <td>TRU</td>\n      <td>LINA</td>\n      <td>MAPS</td>\n      <td>FIDA</td>\n    </tr>\n    <tr>\n      <th>2</th>\n      <td>2021-02-19T07:00:00+00:00</td>\n      <td>1.613718e+12</td>\n      <td>BTC</td>\n      <td>BNB</td>\n      <td>XRP</td>\n      <td>LTC</td>\n      <td>LINK</td>\n      <td>BCH</td>\n      <td>DOGE</td>\n      <td>UNI</td>\n      <td>...</td>\n      <td>ASD</td>\n      <td>SXP</td>\n      <td>SRM</td>\n      <td>TOMO</td>\n      <td>PERP</td>\n      <td>BADGER</td>\n      <td>TRU</td>\n      <td>LINA</td>\n      <td>MAPS</td>\n      <td>FIDA</td>\n    </tr>\n    <tr>\n      <th>3</th>\n      <td>2021-02-19T08:00:00+00:00</td>\n      <td>1.613722e+12</td>\n      <td>BTC</td>\n      <td>BNB</td>\n      <td>XRP</td>\n      <td>LTC</td>\n      <td>LINK</td>\n      <td>BCH</td>\n      <td>DOGE</td>\n      <td>UNI</td>\n      <td>...</td>\n      <td>ASD</td>\n      <td>SXP</td>\n      <td>SRM</td>\n      <td>TOMO</td>\n      <td>PERP</td>\n      <td>BADGER</td>\n      <td>TRU</td>\n      <td>LINA</td>\n      <td>MAPS</td>\n      <td>FIDA</td>\n    </tr>\n    <tr>\n      <th>4</th>\n      <td>2021-02-19T09:00:00+00:00</td>\n      <td>1.613725e+12</td>\n      <td>BTC</td>\n      <td>BNB</td>\n      <td>XRP</td>\n      <td>LTC</td>\n      <td>LINK</td>\n      <td>BCH</td>\n      <td>DOGE</td>\n      <td>UNI</td>\n      <td>...</td>\n      <td>ASD</td>\n      <td>SXP</td>\n      <td>SRM</td>\n      <td>TOMO</td>\n      <td>PERP</td>\n      <td>BADGER</td>\n      <td>TRU</td>\n      <td>LINA</td>\n      <td>MAPS</td>\n      <td>FIDA</td>\n    </tr>\n    <tr>\n      <th>...</th>\n      <td>...</td>\n      <td>...</td>\n      <td>...</td>\n      <td>...</td>\n      <td>...</td>\n      <td>...</td>\n      <td>...</td>\n      <td>...</td>\n      <td>...</td>\n      <td>...</td>\n      <td>...</td>\n      <td>...</td>\n      <td>...</td>\n      <td>...</td>\n      <td>...</td>\n      <td>...</td>\n      <td>...</td>\n      <td>...</td>\n      <td>...</td>\n      <td>...</td>\n      <td>...</td>\n    </tr>\n    <tr>\n      <th>14010</th>\n      <td>2022-09-25T23:00:00+00:00</td>\n      <td>1.664147e+12</td>\n      <td>BTC</td>\n      <td>ETH</td>\n      <td>BNB</td>\n      <td>XRP</td>\n      <td>SOL</td>\n      <td>DOGE</td>\n      <td>DOT</td>\n      <td>SHIB</td>\n      <td>...</td>\n      <td>FTM</td>\n      <td>SNX</td>\n      <td>COMP</td>\n      <td>GMT</td>\n      <td>1INCH</td>\n      <td>CRV</td>\n      <td>RSR</td>\n      <td>GALA</td>\n      <td>FXS</td>\n      <td>SRM</td>\n    </tr>\n    <tr>\n      <th>14011</th>\n      <td>2022-09-26T00:00:00+00:00</td>\n      <td>1.664150e+12</td>\n      <td>BTC</td>\n      <td>ETH</td>\n      <td>BNB</td>\n      <td>XRP</td>\n      <td>SOL</td>\n      <td>DOGE</td>\n      <td>DOT</td>\n      <td>SHIB</td>\n      <td>...</td>\n      <td>FTM</td>\n      <td>SNX</td>\n      <td>COMP</td>\n      <td>GMT</td>\n      <td>1INCH</td>\n      <td>CRV</td>\n      <td>RSR</td>\n      <td>GALA</td>\n      <td>FXS</td>\n      <td>SRM</td>\n    </tr>\n    <tr>\n      <th>14012</th>\n      <td>2022-09-26T01:00:00+00:00</td>\n      <td>1.664154e+12</td>\n      <td>BTC</td>\n      <td>ETH</td>\n      <td>BNB</td>\n      <td>XRP</td>\n      <td>SOL</td>\n      <td>DOGE</td>\n      <td>DOT</td>\n      <td>SHIB</td>\n      <td>...</td>\n      <td>FTM</td>\n      <td>SNX</td>\n      <td>COMP</td>\n      <td>GMT</td>\n      <td>1INCH</td>\n      <td>CRV</td>\n      <td>RSR</td>\n      <td>GALA</td>\n      <td>FXS</td>\n      <td>SRM</td>\n    </tr>\n    <tr>\n      <th>14013</th>\n      <td>2022-09-26T02:00:00+00:00</td>\n      <td>1.664158e+12</td>\n      <td>BTC</td>\n      <td>ETH</td>\n      <td>BNB</td>\n      <td>XRP</td>\n      <td>SOL</td>\n      <td>DOGE</td>\n      <td>DOT</td>\n      <td>SHIB</td>\n      <td>...</td>\n      <td>FTM</td>\n      <td>SNX</td>\n      <td>COMP</td>\n      <td>GMT</td>\n      <td>1INCH</td>\n      <td>CRV</td>\n      <td>RSR</td>\n      <td>GALA</td>\n      <td>FXS</td>\n      <td>SRM</td>\n    </tr>\n    <tr>\n      <th>14014</th>\n      <td>2022-09-26T03:00:00+00:00</td>\n      <td>1.664161e+12</td>\n      <td>BTC</td>\n      <td>ETH</td>\n      <td>BNB</td>\n      <td>XRP</td>\n      <td>SOL</td>\n      <td>DOGE</td>\n      <td>DOT</td>\n      <td>SHIB</td>\n      <td>...</td>\n      <td>FTM</td>\n      <td>SNX</td>\n      <td>COMP</td>\n      <td>GMT</td>\n      <td>1INCH</td>\n      <td>CRV</td>\n      <td>RSR</td>\n      <td>GALA</td>\n      <td>FXS</td>\n      <td>SRM</td>\n    </tr>\n  </tbody>\n</table>\n<p>14015 rows × 42 columns</p>\n</div>"
     },
     "execution_count": 17,
     "metadata": {},
     "output_type": "execute_result"
    }
   ],
   "source": [
    "df"
   ],
   "metadata": {
    "collapsed": false
   }
  },
  {
   "cell_type": "code",
   "execution_count": 18,
   "outputs": [],
   "source": [
    "from sklearn.decomposition import PCA\n",
    "from Factors import Factors"
   ],
   "metadata": {
    "collapsed": false
   }
  },
  {
   "cell_type": "code",
   "execution_count": 22,
   "outputs": [],
   "source": [
    "factors = Factors(window=240, start=\"2021-09-26 00:00:00\", finish=\"2022-09-25 00:00:00\", coins_file='data/coin_universe_150K_40.csv', prices_file='data/coin_all_prices.csv')"
   ],
   "metadata": {
    "collapsed": false
   }
  },
  {
   "cell_type": "code",
   "execution_count": 25,
   "outputs": [],
   "source": [
    "temp = factors.symbols_df.corr() # Sigma_t"
   ],
   "metadata": {
    "collapsed": false
   }
  },
  {
   "cell_type": "code",
   "execution_count": null,
   "outputs": [],
   "source": [],
   "metadata": {
    "collapsed": false
   }
  },
  {
   "cell_type": "code",
   "execution_count": 26,
   "outputs": [
    {
     "data": {
      "text/plain": "array([[-4.4986516 ,  0.87917237],\n       [-4.50234406,  1.45482427],\n       [ 1.3101435 , -2.42998338],\n       [-3.11553426,  2.00447769],\n       [ 6.57542093,  4.03807115],\n       [ 1.51764154, -3.06328603],\n       [-4.35671969,  1.44614414],\n       [ 1.82772231,  0.95914808],\n       [ 6.41501882,  2.95648858],\n       [-3.09376109,  2.46017517],\n       [ 0.65440918, -3.07487841],\n       [ 6.43349517,  2.62821334],\n       [-3.58574746, -0.88107926],\n       [ 5.72129421, -0.07202061],\n       [ 0.83676021, -3.21722774],\n       [-3.60163925,  1.36061451],\n       [-4.03279236,  2.46418933],\n       [-4.34492644,  1.85501453],\n       [-2.55409623, -1.16395592],\n       [-4.39975879,  0.91751794],\n       [ 3.84327248, -2.37675932],\n       [-1.6835542 , -2.23407918],\n       [-3.98142969,  1.2682206 ],\n       [ 3.63903254, -1.71280872],\n       [ 3.7087949 ,  1.23658812],\n       [-3.44578642, -0.98524178],\n       [ 6.93438847,  2.69776399],\n       [ 0.67317891, -2.67668341],\n       [-4.09999774,  1.48053377],\n       [ 2.89645305, -2.99915796],\n       [-3.43990776,  0.17816789],\n       [-0.21289502, -1.8032534 ],\n       [-4.50176625,  1.95539073],\n       [-3.58610796,  2.49738458],\n       [ 2.98339148, -2.50159514],\n       [-1.13202208, -2.42918084],\n       [ 3.11969658, -2.58307083],\n       [ 5.62536921,  2.36880915],\n       [-2.67577592,  0.16422716],\n       [-3.12624625,  0.48558669],\n       [-3.59669041,  1.03457257],\n       [-2.69816403,  0.43299711],\n       [ 6.27921056,  0.4721412 ],\n       [ 1.16703184, -2.32252255],\n       [-0.45116749, -1.22408534],\n       [ 2.15884209, -3.22515838],\n       [ 4.28258417, -1.59301063],\n       [ 6.711571  ,  3.21085611],\n       [ 3.05211845,  2.50462331],\n       [-1.87007679, -2.5384001 ],\n       [ 1.24811705, -3.06274693],\n       [-2.42410167, -1.63171166],\n       [ 5.48323632,  2.45242979],\n       [ 6.00150125,  3.84322547],\n       [ 4.16924813, -1.61434434],\n       [ 5.99791097,  3.0018616 ],\n       [-3.90794384,  1.81288198],\n       [ 4.03039266,  2.68879676],\n       [ 0.48968441, -3.22755911],\n       [-1.22529531, -2.77764758],\n       [-3.55887005,  2.23911226],\n       [ 3.54792642, -2.14300706],\n       [ 6.93269369,  2.69594004],\n       [ 1.15962548,  2.27978165],\n       [ 4.0335342 , -2.03502873],\n       [ 4.65844066,  0.17831692],\n       [ 4.90398827,  3.38776443],\n       [ 7.79541938,  1.78565416],\n       [-3.72263218,  1.80906568],\n       [-4.54924352,  0.39603836],\n       [ 4.74509139,  0.77548178],\n       [ 1.91033495, -2.55525926],\n       [-4.43902988,  0.36278783],\n       [ 4.3923109 , -2.41175679],\n       [-3.00698336,  1.29634126],\n       [ 1.67551685, -2.49483347],\n       [-0.75944334,  0.45594694],\n       [-3.90500422,  0.43972616],\n       [ 1.00356283, -2.83574585],\n       [-3.48295215,  1.54888524],\n       [-2.24538728, -0.43027095],\n       [ 6.09715716,  3.5175228 ],\n       [-0.50875671, -1.7006111 ],\n       [-3.04435627, -1.31796159],\n       [-4.22882717,  0.66034841],\n       [ 3.01504426,  0.75808704],\n       [ 6.36829414,  1.29535367],\n       [-3.14087196, -1.24846185],\n       [ 0.41107346, -2.71141052],\n       [-0.78890131, -0.98212187],\n       [-2.75757968,  0.94922461],\n       [-4.02737345, -0.6494296 ],\n       [-4.05633309,  0.52814441],\n       [-3.81535678,  0.22707707],\n       [ 4.80095125, -0.78599634],\n       [-4.23127246,  1.80891109],\n       [ 3.90454397, -2.32864873],\n       [-0.74833408, -3.13158915],\n       [ 2.88211247, -2.63719762],\n       [-3.37953737,  0.40952198],\n       [ 0.20283416,  0.80636074],\n       [-4.01327896,  2.66750588],\n       [ 0.99201002, -3.39378852],\n       [ 4.65202754,  0.17605836],\n       [ 1.68896292, -2.56824044],\n       [-4.30516285,  0.10661616],\n       [-1.57927584,  0.83469282],\n       [ 5.21292787,  2.31690561],\n       [-3.07460566,  0.29755051],\n       [-1.37121554, -1.64289094],\n       [-4.35370825,  1.63808459],\n       [-4.54208857,  1.20933616],\n       [ 1.40053758, -3.19170945],\n       [-4.02673764, -0.15790762],\n       [ 5.72919599, -1.04498058],\n       [-3.70905188, -0.67897626],\n       [-2.72688461,  0.07314489],\n       [-4.09653173,  2.43921539],\n       [-4.72680983,  1.36382903],\n       [-1.54497377, -0.86018455],\n       [ 3.42122101,  0.59853695],\n       [-3.50456509, -0.73404479],\n       [-4.28899417,  0.89054038],\n       [-2.8685687 , -1.36288703],\n       [-4.04987181,  1.02186825]])"
     },
     "execution_count": 26,
     "metadata": {},
     "output_type": "execute_result"
    }
   ],
   "source": [
    "pca = PCA(n_components=2).fit(temp)"
   ],
   "metadata": {
    "collapsed": false
   }
  },
  {
   "cell_type": "markdown",
   "source": [
    "## After M Code"
   ],
   "metadata": {
    "collapsed": false
   }
  },
  {
   "cell_type": "code",
   "execution_count": 1,
   "outputs": [],
   "source": [
    "from Factors import Factors"
   ],
   "metadata": {
    "collapsed": false
   }
  },
  {
   "cell_type": "code",
   "execution_count": 2,
   "outputs": [],
   "source": [
    "test = Factors(240, '2021-03-08 05:00:00', '2022-09-25 23:00:00')"
   ],
   "metadata": {
    "collapsed": false
   }
  },
  {
   "cell_type": "code",
   "execution_count": null,
   "outputs": [],
   "source": [
    "def get_pca(self, df):\n",
    "    emp_corr = self.get_corr_mat(df)\n",
    "    pca_model = PCA(n_components=2)\n",
    "    pca_model.fit(emp_corr)\n",
    "    # Returns the eigen vectors\n",
    "    return pca_model.transform(emp_corr).components_"
   ],
   "metadata": {
    "collapsed": false
   }
  },
  {
   "cell_type": "code",
   "execution_count": 30,
   "outputs": [
    {
     "data": {
      "text/plain": "                          BTC       ETH       BNB       XRP       SOL  \\\nstartTime                                                               \n2022-09-15 23:00:00 -0.745454 -1.045223 -1.132784 -0.370914 -0.900836   \n2022-09-16 00:00:00 -0.186393 -0.086114  0.693775 -0.135581  0.149597   \n2022-09-16 01:00:00  0.681944  0.798607  1.803750  0.162402  0.593221   \n2022-09-16 02:00:00 -0.367845 -0.755240 -0.681418 -0.711195 -0.946430   \n2022-09-16 03:00:00  0.178785 -0.282408 -0.200232 -0.118116 -0.927530   \n...                       ...       ...       ...       ...       ...   \n2022-09-25 17:00:00 -0.123485 -0.552270 -0.860300 -1.107209 -1.149998   \n2022-09-25 18:00:00  0.295594 -0.432877  0.767673  0.958272  0.560644   \n2022-09-25 19:00:00 -0.573428  0.009367  0.056102 -0.454858 -0.667568   \n2022-09-25 20:00:00 -0.108113  0.322297 -0.223197 -0.043758 -0.492818   \n2022-09-25 21:00:00 -0.076496 -0.557393 -0.074542 -0.465100 -0.764084   \n\n                         DOGE       DOT      SHIB       TRX     MATIC  ...  \\\nstartTime                                                              ...   \n2022-09-15 23:00:00 -1.107577 -0.856515 -0.743606 -0.852077 -0.906953  ...   \n2022-09-16 00:00:00 -0.749044  0.380351 -0.064597  0.106098 -0.758737  ...   \n2022-09-16 01:00:00  0.586554  0.774988 -0.064670  1.272056  0.887949  ...   \n2022-09-16 02:00:00  0.172639 -0.766232 -0.150500 -0.775424 -0.643341  ...   \n2022-09-16 03:00:00  0.328219 -0.411856 -0.494406 -0.379080 -0.872652  ...   \n...                       ...       ...       ...       ...       ...  ...   \n2022-09-25 17:00:00 -0.564967 -0.817866 -0.513157 -0.963312 -0.700249  ...   \n2022-09-25 18:00:00  0.294996  0.295927 -0.247502  0.695545  0.164918  ...   \n2022-09-25 19:00:00 -0.012684 -0.023909  0.021013  0.406416  0.197603  ...   \n2022-09-25 20:00:00 -0.696499  0.015987 -0.068732 -0.488402 -0.155015  ...   \n2022-09-25 21:00:00 -0.644462 -0.523490 -0.607765 -0.456234 -0.648025  ...   \n\n                          FTM       SNX      COMP       GMT     1INCH  \\\nstartTime                                                               \n2022-09-15 23:00:00 -0.939353 -0.904613  0.318666 -1.434068 -1.081932   \n2022-09-16 00:00:00 -0.216989 -0.290768 -0.651835  0.725708 -0.312398   \n2022-09-16 01:00:00  1.346946  0.293917 -0.106528  0.619588  0.869267   \n2022-09-16 02:00:00 -0.389558 -0.680560 -1.180383 -0.380485 -0.575818   \n2022-09-16 03:00:00 -0.566403 -0.195322 -1.798124 -0.653383  0.087041   \n...                       ...       ...       ...       ...       ...   \n2022-09-25 17:00:00 -0.713060 -0.575888  0.399346 -0.542698 -0.354503   \n2022-09-25 18:00:00  0.599207  0.809431  0.483845  0.060698  0.083386   \n2022-09-25 19:00:00 -0.072185 -0.235636 -0.247478  0.024501 -0.665964   \n2022-09-25 20:00:00 -0.313253 -0.066255 -0.074866 -0.038839 -1.000705   \n2022-09-25 21:00:00 -0.502216 -0.726345 -0.520410 -1.007682 -0.916792   \n\n                          CRV       RSR      GALA       FXS       SRM  \nstartTime                                                              \n2022-09-15 23:00:00 -0.798820 -0.551153 -0.636559 -0.613420 -0.871927  \n2022-09-16 00:00:00 -0.254639 -0.154443  0.182585  0.504504 -0.575954  \n2022-09-16 01:00:00  1.761491  0.131376  0.770129  0.782896  0.638255  \n2022-09-16 02:00:00 -1.710576 -0.325220 -0.811007 -1.445775 -0.727347  \n2022-09-16 03:00:00 -0.806889 -0.097319 -0.052795 -0.001005 -0.122735  \n...                       ...       ...       ...       ...       ...  \n2022-09-25 17:00:00 -0.332118  0.220228 -0.740106 -0.309609 -0.448022  \n2022-09-25 18:00:00 -0.466707 -0.413338  0.673115 -0.170157 -0.130231  \n2022-09-25 19:00:00 -0.192608 -0.176705 -0.002282  0.323582  0.189678  \n2022-09-25 20:00:00 -0.297566 -0.852405 -0.405815  0.534725 -0.290079  \n2022-09-25 21:00:00 -0.428578 -1.263220 -0.542892  0.252214 -0.290932  \n\n[239 rows x 40 columns]",
      "text/html": "<div>\n<style scoped>\n    .dataframe tbody tr th:only-of-type {\n        vertical-align: middle;\n    }\n\n    .dataframe tbody tr th {\n        vertical-align: top;\n    }\n\n    .dataframe thead th {\n        text-align: right;\n    }\n</style>\n<table border=\"1\" class=\"dataframe\">\n  <thead>\n    <tr style=\"text-align: right;\">\n      <th></th>\n      <th>BTC</th>\n      <th>ETH</th>\n      <th>BNB</th>\n      <th>XRP</th>\n      <th>SOL</th>\n      <th>DOGE</th>\n      <th>DOT</th>\n      <th>SHIB</th>\n      <th>TRX</th>\n      <th>MATIC</th>\n      <th>...</th>\n      <th>FTM</th>\n      <th>SNX</th>\n      <th>COMP</th>\n      <th>GMT</th>\n      <th>1INCH</th>\n      <th>CRV</th>\n      <th>RSR</th>\n      <th>GALA</th>\n      <th>FXS</th>\n      <th>SRM</th>\n    </tr>\n    <tr>\n      <th>startTime</th>\n      <th></th>\n      <th></th>\n      <th></th>\n      <th></th>\n      <th></th>\n      <th></th>\n      <th></th>\n      <th></th>\n      <th></th>\n      <th></th>\n      <th></th>\n      <th></th>\n      <th></th>\n      <th></th>\n      <th></th>\n      <th></th>\n      <th></th>\n      <th></th>\n      <th></th>\n      <th></th>\n      <th></th>\n    </tr>\n  </thead>\n  <tbody>\n    <tr>\n      <th>2022-09-15 23:00:00</th>\n      <td>-0.745454</td>\n      <td>-1.045223</td>\n      <td>-1.132784</td>\n      <td>-0.370914</td>\n      <td>-0.900836</td>\n      <td>-1.107577</td>\n      <td>-0.856515</td>\n      <td>-0.743606</td>\n      <td>-0.852077</td>\n      <td>-0.906953</td>\n      <td>...</td>\n      <td>-0.939353</td>\n      <td>-0.904613</td>\n      <td>0.318666</td>\n      <td>-1.434068</td>\n      <td>-1.081932</td>\n      <td>-0.798820</td>\n      <td>-0.551153</td>\n      <td>-0.636559</td>\n      <td>-0.613420</td>\n      <td>-0.871927</td>\n    </tr>\n    <tr>\n      <th>2022-09-16 00:00:00</th>\n      <td>-0.186393</td>\n      <td>-0.086114</td>\n      <td>0.693775</td>\n      <td>-0.135581</td>\n      <td>0.149597</td>\n      <td>-0.749044</td>\n      <td>0.380351</td>\n      <td>-0.064597</td>\n      <td>0.106098</td>\n      <td>-0.758737</td>\n      <td>...</td>\n      <td>-0.216989</td>\n      <td>-0.290768</td>\n      <td>-0.651835</td>\n      <td>0.725708</td>\n      <td>-0.312398</td>\n      <td>-0.254639</td>\n      <td>-0.154443</td>\n      <td>0.182585</td>\n      <td>0.504504</td>\n      <td>-0.575954</td>\n    </tr>\n    <tr>\n      <th>2022-09-16 01:00:00</th>\n      <td>0.681944</td>\n      <td>0.798607</td>\n      <td>1.803750</td>\n      <td>0.162402</td>\n      <td>0.593221</td>\n      <td>0.586554</td>\n      <td>0.774988</td>\n      <td>-0.064670</td>\n      <td>1.272056</td>\n      <td>0.887949</td>\n      <td>...</td>\n      <td>1.346946</td>\n      <td>0.293917</td>\n      <td>-0.106528</td>\n      <td>0.619588</td>\n      <td>0.869267</td>\n      <td>1.761491</td>\n      <td>0.131376</td>\n      <td>0.770129</td>\n      <td>0.782896</td>\n      <td>0.638255</td>\n    </tr>\n    <tr>\n      <th>2022-09-16 02:00:00</th>\n      <td>-0.367845</td>\n      <td>-0.755240</td>\n      <td>-0.681418</td>\n      <td>-0.711195</td>\n      <td>-0.946430</td>\n      <td>0.172639</td>\n      <td>-0.766232</td>\n      <td>-0.150500</td>\n      <td>-0.775424</td>\n      <td>-0.643341</td>\n      <td>...</td>\n      <td>-0.389558</td>\n      <td>-0.680560</td>\n      <td>-1.180383</td>\n      <td>-0.380485</td>\n      <td>-0.575818</td>\n      <td>-1.710576</td>\n      <td>-0.325220</td>\n      <td>-0.811007</td>\n      <td>-1.445775</td>\n      <td>-0.727347</td>\n    </tr>\n    <tr>\n      <th>2022-09-16 03:00:00</th>\n      <td>0.178785</td>\n      <td>-0.282408</td>\n      <td>-0.200232</td>\n      <td>-0.118116</td>\n      <td>-0.927530</td>\n      <td>0.328219</td>\n      <td>-0.411856</td>\n      <td>-0.494406</td>\n      <td>-0.379080</td>\n      <td>-0.872652</td>\n      <td>...</td>\n      <td>-0.566403</td>\n      <td>-0.195322</td>\n      <td>-1.798124</td>\n      <td>-0.653383</td>\n      <td>0.087041</td>\n      <td>-0.806889</td>\n      <td>-0.097319</td>\n      <td>-0.052795</td>\n      <td>-0.001005</td>\n      <td>-0.122735</td>\n    </tr>\n    <tr>\n      <th>...</th>\n      <td>...</td>\n      <td>...</td>\n      <td>...</td>\n      <td>...</td>\n      <td>...</td>\n      <td>...</td>\n      <td>...</td>\n      <td>...</td>\n      <td>...</td>\n      <td>...</td>\n      <td>...</td>\n      <td>...</td>\n      <td>...</td>\n      <td>...</td>\n      <td>...</td>\n      <td>...</td>\n      <td>...</td>\n      <td>...</td>\n      <td>...</td>\n      <td>...</td>\n      <td>...</td>\n    </tr>\n    <tr>\n      <th>2022-09-25 17:00:00</th>\n      <td>-0.123485</td>\n      <td>-0.552270</td>\n      <td>-0.860300</td>\n      <td>-1.107209</td>\n      <td>-1.149998</td>\n      <td>-0.564967</td>\n      <td>-0.817866</td>\n      <td>-0.513157</td>\n      <td>-0.963312</td>\n      <td>-0.700249</td>\n      <td>...</td>\n      <td>-0.713060</td>\n      <td>-0.575888</td>\n      <td>0.399346</td>\n      <td>-0.542698</td>\n      <td>-0.354503</td>\n      <td>-0.332118</td>\n      <td>0.220228</td>\n      <td>-0.740106</td>\n      <td>-0.309609</td>\n      <td>-0.448022</td>\n    </tr>\n    <tr>\n      <th>2022-09-25 18:00:00</th>\n      <td>0.295594</td>\n      <td>-0.432877</td>\n      <td>0.767673</td>\n      <td>0.958272</td>\n      <td>0.560644</td>\n      <td>0.294996</td>\n      <td>0.295927</td>\n      <td>-0.247502</td>\n      <td>0.695545</td>\n      <td>0.164918</td>\n      <td>...</td>\n      <td>0.599207</td>\n      <td>0.809431</td>\n      <td>0.483845</td>\n      <td>0.060698</td>\n      <td>0.083386</td>\n      <td>-0.466707</td>\n      <td>-0.413338</td>\n      <td>0.673115</td>\n      <td>-0.170157</td>\n      <td>-0.130231</td>\n    </tr>\n    <tr>\n      <th>2022-09-25 19:00:00</th>\n      <td>-0.573428</td>\n      <td>0.009367</td>\n      <td>0.056102</td>\n      <td>-0.454858</td>\n      <td>-0.667568</td>\n      <td>-0.012684</td>\n      <td>-0.023909</td>\n      <td>0.021013</td>\n      <td>0.406416</td>\n      <td>0.197603</td>\n      <td>...</td>\n      <td>-0.072185</td>\n      <td>-0.235636</td>\n      <td>-0.247478</td>\n      <td>0.024501</td>\n      <td>-0.665964</td>\n      <td>-0.192608</td>\n      <td>-0.176705</td>\n      <td>-0.002282</td>\n      <td>0.323582</td>\n      <td>0.189678</td>\n    </tr>\n    <tr>\n      <th>2022-09-25 20:00:00</th>\n      <td>-0.108113</td>\n      <td>0.322297</td>\n      <td>-0.223197</td>\n      <td>-0.043758</td>\n      <td>-0.492818</td>\n      <td>-0.696499</td>\n      <td>0.015987</td>\n      <td>-0.068732</td>\n      <td>-0.488402</td>\n      <td>-0.155015</td>\n      <td>...</td>\n      <td>-0.313253</td>\n      <td>-0.066255</td>\n      <td>-0.074866</td>\n      <td>-0.038839</td>\n      <td>-1.000705</td>\n      <td>-0.297566</td>\n      <td>-0.852405</td>\n      <td>-0.405815</td>\n      <td>0.534725</td>\n      <td>-0.290079</td>\n    </tr>\n    <tr>\n      <th>2022-09-25 21:00:00</th>\n      <td>-0.076496</td>\n      <td>-0.557393</td>\n      <td>-0.074542</td>\n      <td>-0.465100</td>\n      <td>-0.764084</td>\n      <td>-0.644462</td>\n      <td>-0.523490</td>\n      <td>-0.607765</td>\n      <td>-0.456234</td>\n      <td>-0.648025</td>\n      <td>...</td>\n      <td>-0.502216</td>\n      <td>-0.726345</td>\n      <td>-0.520410</td>\n      <td>-1.007682</td>\n      <td>-0.916792</td>\n      <td>-0.428578</td>\n      <td>-1.263220</td>\n      <td>-0.542892</td>\n      <td>0.252214</td>\n      <td>-0.290932</td>\n    </tr>\n  </tbody>\n</table>\n<p>239 rows × 40 columns</p>\n</div>"
     },
     "execution_count": 30,
     "metadata": {},
     "output_type": "execute_result"
    }
   ],
   "source": [
    "test.get_standardize_rets(test.returns_df[used_symbols].iloc[time_idx - test.M:time_idx - 1])"
   ],
   "metadata": {
    "collapsed": false
   }
  },
  {
   "cell_type": "code",
   "execution_count": 31,
   "outputs": [
    {
     "data": {
      "text/plain": "array([0.00666259, 0.00936335, 0.005592  , 0.01748996, 0.00851712,\n       0.00826365, 0.00802722, 0.00996661, 0.00377695, 0.00866628,\n       0.00871082, 0.00923512, 0.0144445 , 0.01003696, 0.00881077,\n       0.00657196, 0.01048349, 0.00921054, 0.01359878, 0.00810655,\n       0.01572681, 0.0150628 , 0.00894067, 0.00716507, 0.00997348,\n       0.00910969, 0.01211732, 0.00949106, 0.0085436 , 0.01855533,\n       0.00823744, 0.00991372, 0.01281575, 0.00881877, 0.00886721,\n       0.01114445, 0.01522244, 0.00901769, 0.00828473, 0.00831906])"
     },
     "execution_count": 31,
     "metadata": {},
     "output_type": "execute_result"
    }
   ],
   "source": [
    "test.asset_std"
   ],
   "metadata": {
    "collapsed": false
   }
  },
  {
   "cell_type": "code",
   "execution_count": 20,
   "outputs": [
    {
     "data": {
      "text/plain": "<IPython.core.display.Javascript object>",
      "application/javascript": "\n        if (window._pyforest_update_imports_cell) { window._pyforest_update_imports_cell('import datetime as dt\\nfrom sklearn.linear_model import LogisticRegression\\nimport pickle\\nfrom sklearn.linear_model import ElasticNet\\nimport re\\nimport torch\\nfrom sklearn.feature_extraction.text import CountVectorizer\\nimport tqdm\\nfrom sklearn.linear_model import RidgeCV\\nfrom scipy import signal as sg\\nfrom sklearn import metrics\\nfrom sklearn.manifold import TSNE\\nfrom sklearn.linear_model import ElasticNetCV\\nimport os\\nimport statistics\\nimport numpy as np\\nimport bokeh\\nimport keras\\nfrom pathlib import Path\\nimport cv2\\nfrom sklearn.preprocessing import StandardScaler\\nfrom sklearn.preprocessing import PolynomialFeatures\\nfrom sklearn.linear_model import Lasso\\nimport pandas as pd\\nfrom sklearn.linear_model import LinearRegression\\nfrom sklearn.model_selection import cross_val_score\\nfrom sklearn.model_selection import train_test_split\\nfrom sklearn.model_selection import StratifiedKFold\\nimport spacy\\nfrom statsmodels.tsa.arima_model import ARIMA\\nimport altair as alt\\nimport pydot\\nfrom sklearn.decomposition import PCA\\nfrom sklearn import svm\\nimport matplotlib as mpl\\nimport sklearn\\nfrom sklearn.preprocessing import OneHotEncoder\\nfrom sklearn.cluster import KMeans\\nimport textblob\\nfrom xlrd import open_workbook\\nfrom sklearn.ensemble import GradientBoostingRegressor\\nimport glob\\nfrom openpyxl import load_workbook\\nfrom sklearn.model_selection import RandomizedSearchCV\\nimport xgboost as xgb\\nimport lightgbm as lgb\\nimport tensorflow as tf\\nimport matplotlib.pyplot as plt\\nfrom sklearn.model_selection import GridSearchCV\\nfrom sklearn.impute import SimpleImputer\\nfrom sklearn.preprocessing import MinMaxScaler\\nfrom sklearn.linear_model import Ridge\\nfrom sklearn.feature_extraction.text import TfidfVectorizer\\nimport plotly.graph_objs as go\\nimport plotly.express as px\\nfrom sklearn.ensemble import GradientBoostingClassifier\\nfrom sklearn.linear_model import LassoCV\\nfrom scipy import stats\\nimport statsmodels.api as sm\\nfrom sklearn.preprocessing import LabelEncoder\\nimport nltk\\nimport plotly as py\\nfrom sklearn.ensemble import RandomForestRegressor\\nfrom sklearn.model_selection import KFold\\nfrom sklearn.ensemble import RandomForestClassifier\\nfrom PIL import Image\\nimport seaborn as sns\\nfrom sklearn.preprocessing import RobustScaler'); }\n    "
     },
     "metadata": {},
     "output_type": "display_data"
    },
    {
     "data": {
      "text/plain": "PCA(n_components=2)",
      "text/html": "<style>#sk-container-id-1 {color: black;background-color: white;}#sk-container-id-1 pre{padding: 0;}#sk-container-id-1 div.sk-toggleable {background-color: white;}#sk-container-id-1 label.sk-toggleable__label {cursor: pointer;display: block;width: 100%;margin-bottom: 0;padding: 0.3em;box-sizing: border-box;text-align: center;}#sk-container-id-1 label.sk-toggleable__label-arrow:before {content: \"▸\";float: left;margin-right: 0.25em;color: #696969;}#sk-container-id-1 label.sk-toggleable__label-arrow:hover:before {color: black;}#sk-container-id-1 div.sk-estimator:hover label.sk-toggleable__label-arrow:before {color: black;}#sk-container-id-1 div.sk-toggleable__content {max-height: 0;max-width: 0;overflow: hidden;text-align: left;background-color: #f0f8ff;}#sk-container-id-1 div.sk-toggleable__content pre {margin: 0.2em;color: black;border-radius: 0.25em;background-color: #f0f8ff;}#sk-container-id-1 input.sk-toggleable__control:checked~div.sk-toggleable__content {max-height: 200px;max-width: 100%;overflow: auto;}#sk-container-id-1 input.sk-toggleable__control:checked~label.sk-toggleable__label-arrow:before {content: \"▾\";}#sk-container-id-1 div.sk-estimator input.sk-toggleable__control:checked~label.sk-toggleable__label {background-color: #d4ebff;}#sk-container-id-1 div.sk-label input.sk-toggleable__control:checked~label.sk-toggleable__label {background-color: #d4ebff;}#sk-container-id-1 input.sk-hidden--visually {border: 0;clip: rect(1px 1px 1px 1px);clip: rect(1px, 1px, 1px, 1px);height: 1px;margin: -1px;overflow: hidden;padding: 0;position: absolute;width: 1px;}#sk-container-id-1 div.sk-estimator {font-family: monospace;background-color: #f0f8ff;border: 1px dotted black;border-radius: 0.25em;box-sizing: border-box;margin-bottom: 0.5em;}#sk-container-id-1 div.sk-estimator:hover {background-color: #d4ebff;}#sk-container-id-1 div.sk-parallel-item::after {content: \"\";width: 100%;border-bottom: 1px solid gray;flex-grow: 1;}#sk-container-id-1 div.sk-label:hover label.sk-toggleable__label {background-color: #d4ebff;}#sk-container-id-1 div.sk-serial::before {content: \"\";position: absolute;border-left: 1px solid gray;box-sizing: border-box;top: 0;bottom: 0;left: 50%;z-index: 0;}#sk-container-id-1 div.sk-serial {display: flex;flex-direction: column;align-items: center;background-color: white;padding-right: 0.2em;padding-left: 0.2em;position: relative;}#sk-container-id-1 div.sk-item {position: relative;z-index: 1;}#sk-container-id-1 div.sk-parallel {display: flex;align-items: stretch;justify-content: center;background-color: white;position: relative;}#sk-container-id-1 div.sk-item::before, #sk-container-id-1 div.sk-parallel-item::before {content: \"\";position: absolute;border-left: 1px solid gray;box-sizing: border-box;top: 0;bottom: 0;left: 50%;z-index: -1;}#sk-container-id-1 div.sk-parallel-item {display: flex;flex-direction: column;z-index: 1;position: relative;background-color: white;}#sk-container-id-1 div.sk-parallel-item:first-child::after {align-self: flex-end;width: 50%;}#sk-container-id-1 div.sk-parallel-item:last-child::after {align-self: flex-start;width: 50%;}#sk-container-id-1 div.sk-parallel-item:only-child::after {width: 0;}#sk-container-id-1 div.sk-dashed-wrapped {border: 1px dashed gray;margin: 0 0.4em 0.5em 0.4em;box-sizing: border-box;padding-bottom: 0.4em;background-color: white;}#sk-container-id-1 div.sk-label label {font-family: monospace;font-weight: bold;display: inline-block;line-height: 1.2em;}#sk-container-id-1 div.sk-label-container {text-align: center;}#sk-container-id-1 div.sk-container {/* jupyter's `normalize.less` sets `[hidden] { display: none; }` but bootstrap.min.css set `[hidden] { display: none !important; }` so we also need the `!important` here to be able to override the default hidden behavior on the sphinx rendered scikit-learn.org. See: https://github.com/scikit-learn/scikit-learn/issues/21755 */display: inline-block !important;position: relative;}#sk-container-id-1 div.sk-text-repr-fallback {display: none;}</style><div id=\"sk-container-id-1\" class=\"sk-top-container\"><div class=\"sk-text-repr-fallback\"><pre>PCA(n_components=2)</pre><b>In a Jupyter environment, please rerun this cell to show the HTML representation or trust the notebook. <br />On GitHub, the HTML representation is unable to render, please try loading this page with nbviewer.org.</b></div><div class=\"sk-container\" hidden><div class=\"sk-item\"><div class=\"sk-estimator sk-toggleable\"><input class=\"sk-toggleable__control sk-hidden--visually\" id=\"sk-estimator-id-1\" type=\"checkbox\" checked><label for=\"sk-estimator-id-1\" class=\"sk-toggleable__label sk-toggleable__label-arrow\">PCA</label><div class=\"sk-toggleable__content\"><pre>PCA(n_components=2)</pre></div></div></div></div></div>"
     },
     "execution_count": 20,
     "metadata": {},
     "output_type": "execute_result"
    }
   ],
   "source": [
    "emp_corr = test.get_corr_mat(st_rets)\n",
    "pca_model = PCA(n_components=2)\n",
    "pca_model.fit(emp_corr)"
   ],
   "metadata": {
    "collapsed": false
   }
  },
  {
   "cell_type": "code",
   "execution_count": 39,
   "outputs": [
    {
     "data": {
      "text/plain": "1.0020986381949977"
     },
     "execution_count": 39,
     "metadata": {},
     "output_type": "execute_result"
    }
   ],
   "source": [
    "st_rets['BTC'].std()"
   ],
   "metadata": {
    "collapsed": false
   }
  },
  {
   "cell_type": "code",
   "execution_count": 32,
   "outputs": [
    {
     "data": {
      "text/plain": "array([[-27.85419315, -20.95219027, -32.25858143,  -4.70890472,\n        -21.4816824 , -19.5448842 , -23.28722867, -15.47575006,\n        -45.20864026, -22.15601897, -20.97409366, -19.74310537,\n         -6.31533069, -16.490234  , -19.7731025 , -29.74060168,\n        -12.17125882, -21.29243929,  -4.30958035, -21.35110044,\n         -5.56057571,  -3.10394272, -19.95334466, -26.10150353,\n        -16.34775111, -21.23325923, -13.26066052, -18.89779384,\n        -18.97623254,  -2.72218956, -22.82359218, -14.96960988,\n         -4.69512104, -19.92320657, -18.62506798, -16.00461861,\n         -3.24059315, -19.80049181,  -1.92627355, -21.30867101],\n       [ 31.77066557,  20.64582249,  -3.09830002,  -8.81557578,\n         -3.56529949,  11.46160657,   4.14428363,  19.88346735,\n         -0.29476523,   0.5444701 ,   0.27058979,  -9.00947828,\n         -7.62663751,  -3.08176367,   9.80927701,  23.71262273,\n        -11.54779734,  -1.56828824, -30.33711486, -10.00822127,\n          7.26294895, -25.59395965,  -4.22990515,  -9.80644468,\n         -6.99122878,   3.15774667,   3.20845916,  -3.43851047,\n          2.61321901,  19.50268361,  -0.82736137,   4.45837356,\n        -25.81360427,  -2.27742319, -13.44513089,   0.53007881,\n        -16.35976364,   0.29325122,  37.98136279,  -8.62215563]])"
     },
     "execution_count": 32,
     "metadata": {},
     "output_type": "execute_result"
    }
   ],
   "source": [
    "pca_model.components_ / test.asset_std"
   ],
   "metadata": {
    "collapsed": false
   }
  },
  {
   "cell_type": "code",
   "execution_count": 3,
   "outputs": [
    {
     "data": {
      "text/plain": "array([[-4.38226794, -0.27856072],\n       [-4.50089408, -0.27255015],\n       [-4.47829111, -0.03627233],\n       [-3.23075863,  0.18159113],\n       [-4.63087559, -0.02151469],\n       [-4.01942494, -0.17751929],\n       [-4.83969458, -0.06310755],\n       [-4.00610779, -0.24743194],\n       [-4.53215179, -0.02122083],\n       [-4.92684557, -0.03744129],\n       [-4.74990015, -0.02776144],\n       [-4.71277838,  0.05762732],\n       [-3.55482598,  0.21672121],\n       [-4.47303666,  0.01159203],\n       [-4.52029697, -0.11549462],\n       [-4.77239376, -0.20988204],\n       [-3.94593933,  0.12520285],\n       [-4.80236711, -0.039917  ],\n       [-3.08494859,  0.47168597],\n       [-4.52869783,  0.05097366],\n       [-3.21990202, -0.06071603],\n       [-2.85603099,  0.50465602],\n       [-4.58416653,  0.01200904],\n       [-4.91164374,  0.04544098],\n       [-4.46314358,  0.05082461],\n       [-4.89923042, -0.06499481],\n       [-4.18326707, -0.06868369],\n       [-4.64331486,  0.00859025],\n       [-4.58949455, -0.01209148],\n       [-2.62523365, -0.27477054],\n       [-4.91909862, -0.02435025],\n       [-4.48551698,  0.01208667],\n       [-3.00098785,  0.43630051],\n       [-4.50536061, -0.0222663 ],\n       [-4.55671434,  0.11410188],\n       [-4.68889388, -0.01803566],\n       [-2.95930329,  0.36543442],\n       [-4.71629216, -0.02553848],\n       [-2.32453641, -0.0733732 ],\n       [-4.66860222,  0.04490499]])"
     },
     "execution_count": 3,
     "metadata": {},
     "output_type": "execute_result"
    }
   ],
   "source": [
    "eigen_vectors = test.test_pca(\"2022-09-25 23:00:00\")\n",
    "eigen_vectors"
   ],
   "metadata": {
    "collapsed": false
   }
  },
  {
   "cell_type": "code",
   "execution_count": 5,
   "outputs": [],
   "source": [
    "time = '2022-09-25 23:00:00'"
   ],
   "metadata": {
    "collapsed": false
   }
  },
  {
   "cell_type": "code",
   "execution_count": 6,
   "outputs": [],
   "source": [
    "used_symbols = list(test.symbols_df.loc[time])\n",
    "time_idx = test.returns_df.index.get_loc(time)"
   ],
   "metadata": {
    "collapsed": false
   }
  },
  {
   "cell_type": "code",
   "execution_count": 11,
   "outputs": [],
   "source": [
    "st_rets = test.get_standardize_rets(test.returns_df[used_symbols].iloc[time_idx - test.M:time_idx - 1])"
   ],
   "metadata": {
    "collapsed": false
   }
  },
  {
   "cell_type": "code",
   "execution_count": 16,
   "outputs": [
    {
     "data": {
      "text/plain": "array([[-6.57742322e+02, -4.80692825e+02, -8.00838339e+02,\n        -1.84720765e+02, -5.43714052e+02, -4.86397981e+02,\n        -6.02910323e+02, -4.01952747e+02, -1.19994915e+03,\n        -5.68507376e+02, -5.45287502e+02, -5.10310660e+02,\n        -2.46102374e+02, -4.45656492e+02, -5.13042108e+02,\n        -7.26175192e+02, -3.76395436e+02, -5.21399195e+02,\n        -2.26854782e+02, -5.58646530e+02, -2.04739713e+02,\n        -1.89608257e+02, -5.12731752e+02, -6.85498008e+02,\n        -4.47500970e+02, -5.37804119e+02, -3.45230465e+02,\n        -4.89230522e+02, -5.37185326e+02, -1.41481370e+02,\n        -5.97163508e+02, -4.52455293e+02, -2.34164105e+02,\n        -5.10883042e+02, -5.13883745e+02, -4.20738097e+02,\n        -1.94403998e+02, -5.23004324e+02, -2.80580974e+02,\n        -5.61193657e+02],\n       [-4.18096694e+01, -2.91081951e+01, -6.48646393e+00,\n         1.03825931e+01, -2.52605304e+00, -2.14819352e+01,\n        -7.86169261e+00, -2.48260791e+01, -5.61850414e+00,\n        -4.32033994e+00, -3.18700735e+00,  6.24002099e+00,\n         1.50037171e+01,  1.15493433e+00, -1.31083425e+01,\n        -3.19359929e+01,  1.19428548e+01, -4.33384073e+00,\n         3.46858995e+01,  6.28795672e+00, -3.86067112e+00,\n         3.35034696e+01,  1.34319187e+00,  6.34201143e+00,\n         5.09597414e+00, -7.13468678e+00, -5.66822546e+00,\n         9.05088901e-01, -1.41526772e+00, -1.48081722e+01,\n        -2.95604559e+00,  1.21918548e+00,  3.40440960e+01,\n        -2.52487536e+00,  1.28678465e+01, -1.61835420e+00,\n         2.40062966e+01, -2.83204197e+00, -8.85644346e+00,\n         5.39784546e+00]])"
     },
     "execution_count": 16,
     "metadata": {},
     "output_type": "execute_result"
    }
   ],
   "source": [
    "eigen_vectors.T / test.asset_std"
   ],
   "metadata": {
    "collapsed": false
   }
  },
  {
   "cell_type": "code",
   "execution_count": 17,
   "outputs": [
    {
     "data": {
      "text/plain": "-657.7423302478296"
     },
     "execution_count": 17,
     "metadata": {},
     "output_type": "execute_result"
    }
   ],
   "source": [
    "-4.382268 / test.asset_std[0]"
   ],
   "metadata": {
    "collapsed": false
   }
  },
  {
   "cell_type": "code",
   "execution_count": 12,
   "outputs": [
    {
     "data": {
      "text/plain": "                          BTC       ETH       BNB       XRP       SOL  \\\nstartTime                                                               \n2022-09-15 23:00:00 -0.745454 -1.045223 -1.132784 -0.370914 -0.900836   \n2022-09-16 00:00:00 -0.186393 -0.086114  0.693775 -0.135581  0.149597   \n2022-09-16 01:00:00  0.681944  0.798607  1.803750  0.162402  0.593221   \n2022-09-16 02:00:00 -0.367845 -0.755240 -0.681418 -0.711195 -0.946430   \n2022-09-16 03:00:00  0.178785 -0.282408 -0.200232 -0.118116 -0.927530   \n...                       ...       ...       ...       ...       ...   \n2022-09-25 17:00:00 -0.123485 -0.552270 -0.860300 -1.107209 -1.149998   \n2022-09-25 18:00:00  0.295594 -0.432877  0.767673  0.958272  0.560644   \n2022-09-25 19:00:00 -0.573428  0.009367  0.056102 -0.454858 -0.667568   \n2022-09-25 20:00:00 -0.108113  0.322297 -0.223197 -0.043758 -0.492818   \n2022-09-25 21:00:00 -0.076496 -0.557393 -0.074542 -0.465100 -0.764084   \n\n                         DOGE       DOT      SHIB       TRX     MATIC  ...  \\\nstartTime                                                              ...   \n2022-09-15 23:00:00 -1.107577 -0.856515 -0.743606 -0.852077 -0.906953  ...   \n2022-09-16 00:00:00 -0.749044  0.380351 -0.064597  0.106098 -0.758737  ...   \n2022-09-16 01:00:00  0.586554  0.774988 -0.064670  1.272056  0.887949  ...   \n2022-09-16 02:00:00  0.172639 -0.766232 -0.150500 -0.775424 -0.643341  ...   \n2022-09-16 03:00:00  0.328219 -0.411856 -0.494406 -0.379080 -0.872652  ...   \n...                       ...       ...       ...       ...       ...  ...   \n2022-09-25 17:00:00 -0.564967 -0.817866 -0.513157 -0.963312 -0.700249  ...   \n2022-09-25 18:00:00  0.294996  0.295927 -0.247502  0.695545  0.164918  ...   \n2022-09-25 19:00:00 -0.012684 -0.023909  0.021013  0.406416  0.197603  ...   \n2022-09-25 20:00:00 -0.696499  0.015987 -0.068732 -0.488402 -0.155015  ...   \n2022-09-25 21:00:00 -0.644462 -0.523490 -0.607765 -0.456234 -0.648025  ...   \n\n                          FTM       SNX      COMP       GMT     1INCH  \\\nstartTime                                                               \n2022-09-15 23:00:00 -0.939353 -0.904613  0.318666 -1.434068 -1.081932   \n2022-09-16 00:00:00 -0.216989 -0.290768 -0.651835  0.725708 -0.312398   \n2022-09-16 01:00:00  1.346946  0.293917 -0.106528  0.619588  0.869267   \n2022-09-16 02:00:00 -0.389558 -0.680560 -1.180383 -0.380485 -0.575818   \n2022-09-16 03:00:00 -0.566403 -0.195322 -1.798124 -0.653383  0.087041   \n...                       ...       ...       ...       ...       ...   \n2022-09-25 17:00:00 -0.713060 -0.575888  0.399346 -0.542698 -0.354503   \n2022-09-25 18:00:00  0.599207  0.809431  0.483845  0.060698  0.083386   \n2022-09-25 19:00:00 -0.072185 -0.235636 -0.247478  0.024501 -0.665964   \n2022-09-25 20:00:00 -0.313253 -0.066255 -0.074866 -0.038839 -1.000705   \n2022-09-25 21:00:00 -0.502216 -0.726345 -0.520410 -1.007682 -0.916792   \n\n                          CRV       RSR      GALA       FXS       SRM  \nstartTime                                                              \n2022-09-15 23:00:00 -0.798820 -0.551153 -0.636559 -0.613420 -0.871927  \n2022-09-16 00:00:00 -0.254639 -0.154443  0.182585  0.504504 -0.575954  \n2022-09-16 01:00:00  1.761491  0.131376  0.770129  0.782896  0.638255  \n2022-09-16 02:00:00 -1.710576 -0.325220 -0.811007 -1.445775 -0.727347  \n2022-09-16 03:00:00 -0.806889 -0.097319 -0.052795 -0.001005 -0.122735  \n...                       ...       ...       ...       ...       ...  \n2022-09-25 17:00:00 -0.332118  0.220228 -0.740106 -0.309609 -0.448022  \n2022-09-25 18:00:00 -0.466707 -0.413338  0.673115 -0.170157 -0.130231  \n2022-09-25 19:00:00 -0.192608 -0.176705 -0.002282  0.323582  0.189678  \n2022-09-25 20:00:00 -0.297566 -0.852405 -0.405815  0.534725 -0.290079  \n2022-09-25 21:00:00 -0.428578 -1.263220 -0.542892  0.252214 -0.290932  \n\n[239 rows x 40 columns]",
      "text/html": "<div>\n<style scoped>\n    .dataframe tbody tr th:only-of-type {\n        vertical-align: middle;\n    }\n\n    .dataframe tbody tr th {\n        vertical-align: top;\n    }\n\n    .dataframe thead th {\n        text-align: right;\n    }\n</style>\n<table border=\"1\" class=\"dataframe\">\n  <thead>\n    <tr style=\"text-align: right;\">\n      <th></th>\n      <th>BTC</th>\n      <th>ETH</th>\n      <th>BNB</th>\n      <th>XRP</th>\n      <th>SOL</th>\n      <th>DOGE</th>\n      <th>DOT</th>\n      <th>SHIB</th>\n      <th>TRX</th>\n      <th>MATIC</th>\n      <th>...</th>\n      <th>FTM</th>\n      <th>SNX</th>\n      <th>COMP</th>\n      <th>GMT</th>\n      <th>1INCH</th>\n      <th>CRV</th>\n      <th>RSR</th>\n      <th>GALA</th>\n      <th>FXS</th>\n      <th>SRM</th>\n    </tr>\n    <tr>\n      <th>startTime</th>\n      <th></th>\n      <th></th>\n      <th></th>\n      <th></th>\n      <th></th>\n      <th></th>\n      <th></th>\n      <th></th>\n      <th></th>\n      <th></th>\n      <th></th>\n      <th></th>\n      <th></th>\n      <th></th>\n      <th></th>\n      <th></th>\n      <th></th>\n      <th></th>\n      <th></th>\n      <th></th>\n      <th></th>\n    </tr>\n  </thead>\n  <tbody>\n    <tr>\n      <th>2022-09-15 23:00:00</th>\n      <td>-0.745454</td>\n      <td>-1.045223</td>\n      <td>-1.132784</td>\n      <td>-0.370914</td>\n      <td>-0.900836</td>\n      <td>-1.107577</td>\n      <td>-0.856515</td>\n      <td>-0.743606</td>\n      <td>-0.852077</td>\n      <td>-0.906953</td>\n      <td>...</td>\n      <td>-0.939353</td>\n      <td>-0.904613</td>\n      <td>0.318666</td>\n      <td>-1.434068</td>\n      <td>-1.081932</td>\n      <td>-0.798820</td>\n      <td>-0.551153</td>\n      <td>-0.636559</td>\n      <td>-0.613420</td>\n      <td>-0.871927</td>\n    </tr>\n    <tr>\n      <th>2022-09-16 00:00:00</th>\n      <td>-0.186393</td>\n      <td>-0.086114</td>\n      <td>0.693775</td>\n      <td>-0.135581</td>\n      <td>0.149597</td>\n      <td>-0.749044</td>\n      <td>0.380351</td>\n      <td>-0.064597</td>\n      <td>0.106098</td>\n      <td>-0.758737</td>\n      <td>...</td>\n      <td>-0.216989</td>\n      <td>-0.290768</td>\n      <td>-0.651835</td>\n      <td>0.725708</td>\n      <td>-0.312398</td>\n      <td>-0.254639</td>\n      <td>-0.154443</td>\n      <td>0.182585</td>\n      <td>0.504504</td>\n      <td>-0.575954</td>\n    </tr>\n    <tr>\n      <th>2022-09-16 01:00:00</th>\n      <td>0.681944</td>\n      <td>0.798607</td>\n      <td>1.803750</td>\n      <td>0.162402</td>\n      <td>0.593221</td>\n      <td>0.586554</td>\n      <td>0.774988</td>\n      <td>-0.064670</td>\n      <td>1.272056</td>\n      <td>0.887949</td>\n      <td>...</td>\n      <td>1.346946</td>\n      <td>0.293917</td>\n      <td>-0.106528</td>\n      <td>0.619588</td>\n      <td>0.869267</td>\n      <td>1.761491</td>\n      <td>0.131376</td>\n      <td>0.770129</td>\n      <td>0.782896</td>\n      <td>0.638255</td>\n    </tr>\n    <tr>\n      <th>2022-09-16 02:00:00</th>\n      <td>-0.367845</td>\n      <td>-0.755240</td>\n      <td>-0.681418</td>\n      <td>-0.711195</td>\n      <td>-0.946430</td>\n      <td>0.172639</td>\n      <td>-0.766232</td>\n      <td>-0.150500</td>\n      <td>-0.775424</td>\n      <td>-0.643341</td>\n      <td>...</td>\n      <td>-0.389558</td>\n      <td>-0.680560</td>\n      <td>-1.180383</td>\n      <td>-0.380485</td>\n      <td>-0.575818</td>\n      <td>-1.710576</td>\n      <td>-0.325220</td>\n      <td>-0.811007</td>\n      <td>-1.445775</td>\n      <td>-0.727347</td>\n    </tr>\n    <tr>\n      <th>2022-09-16 03:00:00</th>\n      <td>0.178785</td>\n      <td>-0.282408</td>\n      <td>-0.200232</td>\n      <td>-0.118116</td>\n      <td>-0.927530</td>\n      <td>0.328219</td>\n      <td>-0.411856</td>\n      <td>-0.494406</td>\n      <td>-0.379080</td>\n      <td>-0.872652</td>\n      <td>...</td>\n      <td>-0.566403</td>\n      <td>-0.195322</td>\n      <td>-1.798124</td>\n      <td>-0.653383</td>\n      <td>0.087041</td>\n      <td>-0.806889</td>\n      <td>-0.097319</td>\n      <td>-0.052795</td>\n      <td>-0.001005</td>\n      <td>-0.122735</td>\n    </tr>\n    <tr>\n      <th>...</th>\n      <td>...</td>\n      <td>...</td>\n      <td>...</td>\n      <td>...</td>\n      <td>...</td>\n      <td>...</td>\n      <td>...</td>\n      <td>...</td>\n      <td>...</td>\n      <td>...</td>\n      <td>...</td>\n      <td>...</td>\n      <td>...</td>\n      <td>...</td>\n      <td>...</td>\n      <td>...</td>\n      <td>...</td>\n      <td>...</td>\n      <td>...</td>\n      <td>...</td>\n      <td>...</td>\n    </tr>\n    <tr>\n      <th>2022-09-25 17:00:00</th>\n      <td>-0.123485</td>\n      <td>-0.552270</td>\n      <td>-0.860300</td>\n      <td>-1.107209</td>\n      <td>-1.149998</td>\n      <td>-0.564967</td>\n      <td>-0.817866</td>\n      <td>-0.513157</td>\n      <td>-0.963312</td>\n      <td>-0.700249</td>\n      <td>...</td>\n      <td>-0.713060</td>\n      <td>-0.575888</td>\n      <td>0.399346</td>\n      <td>-0.542698</td>\n      <td>-0.354503</td>\n      <td>-0.332118</td>\n      <td>0.220228</td>\n      <td>-0.740106</td>\n      <td>-0.309609</td>\n      <td>-0.448022</td>\n    </tr>\n    <tr>\n      <th>2022-09-25 18:00:00</th>\n      <td>0.295594</td>\n      <td>-0.432877</td>\n      <td>0.767673</td>\n      <td>0.958272</td>\n      <td>0.560644</td>\n      <td>0.294996</td>\n      <td>0.295927</td>\n      <td>-0.247502</td>\n      <td>0.695545</td>\n      <td>0.164918</td>\n      <td>...</td>\n      <td>0.599207</td>\n      <td>0.809431</td>\n      <td>0.483845</td>\n      <td>0.060698</td>\n      <td>0.083386</td>\n      <td>-0.466707</td>\n      <td>-0.413338</td>\n      <td>0.673115</td>\n      <td>-0.170157</td>\n      <td>-0.130231</td>\n    </tr>\n    <tr>\n      <th>2022-09-25 19:00:00</th>\n      <td>-0.573428</td>\n      <td>0.009367</td>\n      <td>0.056102</td>\n      <td>-0.454858</td>\n      <td>-0.667568</td>\n      <td>-0.012684</td>\n      <td>-0.023909</td>\n      <td>0.021013</td>\n      <td>0.406416</td>\n      <td>0.197603</td>\n      <td>...</td>\n      <td>-0.072185</td>\n      <td>-0.235636</td>\n      <td>-0.247478</td>\n      <td>0.024501</td>\n      <td>-0.665964</td>\n      <td>-0.192608</td>\n      <td>-0.176705</td>\n      <td>-0.002282</td>\n      <td>0.323582</td>\n      <td>0.189678</td>\n    </tr>\n    <tr>\n      <th>2022-09-25 20:00:00</th>\n      <td>-0.108113</td>\n      <td>0.322297</td>\n      <td>-0.223197</td>\n      <td>-0.043758</td>\n      <td>-0.492818</td>\n      <td>-0.696499</td>\n      <td>0.015987</td>\n      <td>-0.068732</td>\n      <td>-0.488402</td>\n      <td>-0.155015</td>\n      <td>...</td>\n      <td>-0.313253</td>\n      <td>-0.066255</td>\n      <td>-0.074866</td>\n      <td>-0.038839</td>\n      <td>-1.000705</td>\n      <td>-0.297566</td>\n      <td>-0.852405</td>\n      <td>-0.405815</td>\n      <td>0.534725</td>\n      <td>-0.290079</td>\n    </tr>\n    <tr>\n      <th>2022-09-25 21:00:00</th>\n      <td>-0.076496</td>\n      <td>-0.557393</td>\n      <td>-0.074542</td>\n      <td>-0.465100</td>\n      <td>-0.764084</td>\n      <td>-0.644462</td>\n      <td>-0.523490</td>\n      <td>-0.607765</td>\n      <td>-0.456234</td>\n      <td>-0.648025</td>\n      <td>...</td>\n      <td>-0.502216</td>\n      <td>-0.726345</td>\n      <td>-0.520410</td>\n      <td>-1.007682</td>\n      <td>-0.916792</td>\n      <td>-0.428578</td>\n      <td>-1.263220</td>\n      <td>-0.542892</td>\n      <td>0.252214</td>\n      <td>-0.290932</td>\n    </tr>\n  </tbody>\n</table>\n<p>239 rows × 40 columns</p>\n</div>"
     },
     "execution_count": 12,
     "metadata": {},
     "output_type": "execute_result"
    }
   ],
   "source": [
    "st_rets"
   ],
   "metadata": {
    "collapsed": false
   }
  },
  {
   "cell_type": "code",
   "execution_count": null,
   "outputs": [],
   "source": [],
   "metadata": {
    "collapsed": false
   }
  },
  {
   "cell_type": "code",
   "execution_count": null,
   "outputs": [],
   "source": [
    "\n",
    "st_rets = self.get_standardize_rets(self.returns_df[used_symbols].iloc[time_idx - self.M:time_idx - 1])\n",
    "return self.get_pca(st_rets)"
   ],
   "metadata": {
    "collapsed": false
   }
  },
  {
   "cell_type": "code",
   "execution_count": null,
   "outputs": [],
   "source": [],
   "metadata": {
    "collapsed": false
   }
  },
  {
   "cell_type": "code",
   "execution_count": 4,
   "outputs": [
    {
     "data": {
      "text/plain": "array([1., 1., 1., 1., 1., 1., 1., 1., 1., 1., 1., 1., 1., 1., 1., 1., 1.,\n       1., 1., 1., 1., 1., 1., 1., 1., 1., 1., 1., 1., 1., 1., 1., 1., 1.,\n       1., 1., 1., 1., 1., 1.])"
     },
     "execution_count": 4,
     "metadata": {},
     "output_type": "execute_result"
    }
   ],
   "source": [
    "test.asset_std"
   ],
   "metadata": {
    "collapsed": false
   }
  },
  {
   "cell_type": "code",
   "execution_count": null,
   "outputs": [],
   "source": [],
   "metadata": {
    "collapsed": false
   }
  }
 ],
 "metadata": {
  "kernelspec": {
   "display_name": "Python 3",
   "language": "python",
   "name": "python3"
  },
  "language_info": {
   "codemirror_mode": {
    "name": "ipython",
    "version": 2
   },
   "file_extension": ".py",
   "mimetype": "text/x-python",
   "name": "python",
   "nbconvert_exporter": "python",
   "pygments_lexer": "ipython2",
   "version": "2.7.6"
  }
 },
 "nbformat": 4,
 "nbformat_minor": 0
}
