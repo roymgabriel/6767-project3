{
 "cells": [
  {
   "cell_type": "markdown",
   "source": [
    "# Roy\n",
    "\n",
    "This is for me to test around and write some functions out for the class, you can create your own notebook and test around if needed. The main notebook will be `StatArb.ipynb`."
   ],
   "metadata": {
    "collapsed": false
   }
  },
  {
   "cell_type": "code",
   "execution_count": 1,
   "outputs": [],
   "source": [
    "import pandas as pd\n",
    "import numpy as np\n",
    "import statsmodels.api as sm\n",
    "\n",
    "from sklearn.decomposition import PCA\n",
    "from Factors import Factors\n",
    "from StatArbStrategy import StatArbStrategy\n",
    "from Trade import Trade"
   ],
   "metadata": {
    "collapsed": false
   }
  },
  {
   "cell_type": "code",
   "execution_count": 2,
   "outputs": [],
   "source": [
    "start=\"2021-09-26 00:00:00\"\n",
    "finish=\"2021-09-27 00:00:00\""
   ],
   "metadata": {
    "collapsed": false
   }
  },
  {
   "cell_type": "code",
   "execution_count": 3,
   "outputs": [],
   "source": [
    "trading_signals = {}\n",
    "hourly_returns = {}"
   ],
   "metadata": {
    "collapsed": false
   }
  },
  {
   "cell_type": "code",
   "execution_count": 4,
   "outputs": [
    {
     "data": {
      "text/plain": "(25,)"
     },
     "execution_count": 4,
     "metadata": {},
     "output_type": "execute_result"
    }
   ],
   "source": [
    "date_range = pd.date_range(start, finish, freq='H')\n",
    "date_range.shape"
   ],
   "metadata": {
    "collapsed": false
   }
  },
  {
   "cell_type": "code",
   "execution_count": 5,
   "outputs": [],
   "source": [
    "for d in date_range:\n",
    "    start_time = d\n",
    "    arb = StatArbStrategy(window=240, start=d, finish=finish)\n",
    "\n",
    "    params = arb.get_params()\n",
    "    s = arb.get_s_score(params)\n",
    "\n",
    "    # get trading signals with a certain start time and their returns\n",
    "    trading_signals[start_time] = arb.generate_trading_signals(s)\n",
    "    # hourly_returns[start_time] = arb.hourly_returns"
   ],
   "metadata": {
    "collapsed": false
   }
  },
  {
   "cell_type": "code",
   "execution_count": 6,
   "outputs": [
    {
     "data": {
      "text/plain": "                     BTC  BNB  XRP  SOL DOGE LINK  UNI  LTC  BCH MATIC  ...  \\\n2021-09-26 00:00:00  CSP  CSP  CLP  CSP  CSP  STO  STO  CSP  CSP   CSP  ...   \n2021-09-26 01:00:00  CSP  CSP  CLP  CSP  CSP  STO  STO  CSP  CSP   CSP  ...   \n2021-09-26 02:00:00  CSP  CSP  CLP  CSP  CSP  STO  STO  CSP  CSP   CSP  ...   \n2021-09-26 03:00:00  CSP  CSP  CLP  CSP  CSP  STO  CLP  CSP  CSP   STO  ...   \n2021-09-26 04:00:00  CSP  CSP  CLP  CSP  CSP  STO  CLP  STO  CSP   CLP  ...   \n2021-09-26 05:00:00  CSP  CSP  CLP  CSP  CSP  STO  STO  CSP  CSP   CSP  ...   \n2021-09-26 06:00:00  CSP  CSP  CSP  CSP  CSP  STO  CLP  CLP  CSP   CSP  ...   \n2021-09-26 07:00:00  CSP  CSP  CSP  CSP  CSP  STO  CLP  CSP  CSP   CSP  ...   \n2021-09-26 08:00:00  CSP  CSP  CLP  CSP  CSP  STO  STO  CSP  CSP   CLP  ...   \n2021-09-26 09:00:00  CSP  CSP  CLP  CSP  CSP  STO  STO  CLP  CSP   STO  ...   \n2021-09-26 10:00:00  CSP  BTO  CLP  CSP  CSP  STO  CSP  CSP  CSP   CSP  ...   \n2021-09-26 11:00:00  CSP  BTO  CSP  CSP  BTO  STO  STO  CSP  CSP   CSP  ...   \n2021-09-26 12:00:00  CSP  BTO  CSP  CSP  BTO  STO  STO  CSP  CSP   CSP  ...   \n2021-09-26 13:00:00  CSP  BTO  CSP  CSP  BTO  STO  STO  CSP  CSP   CSP  ...   \n2021-09-26 14:00:00  CSP  BTO  CSP  CSP  BTO  STO  STO  CSP  CSP   CSP  ...   \n2021-09-26 15:00:00  CSP  BTO  CSP  CSP  BTO  STO  STO  CSP  CSP   CSP  ...   \n2021-09-26 16:00:00  CSP  BTO  CSP  CSP  BTO  STO  STO  CSP  CSP   CSP  ...   \n2021-09-26 17:00:00  CSP  BTO  CSP  CSP  BTO  STO  STO  CSP  CSP   CSP  ...   \n2021-09-26 18:00:00  CSP  BTO  CSP  CSP  BTO  STO  STO  CSP  BTO   CSP  ...   \n2021-09-26 19:00:00  CSP  BTO  CSP  CSP  BTO  CLP  STO  CSP  BTO   CSP  ...   \n2021-09-26 20:00:00  CSP  BTO  CSP  CSP  BTO  CLP  STO  CSP  BTO   CSP  ...   \n2021-09-26 21:00:00  CSP  BTO  CSP  BTO  BTO  CLP  STO  BTO  BTO   CSP  ...   \n2021-09-26 22:00:00  CSP  BTO  CSP  BTO  BTO  CLP  STO  BTO  BTO   CSP  ...   \n2021-09-26 23:00:00  CSP  BTO  CSP  BTO  BTO  CLP  STO  BTO  BTO   BTO  ...   \n2021-09-27 00:00:00  CSP  BTO  CSP  BTO  BTO  CLP  STO  BTO  BTO   BTO  ...   \n\n                    AUDIO  BNT  ZRX DYDX  RAY PERP SAND  C98  CRO  HNT  \n2021-09-26 00:00:00   BTO  STO  CSP  CSP  CSP  CSP  CSP  CSP  NaN  NaN  \n2021-09-26 01:00:00   CSP  STO  CSP  CSP  CSP  CLP  CSP  CSP  NaN  NaN  \n2021-09-26 02:00:00   BTO  CLP  CSP  CSP  CSP  CLP  CSP  CSP  NaN  NaN  \n2021-09-26 03:00:00   BTO  CLP  CSP  CSP  CSP  CLP  CSP  CSP  NaN  NaN  \n2021-09-26 04:00:00   BTO  CLP  CSP  CSP  CSP  CSP  NaN  NaN  CSP  CSP  \n2021-09-26 05:00:00   BTO  CLP  CSP  CSP  CSP  CSP  NaN  NaN  CSP  CSP  \n2021-09-26 06:00:00   BTO  CLP  CSP  CSP  CSP  CLP  NaN  NaN  CSP  CSP  \n2021-09-26 07:00:00   BTO  STO  CSP  CSP  CSP  CSP  NaN  NaN  CSP  CSP  \n2021-09-26 08:00:00   BTO  STO  CSP  CSP  CSP  CSP  NaN  NaN  CSP  CSP  \n2021-09-26 09:00:00   BTO  STO  CSP  CSP  CSP  CSP  NaN  NaN  CSP  CSP  \n2021-09-26 10:00:00   CSP  CLP  CSP  CSP  CSP  STO  NaN  NaN  CSP  CSP  \n2021-09-26 11:00:00   BTO  STO  CSP  CSP  CSP  STO  NaN  NaN  CSP  CSP  \n2021-09-26 12:00:00   BTO  CLP  CSP  CSP  CSP  STO  NaN  NaN  CSP  CSP  \n2021-09-26 13:00:00   BTO  CLP  CSP  CSP  CSP  STO  NaN  NaN  CSP  CSP  \n2021-09-26 14:00:00   BTO  STO  CSP  CSP  CSP  STO  NaN  NaN  BTO  CSP  \n2021-09-26 15:00:00   BTO  STO  CSP  CSP  CSP  STO  NaN  NaN  CSP  CSP  \n2021-09-26 16:00:00   BTO  CLP  CSP  CLP  CSP  STO  NaN  NaN  CSP  CSP  \n2021-09-26 17:00:00   CSP  CLP  CSP  CLP  CSP  STO  NaN  NaN  CSP  CSP  \n2021-09-26 18:00:00   CSP  CLP  CSP  CLP  CSP  STO  NaN  NaN  CSP  CSP  \n2021-09-26 19:00:00   CSP  CLP  CSP  CLP  CSP  STO  NaN  NaN  CSP  CSP  \n2021-09-26 20:00:00   CSP  CLP  CSP  CLP  CSP  STO  NaN  NaN  CSP  CSP  \n2021-09-26 21:00:00   CSP  CLP  CSP  CLP  CSP  STO  NaN  NaN  CSP  CSP  \n2021-09-26 22:00:00   CSP  CLP  CSP  CLP  CSP  STO  NaN  NaN  CSP  CSP  \n2021-09-26 23:00:00   CSP  CLP  CSP  CLP  CSP  STO  NaN  NaN  CSP  CSP  \n2021-09-27 00:00:00   CSP  CLP  CSP  CLP  CSP  STO  NaN  NaN  CSP  CSP  \n\n[25 rows x 42 columns]",
      "text/html": "<div>\n<style scoped>\n    .dataframe tbody tr th:only-of-type {\n        vertical-align: middle;\n    }\n\n    .dataframe tbody tr th {\n        vertical-align: top;\n    }\n\n    .dataframe thead th {\n        text-align: right;\n    }\n</style>\n<table border=\"1\" class=\"dataframe\">\n  <thead>\n    <tr style=\"text-align: right;\">\n      <th></th>\n      <th>BTC</th>\n      <th>BNB</th>\n      <th>XRP</th>\n      <th>SOL</th>\n      <th>DOGE</th>\n      <th>LINK</th>\n      <th>UNI</th>\n      <th>LTC</th>\n      <th>BCH</th>\n      <th>MATIC</th>\n      <th>...</th>\n      <th>AUDIO</th>\n      <th>BNT</th>\n      <th>ZRX</th>\n      <th>DYDX</th>\n      <th>RAY</th>\n      <th>PERP</th>\n      <th>SAND</th>\n      <th>C98</th>\n      <th>CRO</th>\n      <th>HNT</th>\n    </tr>\n  </thead>\n  <tbody>\n    <tr>\n      <th>2021-09-26 00:00:00</th>\n      <td>CSP</td>\n      <td>CSP</td>\n      <td>CLP</td>\n      <td>CSP</td>\n      <td>CSP</td>\n      <td>STO</td>\n      <td>STO</td>\n      <td>CSP</td>\n      <td>CSP</td>\n      <td>CSP</td>\n      <td>...</td>\n      <td>BTO</td>\n      <td>STO</td>\n      <td>CSP</td>\n      <td>CSP</td>\n      <td>CSP</td>\n      <td>CSP</td>\n      <td>CSP</td>\n      <td>CSP</td>\n      <td>NaN</td>\n      <td>NaN</td>\n    </tr>\n    <tr>\n      <th>2021-09-26 01:00:00</th>\n      <td>CSP</td>\n      <td>CSP</td>\n      <td>CLP</td>\n      <td>CSP</td>\n      <td>CSP</td>\n      <td>STO</td>\n      <td>STO</td>\n      <td>CSP</td>\n      <td>CSP</td>\n      <td>CSP</td>\n      <td>...</td>\n      <td>CSP</td>\n      <td>STO</td>\n      <td>CSP</td>\n      <td>CSP</td>\n      <td>CSP</td>\n      <td>CLP</td>\n      <td>CSP</td>\n      <td>CSP</td>\n      <td>NaN</td>\n      <td>NaN</td>\n    </tr>\n    <tr>\n      <th>2021-09-26 02:00:00</th>\n      <td>CSP</td>\n      <td>CSP</td>\n      <td>CLP</td>\n      <td>CSP</td>\n      <td>CSP</td>\n      <td>STO</td>\n      <td>STO</td>\n      <td>CSP</td>\n      <td>CSP</td>\n      <td>CSP</td>\n      <td>...</td>\n      <td>BTO</td>\n      <td>CLP</td>\n      <td>CSP</td>\n      <td>CSP</td>\n      <td>CSP</td>\n      <td>CLP</td>\n      <td>CSP</td>\n      <td>CSP</td>\n      <td>NaN</td>\n      <td>NaN</td>\n    </tr>\n    <tr>\n      <th>2021-09-26 03:00:00</th>\n      <td>CSP</td>\n      <td>CSP</td>\n      <td>CLP</td>\n      <td>CSP</td>\n      <td>CSP</td>\n      <td>STO</td>\n      <td>CLP</td>\n      <td>CSP</td>\n      <td>CSP</td>\n      <td>STO</td>\n      <td>...</td>\n      <td>BTO</td>\n      <td>CLP</td>\n      <td>CSP</td>\n      <td>CSP</td>\n      <td>CSP</td>\n      <td>CLP</td>\n      <td>CSP</td>\n      <td>CSP</td>\n      <td>NaN</td>\n      <td>NaN</td>\n    </tr>\n    <tr>\n      <th>2021-09-26 04:00:00</th>\n      <td>CSP</td>\n      <td>CSP</td>\n      <td>CLP</td>\n      <td>CSP</td>\n      <td>CSP</td>\n      <td>STO</td>\n      <td>CLP</td>\n      <td>STO</td>\n      <td>CSP</td>\n      <td>CLP</td>\n      <td>...</td>\n      <td>BTO</td>\n      <td>CLP</td>\n      <td>CSP</td>\n      <td>CSP</td>\n      <td>CSP</td>\n      <td>CSP</td>\n      <td>NaN</td>\n      <td>NaN</td>\n      <td>CSP</td>\n      <td>CSP</td>\n    </tr>\n    <tr>\n      <th>2021-09-26 05:00:00</th>\n      <td>CSP</td>\n      <td>CSP</td>\n      <td>CLP</td>\n      <td>CSP</td>\n      <td>CSP</td>\n      <td>STO</td>\n      <td>STO</td>\n      <td>CSP</td>\n      <td>CSP</td>\n      <td>CSP</td>\n      <td>...</td>\n      <td>BTO</td>\n      <td>CLP</td>\n      <td>CSP</td>\n      <td>CSP</td>\n      <td>CSP</td>\n      <td>CSP</td>\n      <td>NaN</td>\n      <td>NaN</td>\n      <td>CSP</td>\n      <td>CSP</td>\n    </tr>\n    <tr>\n      <th>2021-09-26 06:00:00</th>\n      <td>CSP</td>\n      <td>CSP</td>\n      <td>CSP</td>\n      <td>CSP</td>\n      <td>CSP</td>\n      <td>STO</td>\n      <td>CLP</td>\n      <td>CLP</td>\n      <td>CSP</td>\n      <td>CSP</td>\n      <td>...</td>\n      <td>BTO</td>\n      <td>CLP</td>\n      <td>CSP</td>\n      <td>CSP</td>\n      <td>CSP</td>\n      <td>CLP</td>\n      <td>NaN</td>\n      <td>NaN</td>\n      <td>CSP</td>\n      <td>CSP</td>\n    </tr>\n    <tr>\n      <th>2021-09-26 07:00:00</th>\n      <td>CSP</td>\n      <td>CSP</td>\n      <td>CSP</td>\n      <td>CSP</td>\n      <td>CSP</td>\n      <td>STO</td>\n      <td>CLP</td>\n      <td>CSP</td>\n      <td>CSP</td>\n      <td>CSP</td>\n      <td>...</td>\n      <td>BTO</td>\n      <td>STO</td>\n      <td>CSP</td>\n      <td>CSP</td>\n      <td>CSP</td>\n      <td>CSP</td>\n      <td>NaN</td>\n      <td>NaN</td>\n      <td>CSP</td>\n      <td>CSP</td>\n    </tr>\n    <tr>\n      <th>2021-09-26 08:00:00</th>\n      <td>CSP</td>\n      <td>CSP</td>\n      <td>CLP</td>\n      <td>CSP</td>\n      <td>CSP</td>\n      <td>STO</td>\n      <td>STO</td>\n      <td>CSP</td>\n      <td>CSP</td>\n      <td>CLP</td>\n      <td>...</td>\n      <td>BTO</td>\n      <td>STO</td>\n      <td>CSP</td>\n      <td>CSP</td>\n      <td>CSP</td>\n      <td>CSP</td>\n      <td>NaN</td>\n      <td>NaN</td>\n      <td>CSP</td>\n      <td>CSP</td>\n    </tr>\n    <tr>\n      <th>2021-09-26 09:00:00</th>\n      <td>CSP</td>\n      <td>CSP</td>\n      <td>CLP</td>\n      <td>CSP</td>\n      <td>CSP</td>\n      <td>STO</td>\n      <td>STO</td>\n      <td>CLP</td>\n      <td>CSP</td>\n      <td>STO</td>\n      <td>...</td>\n      <td>BTO</td>\n      <td>STO</td>\n      <td>CSP</td>\n      <td>CSP</td>\n      <td>CSP</td>\n      <td>CSP</td>\n      <td>NaN</td>\n      <td>NaN</td>\n      <td>CSP</td>\n      <td>CSP</td>\n    </tr>\n    <tr>\n      <th>2021-09-26 10:00:00</th>\n      <td>CSP</td>\n      <td>BTO</td>\n      <td>CLP</td>\n      <td>CSP</td>\n      <td>CSP</td>\n      <td>STO</td>\n      <td>CSP</td>\n      <td>CSP</td>\n      <td>CSP</td>\n      <td>CSP</td>\n      <td>...</td>\n      <td>CSP</td>\n      <td>CLP</td>\n      <td>CSP</td>\n      <td>CSP</td>\n      <td>CSP</td>\n      <td>STO</td>\n      <td>NaN</td>\n      <td>NaN</td>\n      <td>CSP</td>\n      <td>CSP</td>\n    </tr>\n    <tr>\n      <th>2021-09-26 11:00:00</th>\n      <td>CSP</td>\n      <td>BTO</td>\n      <td>CSP</td>\n      <td>CSP</td>\n      <td>BTO</td>\n      <td>STO</td>\n      <td>STO</td>\n      <td>CSP</td>\n      <td>CSP</td>\n      <td>CSP</td>\n      <td>...</td>\n      <td>BTO</td>\n      <td>STO</td>\n      <td>CSP</td>\n      <td>CSP</td>\n      <td>CSP</td>\n      <td>STO</td>\n      <td>NaN</td>\n      <td>NaN</td>\n      <td>CSP</td>\n      <td>CSP</td>\n    </tr>\n    <tr>\n      <th>2021-09-26 12:00:00</th>\n      <td>CSP</td>\n      <td>BTO</td>\n      <td>CSP</td>\n      <td>CSP</td>\n      <td>BTO</td>\n      <td>STO</td>\n      <td>STO</td>\n      <td>CSP</td>\n      <td>CSP</td>\n      <td>CSP</td>\n      <td>...</td>\n      <td>BTO</td>\n      <td>CLP</td>\n      <td>CSP</td>\n      <td>CSP</td>\n      <td>CSP</td>\n      <td>STO</td>\n      <td>NaN</td>\n      <td>NaN</td>\n      <td>CSP</td>\n      <td>CSP</td>\n    </tr>\n    <tr>\n      <th>2021-09-26 13:00:00</th>\n      <td>CSP</td>\n      <td>BTO</td>\n      <td>CSP</td>\n      <td>CSP</td>\n      <td>BTO</td>\n      <td>STO</td>\n      <td>STO</td>\n      <td>CSP</td>\n      <td>CSP</td>\n      <td>CSP</td>\n      <td>...</td>\n      <td>BTO</td>\n      <td>CLP</td>\n      <td>CSP</td>\n      <td>CSP</td>\n      <td>CSP</td>\n      <td>STO</td>\n      <td>NaN</td>\n      <td>NaN</td>\n      <td>CSP</td>\n      <td>CSP</td>\n    </tr>\n    <tr>\n      <th>2021-09-26 14:00:00</th>\n      <td>CSP</td>\n      <td>BTO</td>\n      <td>CSP</td>\n      <td>CSP</td>\n      <td>BTO</td>\n      <td>STO</td>\n      <td>STO</td>\n      <td>CSP</td>\n      <td>CSP</td>\n      <td>CSP</td>\n      <td>...</td>\n      <td>BTO</td>\n      <td>STO</td>\n      <td>CSP</td>\n      <td>CSP</td>\n      <td>CSP</td>\n      <td>STO</td>\n      <td>NaN</td>\n      <td>NaN</td>\n      <td>BTO</td>\n      <td>CSP</td>\n    </tr>\n    <tr>\n      <th>2021-09-26 15:00:00</th>\n      <td>CSP</td>\n      <td>BTO</td>\n      <td>CSP</td>\n      <td>CSP</td>\n      <td>BTO</td>\n      <td>STO</td>\n      <td>STO</td>\n      <td>CSP</td>\n      <td>CSP</td>\n      <td>CSP</td>\n      <td>...</td>\n      <td>BTO</td>\n      <td>STO</td>\n      <td>CSP</td>\n      <td>CSP</td>\n      <td>CSP</td>\n      <td>STO</td>\n      <td>NaN</td>\n      <td>NaN</td>\n      <td>CSP</td>\n      <td>CSP</td>\n    </tr>\n    <tr>\n      <th>2021-09-26 16:00:00</th>\n      <td>CSP</td>\n      <td>BTO</td>\n      <td>CSP</td>\n      <td>CSP</td>\n      <td>BTO</td>\n      <td>STO</td>\n      <td>STO</td>\n      <td>CSP</td>\n      <td>CSP</td>\n      <td>CSP</td>\n      <td>...</td>\n      <td>BTO</td>\n      <td>CLP</td>\n      <td>CSP</td>\n      <td>CLP</td>\n      <td>CSP</td>\n      <td>STO</td>\n      <td>NaN</td>\n      <td>NaN</td>\n      <td>CSP</td>\n      <td>CSP</td>\n    </tr>\n    <tr>\n      <th>2021-09-26 17:00:00</th>\n      <td>CSP</td>\n      <td>BTO</td>\n      <td>CSP</td>\n      <td>CSP</td>\n      <td>BTO</td>\n      <td>STO</td>\n      <td>STO</td>\n      <td>CSP</td>\n      <td>CSP</td>\n      <td>CSP</td>\n      <td>...</td>\n      <td>CSP</td>\n      <td>CLP</td>\n      <td>CSP</td>\n      <td>CLP</td>\n      <td>CSP</td>\n      <td>STO</td>\n      <td>NaN</td>\n      <td>NaN</td>\n      <td>CSP</td>\n      <td>CSP</td>\n    </tr>\n    <tr>\n      <th>2021-09-26 18:00:00</th>\n      <td>CSP</td>\n      <td>BTO</td>\n      <td>CSP</td>\n      <td>CSP</td>\n      <td>BTO</td>\n      <td>STO</td>\n      <td>STO</td>\n      <td>CSP</td>\n      <td>BTO</td>\n      <td>CSP</td>\n      <td>...</td>\n      <td>CSP</td>\n      <td>CLP</td>\n      <td>CSP</td>\n      <td>CLP</td>\n      <td>CSP</td>\n      <td>STO</td>\n      <td>NaN</td>\n      <td>NaN</td>\n      <td>CSP</td>\n      <td>CSP</td>\n    </tr>\n    <tr>\n      <th>2021-09-26 19:00:00</th>\n      <td>CSP</td>\n      <td>BTO</td>\n      <td>CSP</td>\n      <td>CSP</td>\n      <td>BTO</td>\n      <td>CLP</td>\n      <td>STO</td>\n      <td>CSP</td>\n      <td>BTO</td>\n      <td>CSP</td>\n      <td>...</td>\n      <td>CSP</td>\n      <td>CLP</td>\n      <td>CSP</td>\n      <td>CLP</td>\n      <td>CSP</td>\n      <td>STO</td>\n      <td>NaN</td>\n      <td>NaN</td>\n      <td>CSP</td>\n      <td>CSP</td>\n    </tr>\n    <tr>\n      <th>2021-09-26 20:00:00</th>\n      <td>CSP</td>\n      <td>BTO</td>\n      <td>CSP</td>\n      <td>CSP</td>\n      <td>BTO</td>\n      <td>CLP</td>\n      <td>STO</td>\n      <td>CSP</td>\n      <td>BTO</td>\n      <td>CSP</td>\n      <td>...</td>\n      <td>CSP</td>\n      <td>CLP</td>\n      <td>CSP</td>\n      <td>CLP</td>\n      <td>CSP</td>\n      <td>STO</td>\n      <td>NaN</td>\n      <td>NaN</td>\n      <td>CSP</td>\n      <td>CSP</td>\n    </tr>\n    <tr>\n      <th>2021-09-26 21:00:00</th>\n      <td>CSP</td>\n      <td>BTO</td>\n      <td>CSP</td>\n      <td>BTO</td>\n      <td>BTO</td>\n      <td>CLP</td>\n      <td>STO</td>\n      <td>BTO</td>\n      <td>BTO</td>\n      <td>CSP</td>\n      <td>...</td>\n      <td>CSP</td>\n      <td>CLP</td>\n      <td>CSP</td>\n      <td>CLP</td>\n      <td>CSP</td>\n      <td>STO</td>\n      <td>NaN</td>\n      <td>NaN</td>\n      <td>CSP</td>\n      <td>CSP</td>\n    </tr>\n    <tr>\n      <th>2021-09-26 22:00:00</th>\n      <td>CSP</td>\n      <td>BTO</td>\n      <td>CSP</td>\n      <td>BTO</td>\n      <td>BTO</td>\n      <td>CLP</td>\n      <td>STO</td>\n      <td>BTO</td>\n      <td>BTO</td>\n      <td>CSP</td>\n      <td>...</td>\n      <td>CSP</td>\n      <td>CLP</td>\n      <td>CSP</td>\n      <td>CLP</td>\n      <td>CSP</td>\n      <td>STO</td>\n      <td>NaN</td>\n      <td>NaN</td>\n      <td>CSP</td>\n      <td>CSP</td>\n    </tr>\n    <tr>\n      <th>2021-09-26 23:00:00</th>\n      <td>CSP</td>\n      <td>BTO</td>\n      <td>CSP</td>\n      <td>BTO</td>\n      <td>BTO</td>\n      <td>CLP</td>\n      <td>STO</td>\n      <td>BTO</td>\n      <td>BTO</td>\n      <td>BTO</td>\n      <td>...</td>\n      <td>CSP</td>\n      <td>CLP</td>\n      <td>CSP</td>\n      <td>CLP</td>\n      <td>CSP</td>\n      <td>STO</td>\n      <td>NaN</td>\n      <td>NaN</td>\n      <td>CSP</td>\n      <td>CSP</td>\n    </tr>\n    <tr>\n      <th>2021-09-27 00:00:00</th>\n      <td>CSP</td>\n      <td>BTO</td>\n      <td>CSP</td>\n      <td>BTO</td>\n      <td>BTO</td>\n      <td>CLP</td>\n      <td>STO</td>\n      <td>BTO</td>\n      <td>BTO</td>\n      <td>BTO</td>\n      <td>...</td>\n      <td>CSP</td>\n      <td>CLP</td>\n      <td>CSP</td>\n      <td>CLP</td>\n      <td>CSP</td>\n      <td>STO</td>\n      <td>NaN</td>\n      <td>NaN</td>\n      <td>CSP</td>\n      <td>CSP</td>\n    </tr>\n  </tbody>\n</table>\n<p>25 rows × 42 columns</p>\n</div>"
     },
     "execution_count": 6,
     "metadata": {},
     "output_type": "execute_result"
    }
   ],
   "source": [
    "trading_signals = pd.DataFrame.from_dict(trading_signals, orient='index')\n",
    "trading_signals"
   ],
   "metadata": {
    "collapsed": false
   }
  },
  {
   "cell_type": "code",
   "execution_count": 19,
   "outputs": [],
   "source": [
    "def get_ret(df, start, finish):\n",
    "    a = df.loc[start]\n",
    "    b = df.loc[finish]\n",
    "    return pd.concat([a, b], axis=1).T.pct_change()[1:]"
   ],
   "metadata": {
    "collapsed": false
   }
  },
  {
   "cell_type": "code",
   "execution_count": 9,
   "outputs": [],
   "source": [
    "def map_signal_to_trade(current_signal, previous_signal, previous_signal_value, current_date, previous_date):\n",
    "    open_positions=pd.DataFrame()\n",
    "    closed_positions = pd.DataFrame()\n",
    "\n",
    "    ret_df = get_ret(arb.prices_df, previous_date, current_date)\n",
    "    ret_df = ret_df.loc[:, current_signal.index]\n",
    "\n",
    "    # if no change in signal\n",
    "    if current_signal == previous_signal:\n",
    "        current_position = previous_signal_value\n",
    "        open_positions.loc[current_date, 'Return'] = current_position@ret_df\n",
    "    else:\n",
    "        current_position = 0 # close previous position\n",
    "        if current_signal == \"BTO\":\n",
    "            current_position = 1\n",
    "        elif current_signal == \"STO\":\n",
    "            current_position = -1\n",
    "    return current_position, open_positions, closed_positions"
   ],
   "metadata": {
    "collapsed": false
   }
  },
  {
   "cell_type": "code",
   "execution_count": 31,
   "outputs": [],
   "source": [
    "ret_df = get_ret(arb.prices_df, previous_signal.name, current_line.name)\n",
    "ret_df = ret_df.loc[:, current_line.index]"
   ],
   "metadata": {
    "collapsed": false
   }
  },
  {
   "cell_type": "code",
   "execution_count": 26,
   "outputs": [],
   "source": [
    "current_line = trading_signals.iloc[1].copy(deep=True)\n",
    "previous_signal = trading_signals.iloc[0].copy(deep=True)"
   ],
   "metadata": {
    "collapsed": false
   }
  },
  {
   "cell_type": "code",
   "execution_count": null,
   "outputs": [],
   "source": [
    "d = {}\n",
    "d['STOCK'] = {\"TIME\": weight}"
   ],
   "metadata": {
    "collapsed": false
   }
  },
  {
   "cell_type": "code",
   "execution_count": 36,
   "outputs": [],
   "source": [
    "ts = pd.DataFrame(np.where(trading_signals==\"BTO\", 1, np.where(trading_signals==\"STO\", -1, 0)), index=trading_signals.index, columns=trading_signals.columns)"
   ],
   "metadata": {
    "collapsed": false
   }
  },
  {
   "cell_type": "code",
   "execution_count": 62,
   "outputs": [
    {
     "data": {
      "text/plain": "                     BTC  BNB  XRP  SOL  DOGE  LINK  UNI  LTC  BCH  MATIC  \\\n2021-09-26 00:00:00    0    0    0    0     0    -1   -1    0    0      0   \n2021-09-26 01:00:00    0    0    0    0     0    -1   -1    0    0      0   \n2021-09-26 02:00:00    0    0    0    0     0    -1   -1    0    0      0   \n2021-09-26 03:00:00    0    0    0    0     0    -1    0    0    0     -1   \n2021-09-26 04:00:00    0    0    0    0     0    -1    0   -1    0      0   \n2021-09-26 05:00:00    0    0    0    0     0    -1   -1    0    0      0   \n2021-09-26 06:00:00    0    0    0    0     0    -1    0    0    0      0   \n2021-09-26 07:00:00    0    0    0    0     0    -1    0    0    0      0   \n2021-09-26 08:00:00    0    0    0    0     0    -1   -1    0    0      0   \n2021-09-26 09:00:00    0    0    0    0     0    -1   -1    0    0     -1   \n2021-09-26 10:00:00    0    1    0    0     0    -1    0    0    0      0   \n2021-09-26 11:00:00    0    1    0    0     1    -1   -1    0    0      0   \n2021-09-26 12:00:00    0    1    0    0     1    -1   -1    0    0      0   \n2021-09-26 13:00:00    0    1    0    0     1    -1   -1    0    0      0   \n2021-09-26 14:00:00    0    1    0    0     1    -1   -1    0    0      0   \n2021-09-26 15:00:00    0    1    0    0     1    -1   -1    0    0      0   \n2021-09-26 16:00:00    0    1    0    0     1    -1   -1    0    0      0   \n2021-09-26 17:00:00    0    1    0    0     1    -1   -1    0    0      0   \n2021-09-26 18:00:00    0    1    0    0     1    -1   -1    0    1      0   \n2021-09-26 19:00:00    0    1    0    0     1     0   -1    0    1      0   \n2021-09-26 20:00:00    0    1    0    0     1     0   -1    0    1      0   \n2021-09-26 21:00:00    0    1    0    1     1     0   -1    1    1      0   \n2021-09-26 22:00:00    0    1    0    1     1     0   -1    1    1      0   \n2021-09-26 23:00:00    0    1    0    1     1     0   -1    1    1      1   \n2021-09-27 00:00:00    0    1    0    1     1     0   -1    1    1      1   \n\n                     ...  AUDIO  BNT  ZRX  DYDX  RAY  PERP  SAND  C98  CRO  \\\n2021-09-26 00:00:00  ...      1   -1    0     0    0     0     0    0    0   \n2021-09-26 01:00:00  ...      0   -1    0     0    0     0     0    0    0   \n2021-09-26 02:00:00  ...      1    0    0     0    0     0     0    0    0   \n2021-09-26 03:00:00  ...      1    0    0     0    0     0     0    0    0   \n2021-09-26 04:00:00  ...      1    0    0     0    0     0     0    0    0   \n2021-09-26 05:00:00  ...      1    0    0     0    0     0     0    0    0   \n2021-09-26 06:00:00  ...      1    0    0     0    0     0     0    0    0   \n2021-09-26 07:00:00  ...      1   -1    0     0    0     0     0    0    0   \n2021-09-26 08:00:00  ...      1   -1    0     0    0     0     0    0    0   \n2021-09-26 09:00:00  ...      1   -1    0     0    0     0     0    0    0   \n2021-09-26 10:00:00  ...      0    0    0     0    0    -1     0    0    0   \n2021-09-26 11:00:00  ...      1   -1    0     0    0    -1     0    0    0   \n2021-09-26 12:00:00  ...      1    0    0     0    0    -1     0    0    0   \n2021-09-26 13:00:00  ...      1    0    0     0    0    -1     0    0    0   \n2021-09-26 14:00:00  ...      1   -1    0     0    0    -1     0    0    1   \n2021-09-26 15:00:00  ...      1   -1    0     0    0    -1     0    0    0   \n2021-09-26 16:00:00  ...      1    0    0     0    0    -1     0    0    0   \n2021-09-26 17:00:00  ...      0    0    0     0    0    -1     0    0    0   \n2021-09-26 18:00:00  ...      0    0    0     0    0    -1     0    0    0   \n2021-09-26 19:00:00  ...      0    0    0     0    0    -1     0    0    0   \n2021-09-26 20:00:00  ...      0    0    0     0    0    -1     0    0    0   \n2021-09-26 21:00:00  ...      0    0    0     0    0    -1     0    0    0   \n2021-09-26 22:00:00  ...      0    0    0     0    0    -1     0    0    0   \n2021-09-26 23:00:00  ...      0    0    0     0    0    -1     0    0    0   \n2021-09-27 00:00:00  ...      0    0    0     0    0    -1     0    0    0   \n\n                     HNT  \n2021-09-26 00:00:00    0  \n2021-09-26 01:00:00    0  \n2021-09-26 02:00:00    0  \n2021-09-26 03:00:00    0  \n2021-09-26 04:00:00    0  \n2021-09-26 05:00:00    0  \n2021-09-26 06:00:00    0  \n2021-09-26 07:00:00    0  \n2021-09-26 08:00:00    0  \n2021-09-26 09:00:00    0  \n2021-09-26 10:00:00    0  \n2021-09-26 11:00:00    0  \n2021-09-26 12:00:00    0  \n2021-09-26 13:00:00    0  \n2021-09-26 14:00:00    0  \n2021-09-26 15:00:00    0  \n2021-09-26 16:00:00    0  \n2021-09-26 17:00:00    0  \n2021-09-26 18:00:00    0  \n2021-09-26 19:00:00    0  \n2021-09-26 20:00:00    0  \n2021-09-26 21:00:00    0  \n2021-09-26 22:00:00    0  \n2021-09-26 23:00:00    0  \n2021-09-27 00:00:00    0  \n\n[25 rows x 42 columns]",
      "text/html": "<div>\n<style scoped>\n    .dataframe tbody tr th:only-of-type {\n        vertical-align: middle;\n    }\n\n    .dataframe tbody tr th {\n        vertical-align: top;\n    }\n\n    .dataframe thead th {\n        text-align: right;\n    }\n</style>\n<table border=\"1\" class=\"dataframe\">\n  <thead>\n    <tr style=\"text-align: right;\">\n      <th></th>\n      <th>BTC</th>\n      <th>BNB</th>\n      <th>XRP</th>\n      <th>SOL</th>\n      <th>DOGE</th>\n      <th>LINK</th>\n      <th>UNI</th>\n      <th>LTC</th>\n      <th>BCH</th>\n      <th>MATIC</th>\n      <th>...</th>\n      <th>AUDIO</th>\n      <th>BNT</th>\n      <th>ZRX</th>\n      <th>DYDX</th>\n      <th>RAY</th>\n      <th>PERP</th>\n      <th>SAND</th>\n      <th>C98</th>\n      <th>CRO</th>\n      <th>HNT</th>\n    </tr>\n  </thead>\n  <tbody>\n    <tr>\n      <th>2021-09-26 00:00:00</th>\n      <td>0</td>\n      <td>0</td>\n      <td>0</td>\n      <td>0</td>\n      <td>0</td>\n      <td>-1</td>\n      <td>-1</td>\n      <td>0</td>\n      <td>0</td>\n      <td>0</td>\n      <td>...</td>\n      <td>1</td>\n      <td>-1</td>\n      <td>0</td>\n      <td>0</td>\n      <td>0</td>\n      <td>0</td>\n      <td>0</td>\n      <td>0</td>\n      <td>0</td>\n      <td>0</td>\n    </tr>\n    <tr>\n      <th>2021-09-26 01:00:00</th>\n      <td>0</td>\n      <td>0</td>\n      <td>0</td>\n      <td>0</td>\n      <td>0</td>\n      <td>-1</td>\n      <td>-1</td>\n      <td>0</td>\n      <td>0</td>\n      <td>0</td>\n      <td>...</td>\n      <td>0</td>\n      <td>-1</td>\n      <td>0</td>\n      <td>0</td>\n      <td>0</td>\n      <td>0</td>\n      <td>0</td>\n      <td>0</td>\n      <td>0</td>\n      <td>0</td>\n    </tr>\n    <tr>\n      <th>2021-09-26 02:00:00</th>\n      <td>0</td>\n      <td>0</td>\n      <td>0</td>\n      <td>0</td>\n      <td>0</td>\n      <td>-1</td>\n      <td>-1</td>\n      <td>0</td>\n      <td>0</td>\n      <td>0</td>\n      <td>...</td>\n      <td>1</td>\n      <td>0</td>\n      <td>0</td>\n      <td>0</td>\n      <td>0</td>\n      <td>0</td>\n      <td>0</td>\n      <td>0</td>\n      <td>0</td>\n      <td>0</td>\n    </tr>\n    <tr>\n      <th>2021-09-26 03:00:00</th>\n      <td>0</td>\n      <td>0</td>\n      <td>0</td>\n      <td>0</td>\n      <td>0</td>\n      <td>-1</td>\n      <td>0</td>\n      <td>0</td>\n      <td>0</td>\n      <td>-1</td>\n      <td>...</td>\n      <td>1</td>\n      <td>0</td>\n      <td>0</td>\n      <td>0</td>\n      <td>0</td>\n      <td>0</td>\n      <td>0</td>\n      <td>0</td>\n      <td>0</td>\n      <td>0</td>\n    </tr>\n    <tr>\n      <th>2021-09-26 04:00:00</th>\n      <td>0</td>\n      <td>0</td>\n      <td>0</td>\n      <td>0</td>\n      <td>0</td>\n      <td>-1</td>\n      <td>0</td>\n      <td>-1</td>\n      <td>0</td>\n      <td>0</td>\n      <td>...</td>\n      <td>1</td>\n      <td>0</td>\n      <td>0</td>\n      <td>0</td>\n      <td>0</td>\n      <td>0</td>\n      <td>0</td>\n      <td>0</td>\n      <td>0</td>\n      <td>0</td>\n    </tr>\n    <tr>\n      <th>2021-09-26 05:00:00</th>\n      <td>0</td>\n      <td>0</td>\n      <td>0</td>\n      <td>0</td>\n      <td>0</td>\n      <td>-1</td>\n      <td>-1</td>\n      <td>0</td>\n      <td>0</td>\n      <td>0</td>\n      <td>...</td>\n      <td>1</td>\n      <td>0</td>\n      <td>0</td>\n      <td>0</td>\n      <td>0</td>\n      <td>0</td>\n      <td>0</td>\n      <td>0</td>\n      <td>0</td>\n      <td>0</td>\n    </tr>\n    <tr>\n      <th>2021-09-26 06:00:00</th>\n      <td>0</td>\n      <td>0</td>\n      <td>0</td>\n      <td>0</td>\n      <td>0</td>\n      <td>-1</td>\n      <td>0</td>\n      <td>0</td>\n      <td>0</td>\n      <td>0</td>\n      <td>...</td>\n      <td>1</td>\n      <td>0</td>\n      <td>0</td>\n      <td>0</td>\n      <td>0</td>\n      <td>0</td>\n      <td>0</td>\n      <td>0</td>\n      <td>0</td>\n      <td>0</td>\n    </tr>\n    <tr>\n      <th>2021-09-26 07:00:00</th>\n      <td>0</td>\n      <td>0</td>\n      <td>0</td>\n      <td>0</td>\n      <td>0</td>\n      <td>-1</td>\n      <td>0</td>\n      <td>0</td>\n      <td>0</td>\n      <td>0</td>\n      <td>...</td>\n      <td>1</td>\n      <td>-1</td>\n      <td>0</td>\n      <td>0</td>\n      <td>0</td>\n      <td>0</td>\n      <td>0</td>\n      <td>0</td>\n      <td>0</td>\n      <td>0</td>\n    </tr>\n    <tr>\n      <th>2021-09-26 08:00:00</th>\n      <td>0</td>\n      <td>0</td>\n      <td>0</td>\n      <td>0</td>\n      <td>0</td>\n      <td>-1</td>\n      <td>-1</td>\n      <td>0</td>\n      <td>0</td>\n      <td>0</td>\n      <td>...</td>\n      <td>1</td>\n      <td>-1</td>\n      <td>0</td>\n      <td>0</td>\n      <td>0</td>\n      <td>0</td>\n      <td>0</td>\n      <td>0</td>\n      <td>0</td>\n      <td>0</td>\n    </tr>\n    <tr>\n      <th>2021-09-26 09:00:00</th>\n      <td>0</td>\n      <td>0</td>\n      <td>0</td>\n      <td>0</td>\n      <td>0</td>\n      <td>-1</td>\n      <td>-1</td>\n      <td>0</td>\n      <td>0</td>\n      <td>-1</td>\n      <td>...</td>\n      <td>1</td>\n      <td>-1</td>\n      <td>0</td>\n      <td>0</td>\n      <td>0</td>\n      <td>0</td>\n      <td>0</td>\n      <td>0</td>\n      <td>0</td>\n      <td>0</td>\n    </tr>\n    <tr>\n      <th>2021-09-26 10:00:00</th>\n      <td>0</td>\n      <td>1</td>\n      <td>0</td>\n      <td>0</td>\n      <td>0</td>\n      <td>-1</td>\n      <td>0</td>\n      <td>0</td>\n      <td>0</td>\n      <td>0</td>\n      <td>...</td>\n      <td>0</td>\n      <td>0</td>\n      <td>0</td>\n      <td>0</td>\n      <td>0</td>\n      <td>-1</td>\n      <td>0</td>\n      <td>0</td>\n      <td>0</td>\n      <td>0</td>\n    </tr>\n    <tr>\n      <th>2021-09-26 11:00:00</th>\n      <td>0</td>\n      <td>1</td>\n      <td>0</td>\n      <td>0</td>\n      <td>1</td>\n      <td>-1</td>\n      <td>-1</td>\n      <td>0</td>\n      <td>0</td>\n      <td>0</td>\n      <td>...</td>\n      <td>1</td>\n      <td>-1</td>\n      <td>0</td>\n      <td>0</td>\n      <td>0</td>\n      <td>-1</td>\n      <td>0</td>\n      <td>0</td>\n      <td>0</td>\n      <td>0</td>\n    </tr>\n    <tr>\n      <th>2021-09-26 12:00:00</th>\n      <td>0</td>\n      <td>1</td>\n      <td>0</td>\n      <td>0</td>\n      <td>1</td>\n      <td>-1</td>\n      <td>-1</td>\n      <td>0</td>\n      <td>0</td>\n      <td>0</td>\n      <td>...</td>\n      <td>1</td>\n      <td>0</td>\n      <td>0</td>\n      <td>0</td>\n      <td>0</td>\n      <td>-1</td>\n      <td>0</td>\n      <td>0</td>\n      <td>0</td>\n      <td>0</td>\n    </tr>\n    <tr>\n      <th>2021-09-26 13:00:00</th>\n      <td>0</td>\n      <td>1</td>\n      <td>0</td>\n      <td>0</td>\n      <td>1</td>\n      <td>-1</td>\n      <td>-1</td>\n      <td>0</td>\n      <td>0</td>\n      <td>0</td>\n      <td>...</td>\n      <td>1</td>\n      <td>0</td>\n      <td>0</td>\n      <td>0</td>\n      <td>0</td>\n      <td>-1</td>\n      <td>0</td>\n      <td>0</td>\n      <td>0</td>\n      <td>0</td>\n    </tr>\n    <tr>\n      <th>2021-09-26 14:00:00</th>\n      <td>0</td>\n      <td>1</td>\n      <td>0</td>\n      <td>0</td>\n      <td>1</td>\n      <td>-1</td>\n      <td>-1</td>\n      <td>0</td>\n      <td>0</td>\n      <td>0</td>\n      <td>...</td>\n      <td>1</td>\n      <td>-1</td>\n      <td>0</td>\n      <td>0</td>\n      <td>0</td>\n      <td>-1</td>\n      <td>0</td>\n      <td>0</td>\n      <td>1</td>\n      <td>0</td>\n    </tr>\n    <tr>\n      <th>2021-09-26 15:00:00</th>\n      <td>0</td>\n      <td>1</td>\n      <td>0</td>\n      <td>0</td>\n      <td>1</td>\n      <td>-1</td>\n      <td>-1</td>\n      <td>0</td>\n      <td>0</td>\n      <td>0</td>\n      <td>...</td>\n      <td>1</td>\n      <td>-1</td>\n      <td>0</td>\n      <td>0</td>\n      <td>0</td>\n      <td>-1</td>\n      <td>0</td>\n      <td>0</td>\n      <td>0</td>\n      <td>0</td>\n    </tr>\n    <tr>\n      <th>2021-09-26 16:00:00</th>\n      <td>0</td>\n      <td>1</td>\n      <td>0</td>\n      <td>0</td>\n      <td>1</td>\n      <td>-1</td>\n      <td>-1</td>\n      <td>0</td>\n      <td>0</td>\n      <td>0</td>\n      <td>...</td>\n      <td>1</td>\n      <td>0</td>\n      <td>0</td>\n      <td>0</td>\n      <td>0</td>\n      <td>-1</td>\n      <td>0</td>\n      <td>0</td>\n      <td>0</td>\n      <td>0</td>\n    </tr>\n    <tr>\n      <th>2021-09-26 17:00:00</th>\n      <td>0</td>\n      <td>1</td>\n      <td>0</td>\n      <td>0</td>\n      <td>1</td>\n      <td>-1</td>\n      <td>-1</td>\n      <td>0</td>\n      <td>0</td>\n      <td>0</td>\n      <td>...</td>\n      <td>0</td>\n      <td>0</td>\n      <td>0</td>\n      <td>0</td>\n      <td>0</td>\n      <td>-1</td>\n      <td>0</td>\n      <td>0</td>\n      <td>0</td>\n      <td>0</td>\n    </tr>\n    <tr>\n      <th>2021-09-26 18:00:00</th>\n      <td>0</td>\n      <td>1</td>\n      <td>0</td>\n      <td>0</td>\n      <td>1</td>\n      <td>-1</td>\n      <td>-1</td>\n      <td>0</td>\n      <td>1</td>\n      <td>0</td>\n      <td>...</td>\n      <td>0</td>\n      <td>0</td>\n      <td>0</td>\n      <td>0</td>\n      <td>0</td>\n      <td>-1</td>\n      <td>0</td>\n      <td>0</td>\n      <td>0</td>\n      <td>0</td>\n    </tr>\n    <tr>\n      <th>2021-09-26 19:00:00</th>\n      <td>0</td>\n      <td>1</td>\n      <td>0</td>\n      <td>0</td>\n      <td>1</td>\n      <td>0</td>\n      <td>-1</td>\n      <td>0</td>\n      <td>1</td>\n      <td>0</td>\n      <td>...</td>\n      <td>0</td>\n      <td>0</td>\n      <td>0</td>\n      <td>0</td>\n      <td>0</td>\n      <td>-1</td>\n      <td>0</td>\n      <td>0</td>\n      <td>0</td>\n      <td>0</td>\n    </tr>\n    <tr>\n      <th>2021-09-26 20:00:00</th>\n      <td>0</td>\n      <td>1</td>\n      <td>0</td>\n      <td>0</td>\n      <td>1</td>\n      <td>0</td>\n      <td>-1</td>\n      <td>0</td>\n      <td>1</td>\n      <td>0</td>\n      <td>...</td>\n      <td>0</td>\n      <td>0</td>\n      <td>0</td>\n      <td>0</td>\n      <td>0</td>\n      <td>-1</td>\n      <td>0</td>\n      <td>0</td>\n      <td>0</td>\n      <td>0</td>\n    </tr>\n    <tr>\n      <th>2021-09-26 21:00:00</th>\n      <td>0</td>\n      <td>1</td>\n      <td>0</td>\n      <td>1</td>\n      <td>1</td>\n      <td>0</td>\n      <td>-1</td>\n      <td>1</td>\n      <td>1</td>\n      <td>0</td>\n      <td>...</td>\n      <td>0</td>\n      <td>0</td>\n      <td>0</td>\n      <td>0</td>\n      <td>0</td>\n      <td>-1</td>\n      <td>0</td>\n      <td>0</td>\n      <td>0</td>\n      <td>0</td>\n    </tr>\n    <tr>\n      <th>2021-09-26 22:00:00</th>\n      <td>0</td>\n      <td>1</td>\n      <td>0</td>\n      <td>1</td>\n      <td>1</td>\n      <td>0</td>\n      <td>-1</td>\n      <td>1</td>\n      <td>1</td>\n      <td>0</td>\n      <td>...</td>\n      <td>0</td>\n      <td>0</td>\n      <td>0</td>\n      <td>0</td>\n      <td>0</td>\n      <td>-1</td>\n      <td>0</td>\n      <td>0</td>\n      <td>0</td>\n      <td>0</td>\n    </tr>\n    <tr>\n      <th>2021-09-26 23:00:00</th>\n      <td>0</td>\n      <td>1</td>\n      <td>0</td>\n      <td>1</td>\n      <td>1</td>\n      <td>0</td>\n      <td>-1</td>\n      <td>1</td>\n      <td>1</td>\n      <td>1</td>\n      <td>...</td>\n      <td>0</td>\n      <td>0</td>\n      <td>0</td>\n      <td>0</td>\n      <td>0</td>\n      <td>-1</td>\n      <td>0</td>\n      <td>0</td>\n      <td>0</td>\n      <td>0</td>\n    </tr>\n    <tr>\n      <th>2021-09-27 00:00:00</th>\n      <td>0</td>\n      <td>1</td>\n      <td>0</td>\n      <td>1</td>\n      <td>1</td>\n      <td>0</td>\n      <td>-1</td>\n      <td>1</td>\n      <td>1</td>\n      <td>1</td>\n      <td>...</td>\n      <td>0</td>\n      <td>0</td>\n      <td>0</td>\n      <td>0</td>\n      <td>0</td>\n      <td>-1</td>\n      <td>0</td>\n      <td>0</td>\n      <td>0</td>\n      <td>0</td>\n    </tr>\n  </tbody>\n</table>\n<p>25 rows × 42 columns</p>\n</div>"
     },
     "execution_count": 62,
     "metadata": {},
     "output_type": "execute_result"
    }
   ],
   "source": [
    "ts"
   ],
   "metadata": {
    "collapsed": false
   }
  },
  {
   "cell_type": "code",
   "execution_count": null,
   "outputs": [],
   "source": [],
   "metadata": {
    "collapsed": false
   }
  },
  {
   "cell_type": "code",
   "execution_count": 61,
   "outputs": [],
   "source": [
    "def get_ret(df, start, finish):\n",
    "    # a = df.loc[start]\n",
    "    # b = df.loc[finish]\n",
    "    # return pd.concat([a, b], axis=1).T.pct_change()[1:]\n",
    "    return df.loc[start:finish].pct_change()[1:]"
   ],
   "metadata": {
    "collapsed": false
   }
  },
  {
   "cell_type": "code",
   "execution_count": 49,
   "outputs": [],
   "source": [
    "ret_df = get_ret(arb.prices_df, start, finish)\n",
    "ret_df = ret_df.loc[:, ts.columns].shift(-1)"
   ],
   "metadata": {
    "collapsed": false
   }
  },
  {
   "cell_type": "code",
   "execution_count": 57,
   "outputs": [
    {
     "data": {
      "text/plain": "<AxesSubplot:>"
     },
     "execution_count": 57,
     "metadata": {},
     "output_type": "execute_result"
    },
    {
     "data": {
      "text/plain": "<Figure size 432x288 with 1 Axes>",
      "image/png": "[encoded data removed]"
     },
     "metadata": {
      "needs_background": "light"
     },
     "output_type": "display_data"
    }
   ],
   "source": [
    "weighted_ret = ts * ret_df\n",
    "weighted_ret['UNI'].plot()"
   ],
   "metadata": {
    "collapsed": false
   }
  },
  {
   "cell_type": "code",
   "execution_count": null,
   "outputs": [],
   "source": [],
   "metadata": {
    "collapsed": false
   }
  },
  {
   "cell_type": "code",
   "execution_count": null,
   "outputs": [],
   "source": [
    "ts = pd.DataFrame(np.where(trading_signals==\"BTO\", 1, np.where(trading_signals==\"STO\", -1, 0)), index=trading_signals.index, columns=trading_signals.columns)\n",
    "\n",
    "open_positions={}\n",
    "closed_positions = {}\n",
    "df = pd.DataFrame()\n",
    "for i,j in enumerate(trading_signals.index):\n",
    "    current_line = trading_signals.iloc[i].copy(deep=True)\n",
    "    previous_signal = trading_signals.iloc[i-1].copy(deep=True)\n",
    "\n",
    "    ret_df = get_ret(arb.prices_df, previous_signal.name, current_line.name)\n",
    "    ret_df = ret_df.loc[:, current_signal.index]\n",
    "\n",
    "    for ticker in current_line.index:\n",
    "        if ticker in open_positions:\n",
    "            if i == 0:\n",
    "                current_line_applied = current_line[ticker].apply(lambda x: 1 if x == \"BTO\" else (-1 if x == \"STO\" else 0))\n",
    "                previous_signal_value = current_line_applied\n",
    "                open_positions = current_line_applied[current_line_applied.isin([-1, 1])].to_dict()\n",
    "\n",
    "            else:\n",
    "                previous_signal = trading_signals.iloc[i-1].copy(deep=True)\n",
    "                current_line_applied = current_line.apply(map_signal_to_trade, previous_signal=previous_signal[ticker], previous_signal_value=previous_signal_value[ticker])\n",
    "                previous_signal_value = current_line_applied\n",
    "        else:\n",
    "            if i == 0:\n",
    "                current_line_applied = current_line.apply(lambda x: 1 if x == \"BTO\" else (-1 if x == \"STO\" else 0))\n",
    "                previous_signal_value = current_line_applied\n",
    "                open_positions = current_line_applied[current_line_applied.isin([-1, 1])].to_dict()\n",
    "\n",
    "            else:\n",
    "                previous_signal = trading_signals.iloc[i-1].copy(deep=True)\n",
    "                current_line_applied = current_line.apply(map_signal_to_trade, previous_signal=previous_signal[ticker], previous_signal_value=previous_signal_value[ticker])\n",
    "                previous_signal_value = current_line_applied"
   ],
   "metadata": {
    "collapsed": false
   }
  },
  {
   "cell_type": "code",
   "execution_count": 33,
   "outputs": [
    {
     "data": {
      "text/plain": "BTC      0\nBNB      0\nXRP      0\nSOL      0\nDOGE     0\nLINK    -1\nUNI     -1\nLTC      0\nBCH      0\nMATIC    0\nFTT     -1\nTRX     -1\nAXS      0\nSHIB     0\nAAVE    -1\nOKB      1\nGRT     -1\nFTM      0\nCEL      0\nMKR      0\nCOMP     0\nSUSHI   -1\nSNX      0\nHT       1\nCHZ      0\nOMG      0\nENJ      0\nYFI     -1\nSRM      0\nBAT      0\nCRV      0\nREN     -1\nAUDIO    1\nBNT     -1\nZRX      0\nDYDX     0\nRAY      0\nPERP     0\nSAND     0\nC98      0\nCRO      0\nHNT      0\nName: 2021-09-26 00:00:00, dtype: int64"
     },
     "execution_count": 33,
     "metadata": {},
     "output_type": "execute_result"
    }
   ],
   "source": [
    "current_line_applied@"
   ],
   "metadata": {
    "collapsed": false
   }
  },
  {
   "cell_type": "code",
   "execution_count": 15,
   "outputs": [],
   "source": [
    "current_line_applied = current_line.apply(lambda x: 1 if x == \"BTO\" else (-1 if x == \"STO\" else 0))"
   ],
   "metadata": {
    "collapsed": false
   }
  },
  {
   "cell_type": "code",
   "execution_count": 32,
   "outputs": [
    {
     "data": {
      "text/plain": "LINK    -1\nUNI     -1\nFTT     -1\nTRX     -1\nAAVE    -1\nOKB      1\nGRT     -1\nSUSHI   -1\nHT       1\nYFI     -1\nREN     -1\nAUDIO    1\nBNT     -1\nName: 2021-09-26 00:00:00, dtype: int64"
     },
     "execution_count": 32,
     "metadata": {},
     "output_type": "execute_result"
    }
   ],
   "source": [
    "d = current_line_applied[current_line_applied.isin([-1, 1])]\n",
    "d"
   ],
   "metadata": {
    "collapsed": false
   }
  },
  {
   "cell_type": "code",
   "execution_count": null,
   "outputs": [],
   "source": [],
   "metadata": {
    "collapsed": false
   }
  },
  {
   "cell_type": "code",
   "execution_count": null,
   "outputs": [],
   "source": [],
   "metadata": {
    "collapsed": false
   }
  },
  {
   "cell_type": "code",
   "execution_count": 24,
   "outputs": [
    {
     "data": {
      "text/plain": "-1"
     },
     "execution_count": 24,
     "metadata": {},
     "output_type": "execute_result"
    }
   ],
   "source": [
    "d['LINK'] = {\"Ticker\": \"LINK\", \"Position\": d['LINK'], \"Return\":}"
   ],
   "metadata": {
    "collapsed": false
   }
  },
  {
   "cell_type": "code",
   "execution_count": 10,
   "outputs": [
    {
     "ename": "ValueError",
     "evalue": "The truth value of a Series is ambiguous. Use a.empty, a.bool(), a.item(), a.any() or a.all().",
     "output_type": "error",
     "traceback": [
      "\u001B[0;31m---------------------------------------------------------------------------\u001B[0m",
      "\u001B[0;31mValueError\u001B[0m                                Traceback (most recent call last)",
      "Input \u001B[0;32mIn [10]\u001B[0m, in \u001B[0;36m<cell line: 2>\u001B[0;34m()\u001B[0m\n\u001B[1;32m      7\u001B[0m \u001B[38;5;28;01melse\u001B[39;00m:\n\u001B[1;32m      8\u001B[0m     previous_signal \u001B[38;5;241m=\u001B[39m trading_signals\u001B[38;5;241m.\u001B[39miloc[i\u001B[38;5;241m-\u001B[39m\u001B[38;5;241m1\u001B[39m]\u001B[38;5;241m.\u001B[39mcopy(deep\u001B[38;5;241m=\u001B[39m\u001B[38;5;28;01mTrue\u001B[39;00m)\n\u001B[0;32m----> 9\u001B[0m     current_line_applied \u001B[38;5;241m=\u001B[39m \u001B[43mcurrent_line\u001B[49m\u001B[38;5;241;43m.\u001B[39;49m\u001B[43mapply\u001B[49m\u001B[43m(\u001B[49m\u001B[43mmap_signal_to_trade\u001B[49m\u001B[43m,\u001B[49m\u001B[43m \u001B[49m\u001B[43mprevious_signal\u001B[49m\u001B[38;5;241;43m=\u001B[39;49m\u001B[43mprevious_signal\u001B[49m\u001B[43m,\u001B[49m\u001B[43m \u001B[49m\u001B[43mprevious_signal_value\u001B[49m\u001B[38;5;241;43m=\u001B[39;49m\u001B[43mprevious_signal_value\u001B[49m\u001B[43m)\u001B[49m\n\u001B[1;32m     10\u001B[0m     previous_signal_value \u001B[38;5;241m=\u001B[39m current_line_applied\n\u001B[1;32m     12\u001B[0m df\u001B[38;5;241m.\u001B[39mloc[j, current_line_applied\u001B[38;5;241m.\u001B[39mindex] \u001B[38;5;241m=\u001B[39m current_line_applied\n",
      "File \u001B[0;32m~/miniforge3/envs/tf_m1/lib/python3.9/site-packages/pandas/core/series.py:4357\u001B[0m, in \u001B[0;36mSeries.apply\u001B[0;34m(self, func, convert_dtype, args, **kwargs)\u001B[0m\n\u001B[1;32m   4247\u001B[0m \u001B[38;5;28;01mdef\u001B[39;00m \u001B[38;5;21mapply\u001B[39m(\n\u001B[1;32m   4248\u001B[0m     \u001B[38;5;28mself\u001B[39m,\n\u001B[1;32m   4249\u001B[0m     func: AggFuncType,\n\u001B[0;32m   (...)\u001B[0m\n\u001B[1;32m   4252\u001B[0m     \u001B[38;5;241m*\u001B[39m\u001B[38;5;241m*\u001B[39mkwargs,\n\u001B[1;32m   4253\u001B[0m ) \u001B[38;5;241m-\u001B[39m\u001B[38;5;241m>\u001B[39m FrameOrSeriesUnion:\n\u001B[1;32m   4254\u001B[0m     \u001B[38;5;124;03m\"\"\"\u001B[39;00m\n\u001B[1;32m   4255\u001B[0m \u001B[38;5;124;03m    Invoke function on values of Series.\u001B[39;00m\n\u001B[1;32m   4256\u001B[0m \n\u001B[0;32m   (...)\u001B[0m\n\u001B[1;32m   4355\u001B[0m \u001B[38;5;124;03m    dtype: float64\u001B[39;00m\n\u001B[1;32m   4356\u001B[0m \u001B[38;5;124;03m    \"\"\"\u001B[39;00m\n\u001B[0;32m-> 4357\u001B[0m     \u001B[38;5;28;01mreturn\u001B[39;00m \u001B[43mSeriesApply\u001B[49m\u001B[43m(\u001B[49m\u001B[38;5;28;43mself\u001B[39;49m\u001B[43m,\u001B[49m\u001B[43m \u001B[49m\u001B[43mfunc\u001B[49m\u001B[43m,\u001B[49m\u001B[43m \u001B[49m\u001B[43mconvert_dtype\u001B[49m\u001B[43m,\u001B[49m\u001B[43m \u001B[49m\u001B[43margs\u001B[49m\u001B[43m,\u001B[49m\u001B[43m \u001B[49m\u001B[43mkwargs\u001B[49m\u001B[43m)\u001B[49m\u001B[38;5;241;43m.\u001B[39;49m\u001B[43mapply\u001B[49m\u001B[43m(\u001B[49m\u001B[43m)\u001B[49m\n",
      "File \u001B[0;32m~/miniforge3/envs/tf_m1/lib/python3.9/site-packages/pandas/core/apply.py:1043\u001B[0m, in \u001B[0;36mSeriesApply.apply\u001B[0;34m(self)\u001B[0m\n\u001B[1;32m   1039\u001B[0m \u001B[38;5;28;01mif\u001B[39;00m \u001B[38;5;28misinstance\u001B[39m(\u001B[38;5;28mself\u001B[39m\u001B[38;5;241m.\u001B[39mf, \u001B[38;5;28mstr\u001B[39m):\n\u001B[1;32m   1040\u001B[0m     \u001B[38;5;66;03m# if we are a string, try to dispatch\u001B[39;00m\n\u001B[1;32m   1041\u001B[0m     \u001B[38;5;28;01mreturn\u001B[39;00m \u001B[38;5;28mself\u001B[39m\u001B[38;5;241m.\u001B[39mapply_str()\n\u001B[0;32m-> 1043\u001B[0m \u001B[38;5;28;01mreturn\u001B[39;00m \u001B[38;5;28;43mself\u001B[39;49m\u001B[38;5;241;43m.\u001B[39;49m\u001B[43mapply_standard\u001B[49m\u001B[43m(\u001B[49m\u001B[43m)\u001B[49m\n",
      "File \u001B[0;32m~/miniforge3/envs/tf_m1/lib/python3.9/site-packages/pandas/core/apply.py:1098\u001B[0m, in \u001B[0;36mSeriesApply.apply_standard\u001B[0;34m(self)\u001B[0m\n\u001B[1;32m   1092\u001B[0m         values \u001B[38;5;241m=\u001B[39m obj\u001B[38;5;241m.\u001B[39mastype(\u001B[38;5;28mobject\u001B[39m)\u001B[38;5;241m.\u001B[39m_values\n\u001B[1;32m   1093\u001B[0m         \u001B[38;5;66;03m# error: Argument 2 to \"map_infer\" has incompatible type\u001B[39;00m\n\u001B[1;32m   1094\u001B[0m         \u001B[38;5;66;03m# \"Union[Callable[..., Any], str, List[Union[Callable[..., Any], str]],\u001B[39;00m\n\u001B[1;32m   1095\u001B[0m         \u001B[38;5;66;03m# Dict[Hashable, Union[Union[Callable[..., Any], str],\u001B[39;00m\n\u001B[1;32m   1096\u001B[0m         \u001B[38;5;66;03m# List[Union[Callable[..., Any], str]]]]]\"; expected\u001B[39;00m\n\u001B[1;32m   1097\u001B[0m         \u001B[38;5;66;03m# \"Callable[[Any], Any]\"\u001B[39;00m\n\u001B[0;32m-> 1098\u001B[0m         mapped \u001B[38;5;241m=\u001B[39m \u001B[43mlib\u001B[49m\u001B[38;5;241;43m.\u001B[39;49m\u001B[43mmap_infer\u001B[49m\u001B[43m(\u001B[49m\n\u001B[1;32m   1099\u001B[0m \u001B[43m            \u001B[49m\u001B[43mvalues\u001B[49m\u001B[43m,\u001B[49m\n\u001B[1;32m   1100\u001B[0m \u001B[43m            \u001B[49m\u001B[43mf\u001B[49m\u001B[43m,\u001B[49m\u001B[43m  \u001B[49m\u001B[38;5;66;43;03m# type: ignore[arg-type]\u001B[39;49;00m\n\u001B[1;32m   1101\u001B[0m \u001B[43m            \u001B[49m\u001B[43mconvert\u001B[49m\u001B[38;5;241;43m=\u001B[39;49m\u001B[38;5;28;43mself\u001B[39;49m\u001B[38;5;241;43m.\u001B[39;49m\u001B[43mconvert_dtype\u001B[49m\u001B[43m,\u001B[49m\n\u001B[1;32m   1102\u001B[0m \u001B[43m        \u001B[49m\u001B[43m)\u001B[49m\n\u001B[1;32m   1104\u001B[0m \u001B[38;5;28;01mif\u001B[39;00m \u001B[38;5;28mlen\u001B[39m(mapped) \u001B[38;5;129;01mand\u001B[39;00m \u001B[38;5;28misinstance\u001B[39m(mapped[\u001B[38;5;241m0\u001B[39m], ABCSeries):\n\u001B[1;32m   1105\u001B[0m     \u001B[38;5;66;03m# GH 25959 use pd.array instead of tolist\u001B[39;00m\n\u001B[1;32m   1106\u001B[0m     \u001B[38;5;66;03m# so extension arrays can be used\u001B[39;00m\n\u001B[1;32m   1107\u001B[0m     \u001B[38;5;28;01mreturn\u001B[39;00m obj\u001B[38;5;241m.\u001B[39m_constructor_expanddim(pd_array(mapped), index\u001B[38;5;241m=\u001B[39mobj\u001B[38;5;241m.\u001B[39mindex)\n",
      "File \u001B[0;32m~/miniforge3/envs/tf_m1/lib/python3.9/site-packages/pandas/_libs/lib.pyx:2859\u001B[0m, in \u001B[0;36mpandas._libs.lib.map_infer\u001B[0;34m()\u001B[0m\n",
      "File \u001B[0;32m~/miniforge3/envs/tf_m1/lib/python3.9/site-packages/pandas/core/apply.py:131\u001B[0m, in \u001B[0;36mApply.__init__.<locals>.f\u001B[0;34m(x)\u001B[0m\n\u001B[1;32m    130\u001B[0m \u001B[38;5;28;01mdef\u001B[39;00m \u001B[38;5;21mf\u001B[39m(x):\n\u001B[0;32m--> 131\u001B[0m     \u001B[38;5;28;01mreturn\u001B[39;00m \u001B[43mfunc\u001B[49m\u001B[43m(\u001B[49m\u001B[43mx\u001B[49m\u001B[43m,\u001B[49m\u001B[43m \u001B[49m\u001B[38;5;241;43m*\u001B[39;49m\u001B[43margs\u001B[49m\u001B[43m,\u001B[49m\u001B[43m \u001B[49m\u001B[38;5;241;43m*\u001B[39;49m\u001B[38;5;241;43m*\u001B[39;49m\u001B[43mkwargs\u001B[49m\u001B[43m)\u001B[49m\n",
      "Input \u001B[0;32mIn [9]\u001B[0m, in \u001B[0;36mmap_signal_to_trade\u001B[0;34m(current_signal, previous_signal, previous_signal_value)\u001B[0m\n\u001B[1;32m      1\u001B[0m \u001B[38;5;28;01mdef\u001B[39;00m \u001B[38;5;21mmap_signal_to_trade\u001B[39m(current_signal, previous_signal, previous_signal_value):\n\u001B[0;32m----> 3\u001B[0m     \u001B[38;5;28;01mif\u001B[39;00m current_signal \u001B[38;5;241m==\u001B[39m previous_signal:\n\u001B[1;32m      4\u001B[0m         current_position \u001B[38;5;241m=\u001B[39m previous_signal_value\n\u001B[1;32m      5\u001B[0m     \u001B[38;5;28;01melse\u001B[39;00m:\n",
      "File \u001B[0;32m~/miniforge3/envs/tf_m1/lib/python3.9/site-packages/pandas/core/generic.py:1537\u001B[0m, in \u001B[0;36mNDFrame.__nonzero__\u001B[0;34m(self)\u001B[0m\n\u001B[1;32m   1535\u001B[0m \u001B[38;5;129m@final\u001B[39m\n\u001B[1;32m   1536\u001B[0m \u001B[38;5;28;01mdef\u001B[39;00m \u001B[38;5;21m__nonzero__\u001B[39m(\u001B[38;5;28mself\u001B[39m):\n\u001B[0;32m-> 1537\u001B[0m     \u001B[38;5;28;01mraise\u001B[39;00m \u001B[38;5;167;01mValueError\u001B[39;00m(\n\u001B[1;32m   1538\u001B[0m         \u001B[38;5;124mf\u001B[39m\u001B[38;5;124m\"\u001B[39m\u001B[38;5;124mThe truth value of a \u001B[39m\u001B[38;5;132;01m{\u001B[39;00m\u001B[38;5;28mtype\u001B[39m(\u001B[38;5;28mself\u001B[39m)\u001B[38;5;241m.\u001B[39m\u001B[38;5;18m__name__\u001B[39m\u001B[38;5;132;01m}\u001B[39;00m\u001B[38;5;124m is ambiguous. \u001B[39m\u001B[38;5;124m\"\u001B[39m\n\u001B[1;32m   1539\u001B[0m         \u001B[38;5;124m\"\u001B[39m\u001B[38;5;124mUse a.empty, a.bool(), a.item(), a.any() or a.all().\u001B[39m\u001B[38;5;124m\"\u001B[39m\n\u001B[1;32m   1540\u001B[0m     )\n",
      "\u001B[0;31mValueError\u001B[0m: The truth value of a Series is ambiguous. Use a.empty, a.bool(), a.item(), a.any() or a.all()."
     ]
    }
   ],
   "source": [
    "df = pd.DataFrame()\n",
    "for i,j in enumerate(trading_signals.index):\n",
    "    current_line = trading_signals.iloc[i].copy(deep=True)\n",
    "    if i == 0:\n",
    "        current_line_applied = current_line.apply(lambda x: 1 if x == \"BTO\" else (-1 if x == \"STO\" else 0))\n",
    "        previous_signal_value = current_line_applied\n",
    "    else:\n",
    "        previous_signal = trading_signals.iloc[i-1].copy(deep=True)\n",
    "        current_line_applied = current_line.apply(map_signal_to_trade, previous_signal=previous_signal, previous_signal_value=previous_signal_value)\n",
    "        previous_signal_value = current_line_applied\n",
    "\n",
    "    df.loc[j, current_line_applied.index] = current_line_applied"
   ],
   "metadata": {
    "collapsed": false
   }
  },
  {
   "cell_type": "code",
   "execution_count": 9,
   "outputs": [
    {
     "data": {
      "text/plain": "               1INCH      AAVE      AGLD      ALCX  ALGO     ALICE     ALPHA  \\\nstartTime                                                                      \n2021-09-26 -0.001323 -0.005222 -0.017925 -0.002537   NaN -0.002271 -0.002985   \n\n                AMPL  APE       ASD  ...       TRU       TRX      TRYB  \\\nstartTime                            ...                                 \n2021-09-26  0.002987  NaN  0.002552  ... -0.006105 -0.002424  0.000713   \n\n                 UNI     WAVES      XAUT       XRP      YFI      YFII      ZRX  \nstartTime                                                                       \n2021-09-26 -0.002357  0.000824 -0.006935  0.001277 -0.00132 -0.000929  0.00443  \n\n[1 rows x 125 columns]",
      "text/html": "<div>\n<style scoped>\n    .dataframe tbody tr th:only-of-type {\n        vertical-align: middle;\n    }\n\n    .dataframe tbody tr th {\n        vertical-align: top;\n    }\n\n    .dataframe thead th {\n        text-align: right;\n    }\n</style>\n<table border=\"1\" class=\"dataframe\">\n  <thead>\n    <tr style=\"text-align: right;\">\n      <th></th>\n      <th>1INCH</th>\n      <th>AAVE</th>\n      <th>AGLD</th>\n      <th>ALCX</th>\n      <th>ALGO</th>\n      <th>ALICE</th>\n      <th>ALPHA</th>\n      <th>AMPL</th>\n      <th>APE</th>\n      <th>ASD</th>\n      <th>...</th>\n      <th>TRU</th>\n      <th>TRX</th>\n      <th>TRYB</th>\n      <th>UNI</th>\n      <th>WAVES</th>\n      <th>XAUT</th>\n      <th>XRP</th>\n      <th>YFI</th>\n      <th>YFII</th>\n      <th>ZRX</th>\n    </tr>\n    <tr>\n      <th>startTime</th>\n      <th></th>\n      <th></th>\n      <th></th>\n      <th></th>\n      <th></th>\n      <th></th>\n      <th></th>\n      <th></th>\n      <th></th>\n      <th></th>\n      <th></th>\n      <th></th>\n      <th></th>\n      <th></th>\n      <th></th>\n      <th></th>\n      <th></th>\n      <th></th>\n      <th></th>\n      <th></th>\n      <th></th>\n    </tr>\n  </thead>\n  <tbody>\n    <tr>\n      <th>2021-09-26</th>\n      <td>-0.001323</td>\n      <td>-0.005222</td>\n      <td>-0.017925</td>\n      <td>-0.002537</td>\n      <td>NaN</td>\n      <td>-0.002271</td>\n      <td>-0.002985</td>\n      <td>0.002987</td>\n      <td>NaN</td>\n      <td>0.002552</td>\n      <td>...</td>\n      <td>-0.006105</td>\n      <td>-0.002424</td>\n      <td>0.000713</td>\n      <td>-0.002357</td>\n      <td>0.000824</td>\n      <td>-0.006935</td>\n      <td>0.001277</td>\n      <td>-0.00132</td>\n      <td>-0.000929</td>\n      <td>0.00443</td>\n    </tr>\n  </tbody>\n</table>\n<p>1 rows × 125 columns</p>\n</div>"
     },
     "execution_count": 9,
     "metadata": {},
     "output_type": "execute_result"
    }
   ],
   "source": [],
   "metadata": {
    "collapsed": false
   }
  },
  {
   "cell_type": "code",
   "execution_count": 17,
   "outputs": [
    {
     "data": {
      "text/plain": "{'BTC': 0,\n 'BNB': 0,\n 'XRP': 0,\n 'SOL': 0,\n 'DOGE': 0,\n 'LINK': -1,\n 'UNI': -1,\n 'LTC': 0,\n 'BCH': 0,\n 'MATIC': 0,\n 'FTT': -1,\n 'TRX': -1,\n 'AXS': 0,\n 'SHIB': 0,\n 'AAVE': -1,\n 'OKB': 1,\n 'GRT': -1,\n 'FTM': 0,\n 'CEL': 0,\n 'MKR': 0,\n 'COMP': 0,\n 'SUSHI': -1,\n 'SNX': 0,\n 'HT': 1,\n 'CHZ': 0,\n 'OMG': 0,\n 'ENJ': 0,\n 'YFI': -1,\n 'SRM': 0,\n 'BAT': 0,\n 'CRV': 0,\n 'REN': -1,\n 'AUDIO': 1,\n 'BNT': -1,\n 'ZRX': 0,\n 'DYDX': 0,\n 'RAY': 0,\n 'PERP': 0,\n 'SAND': 0,\n 'C98': 0,\n 'CRO': 0,\n 'HNT': 0}"
     },
     "execution_count": 17,
     "metadata": {},
     "output_type": "execute_result"
    }
   ],
   "source": [
    "current_line_applied.to_dict()"
   ],
   "metadata": {
    "collapsed": false
   }
  },
  {
   "cell_type": "markdown",
   "source": [
    "# Break"
   ],
   "metadata": {
    "collapsed": false
   }
  },
  {
   "cell_type": "code",
   "execution_count": 1,
   "outputs": [],
   "source": [
    "import pandas as pd\n",
    "import numpy as np\n",
    "import statsmodels.api as sm\n",
    "\n",
    "from sklearn.decomposition import PCA\n",
    "from Factors import Factors\n",
    "from StatArbStrategy import StatArbStrategy\n",
    "from Trade import Trade"
   ],
   "metadata": {
    "collapsed": false
   }
  },
  {
   "cell_type": "code",
   "execution_count": 2,
   "outputs": [],
   "source": [
    "start=\"2021-09-26 00:00:00\"\n",
    "finish=\"2022-09-25 23:00:00\""
   ],
   "metadata": {
    "collapsed": false
   }
  },
  {
   "cell_type": "code",
   "execution_count": 3,
   "outputs": [
    {
     "name": "stderr",
     "output_type": "stream",
     "text": [
      "/Users/Roy/Desktop/College/GeorgiaTech/QCF/6767_project3/StatArbStrategy.py:92: RuntimeWarning: invalid value encountered in sqrt\n",
      "  sigma_eq = np.sqrt(np.var(resid) / (1 - b**2))\n",
      "/Users/Roy/Desktop/College/GeorgiaTech/QCF/6767_project3/StatArbStrategy.py:92: RuntimeWarning: invalid value encountered in sqrt\n",
      "  sigma_eq = np.sqrt(np.var(resid) / (1 - b**2))\n",
      "/Users/Roy/miniforge3/envs/tf_m1/lib/python3.9/site-packages/sklearn/utils/extmath.py:980: RuntimeWarning: invalid value encountered in divide\n",
      "  updated_mean = (last_sum + new_sum) / updated_sample_count\n",
      "/Users/Roy/miniforge3/envs/tf_m1/lib/python3.9/site-packages/sklearn/utils/extmath.py:985: RuntimeWarning: invalid value encountered in divide\n",
      "  T = new_sum / new_sample_count\n",
      "/Users/Roy/miniforge3/envs/tf_m1/lib/python3.9/site-packages/sklearn/utils/extmath.py:1005: RuntimeWarning: invalid value encountered in divide\n",
      "  new_unnormalized_variance -= correction**2 / new_sample_count\n"
     ]
    },
    {
     "ename": "ValueError",
     "evalue": "Found array with 0 sample(s) (shape=(0, 40)) while a minimum of 1 is required by StandardScaler.",
     "output_type": "error",
     "traceback": [
      "\u001B[0;31m---------------------------------------------------------------------------\u001B[0m",
      "\u001B[0;31mValueError\u001B[0m                                Traceback (most recent call last)",
      "Input \u001B[0;32mIn [3]\u001B[0m, in \u001B[0;36m<cell line: 1>\u001B[0;34m()\u001B[0m\n\u001B[0;32m----> 1\u001B[0m trade \u001B[38;5;241m=\u001B[39m \u001B[43mTrade\u001B[49m\u001B[43m(\u001B[49m\u001B[43mwindow\u001B[49m\u001B[38;5;241;43m=\u001B[39;49m\u001B[38;5;241;43m240\u001B[39;49m\u001B[43m,\u001B[49m\u001B[43m \u001B[49m\u001B[43mstart\u001B[49m\u001B[38;5;241;43m=\u001B[39;49m\u001B[43mstart\u001B[49m\u001B[43m,\u001B[49m\u001B[43m \u001B[49m\u001B[43mfinish\u001B[49m\u001B[38;5;241;43m=\u001B[39;49m\u001B[43mfinish\u001B[49m\u001B[43m)\u001B[49m\n",
      "File \u001B[0;32m~/Desktop/College/GeorgiaTech/QCF/6767_project3/Trade.py:28\u001B[0m, in \u001B[0;36mTrade.__init__\u001B[0;34m(self, window, start, finish, coins_file, prices_file)\u001B[0m\n\u001B[1;32m     25\u001B[0m \u001B[38;5;66;03m# create date range in hourly offset\u001B[39;00m\n\u001B[1;32m     26\u001B[0m \u001B[38;5;28mself\u001B[39m\u001B[38;5;241m.\u001B[39mdate_range \u001B[38;5;241m=\u001B[39m pd\u001B[38;5;241m.\u001B[39mdate_range(start, finish, freq\u001B[38;5;241m=\u001B[39m\u001B[38;5;124m'\u001B[39m\u001B[38;5;124mH\u001B[39m\u001B[38;5;124m'\u001B[39m)\n\u001B[0;32m---> 28\u001B[0m \u001B[38;5;28mself\u001B[39m\u001B[38;5;241m.\u001B[39mtrading_signals \u001B[38;5;241m=\u001B[39m \u001B[38;5;28;43mself\u001B[39;49m\u001B[38;5;241;43m.\u001B[39;49m\u001B[43mget_trading_signals\u001B[49m\u001B[43m(\u001B[49m\u001B[43m)\u001B[49m\n\u001B[1;32m     29\u001B[0m \u001B[38;5;28mself\u001B[39m\u001B[38;5;241m.\u001B[39mweighted_ret \u001B[38;5;241m=\u001B[39m \u001B[38;5;28mself\u001B[39m\u001B[38;5;241m.\u001B[39mtrade()\n",
      "File \u001B[0;32m~/Desktop/College/GeorgiaTech/QCF/6767_project3/Trade.py:40\u001B[0m, in \u001B[0;36mTrade.get_trading_signals\u001B[0;34m(self)\u001B[0m\n\u001B[1;32m     38\u001B[0m trading_signals \u001B[38;5;241m=\u001B[39m {}\n\u001B[1;32m     39\u001B[0m \u001B[38;5;28;01mfor\u001B[39;00m start_time \u001B[38;5;129;01min\u001B[39;00m \u001B[38;5;28mself\u001B[39m\u001B[38;5;241m.\u001B[39mdate_range:\n\u001B[0;32m---> 40\u001B[0m     arb \u001B[38;5;241m=\u001B[39m \u001B[43mStatArbStrategy\u001B[49m\u001B[43m(\u001B[49m\u001B[43mwindow\u001B[49m\u001B[38;5;241;43m=\u001B[39;49m\u001B[38;5;28;43mself\u001B[39;49m\u001B[38;5;241;43m.\u001B[39;49m\u001B[43mwindow\u001B[49m\u001B[43m,\u001B[49m\n\u001B[1;32m     41\u001B[0m \u001B[43m                          \u001B[49m\u001B[43mstart\u001B[49m\u001B[38;5;241;43m=\u001B[39;49m\u001B[43mstart_time\u001B[49m\u001B[43m,\u001B[49m\n\u001B[1;32m     42\u001B[0m \u001B[43m                          \u001B[49m\u001B[43mfinish\u001B[49m\u001B[38;5;241;43m=\u001B[39;49m\u001B[38;5;28;43mself\u001B[39;49m\u001B[38;5;241;43m.\u001B[39;49m\u001B[43mfinish\u001B[49m\u001B[43m,\u001B[49m\n\u001B[1;32m     43\u001B[0m \u001B[43m                          \u001B[49m\u001B[43mcoins_file\u001B[49m\u001B[38;5;241;43m=\u001B[39;49m\u001B[38;5;28;43mself\u001B[39;49m\u001B[38;5;241;43m.\u001B[39;49m\u001B[43mcoins_file\u001B[49m\u001B[43m,\u001B[49m\n\u001B[1;32m     44\u001B[0m \u001B[43m                          \u001B[49m\u001B[43mprices_file\u001B[49m\u001B[38;5;241;43m=\u001B[39;49m\u001B[38;5;28;43mself\u001B[39;49m\u001B[38;5;241;43m.\u001B[39;49m\u001B[43mprices_file\u001B[49m\u001B[43m)\u001B[49m\n\u001B[1;32m     46\u001B[0m     params \u001B[38;5;241m=\u001B[39m arb\u001B[38;5;241m.\u001B[39mget_params()\n\u001B[1;32m     47\u001B[0m     s \u001B[38;5;241m=\u001B[39m arb\u001B[38;5;241m.\u001B[39mget_s_score(params)\n",
      "File \u001B[0;32m~/Desktop/College/GeorgiaTech/QCF/6767_project3/StatArbStrategy.py:24\u001B[0m, in \u001B[0;36mStatArbStrategy.__init__\u001B[0;34m(self, window, start, finish, coins_file, prices_file)\u001B[0m\n\u001B[1;32m     21\u001B[0m \u001B[38;5;28mself\u001B[39m\u001B[38;5;241m.\u001B[39mparams \u001B[38;5;241m=\u001B[39m \u001B[38;5;28mdict\u001B[39m()\n\u001B[1;32m     23\u001B[0m \u001B[38;5;66;03m# get Factor Returns\u001B[39;00m\n\u001B[0;32m---> 24\u001B[0m factors \u001B[38;5;241m=\u001B[39m \u001B[43mFactors\u001B[49m\u001B[43m(\u001B[49m\u001B[43mwindow\u001B[49m\u001B[38;5;241;43m=\u001B[39;49m\u001B[43mwindow\u001B[49m\u001B[43m,\u001B[49m\u001B[43m \u001B[49m\u001B[43mstart\u001B[49m\u001B[38;5;241;43m=\u001B[39;49m\u001B[43mstart\u001B[49m\u001B[43m,\u001B[49m\u001B[43m \u001B[49m\u001B[43mfinish\u001B[49m\u001B[38;5;241;43m=\u001B[39;49m\u001B[43mfinish\u001B[49m\u001B[43m)\u001B[49m\n\u001B[1;32m     25\u001B[0m \u001B[38;5;28mself\u001B[39m\u001B[38;5;241m.\u001B[39mfactor_returns \u001B[38;5;241m=\u001B[39m factors\u001B[38;5;241m.\u001B[39mget_factor_return()\n\u001B[1;32m     26\u001B[0m \u001B[38;5;28mself\u001B[39m\u001B[38;5;241m.\u001B[39mhourly_returns \u001B[38;5;241m=\u001B[39m factors\u001B[38;5;241m.\u001B[39mhourly_rets\n",
      "File \u001B[0;32m~/Desktop/College/GeorgiaTech/QCF/6767_project3/Factors.py:32\u001B[0m, in \u001B[0;36mFactors.__init__\u001B[0;34m(self, window, start, finish, coins_file, prices_file)\u001B[0m\n\u001B[1;32m     29\u001B[0m \u001B[38;5;28mself\u001B[39m\u001B[38;5;241m.\u001B[39meigenvalues \u001B[38;5;241m=\u001B[39m \u001B[38;5;28;01mNone\u001B[39;00m\n\u001B[1;32m     30\u001B[0m \u001B[38;5;28mself\u001B[39m\u001B[38;5;241m.\u001B[39mhourly_rets \u001B[38;5;241m=\u001B[39m \u001B[38;5;28;01mNone\u001B[39;00m\n\u001B[0;32m---> 32\u001B[0m \u001B[38;5;28mself\u001B[39m\u001B[38;5;241m.\u001B[39mQ_j \u001B[38;5;241m=\u001B[39m \u001B[38;5;28;43mself\u001B[39;49m\u001B[38;5;241;43m.\u001B[39;49m\u001B[43mget_Q\u001B[49m\u001B[43m(\u001B[49m\u001B[43m)\u001B[49m\n\u001B[1;32m     33\u001B[0m \u001B[38;5;28mself\u001B[39m\u001B[38;5;241m.\u001B[39mF_jk \u001B[38;5;241m=\u001B[39m \u001B[38;5;28mself\u001B[39m\u001B[38;5;241m.\u001B[39mget_factor_return()\n",
      "File \u001B[0;32m~/Desktop/College/GeorgiaTech/QCF/6767_project3/Factors.py:76\u001B[0m, in \u001B[0;36mFactors.get_Q\u001B[0;34m(self)\u001B[0m\n\u001B[1;32m     74\u001B[0m \u001B[38;5;28mself\u001B[39m\u001B[38;5;241m.\u001B[39mhourly_rets \u001B[38;5;241m=\u001B[39m \u001B[38;5;28mself\u001B[39m\u001B[38;5;241m.\u001B[39mreturns_df[used_symbols]\u001B[38;5;241m.\u001B[39miloc[time_idx \u001B[38;5;241m-\u001B[39m \u001B[38;5;28mself\u001B[39m\u001B[38;5;241m.\u001B[39mM: time_idx]\n\u001B[1;32m     75\u001B[0m st_rets \u001B[38;5;241m=\u001B[39m \u001B[38;5;28mself\u001B[39m\u001B[38;5;241m.\u001B[39mget_standardize_rets(\u001B[38;5;28mself\u001B[39m\u001B[38;5;241m.\u001B[39mhourly_rets)\u001B[38;5;241m.\u001B[39mdropna(axis\u001B[38;5;241m=\u001B[39m\u001B[38;5;241m0\u001B[39m)\n\u001B[0;32m---> 76\u001B[0m pca_eigenvectors \u001B[38;5;241m=\u001B[39m \u001B[38;5;28;43mself\u001B[39;49m\u001B[38;5;241;43m.\u001B[39;49m\u001B[43mget_pca\u001B[49m\u001B[43m(\u001B[49m\u001B[43mst_rets\u001B[49m\u001B[43m)\u001B[49m\n\u001B[1;32m     77\u001B[0m Q \u001B[38;5;241m=\u001B[39m pca_eigenvectors \u001B[38;5;241m/\u001B[39m \u001B[38;5;28mself\u001B[39m\u001B[38;5;241m.\u001B[39masset_std\n\u001B[1;32m     78\u001B[0m \u001B[38;5;28;01mreturn\u001B[39;00m Q\n",
      "File \u001B[0;32m~/Desktop/College/GeorgiaTech/QCF/6767_project3/Factors.py:63\u001B[0m, in \u001B[0;36mFactors.get_pca\u001B[0;34m(self, df)\u001B[0m\n\u001B[1;32m     62\u001B[0m \u001B[38;5;28;01mdef\u001B[39;00m \u001B[38;5;21mget_pca\u001B[39m(\u001B[38;5;28mself\u001B[39m, df):\n\u001B[0;32m---> 63\u001B[0m     emp_corr \u001B[38;5;241m=\u001B[39m \u001B[38;5;28;43mself\u001B[39;49m\u001B[38;5;241;43m.\u001B[39;49m\u001B[43mget_corr_mat\u001B[49m\u001B[43m(\u001B[49m\u001B[43mdf\u001B[49m\u001B[43m)\u001B[49m\n\u001B[1;32m     64\u001B[0m     pca_model \u001B[38;5;241m=\u001B[39m PCA(n_components\u001B[38;5;241m=\u001B[39m\u001B[38;5;241m2\u001B[39m)\n\u001B[1;32m     65\u001B[0m     pca_model\u001B[38;5;241m.\u001B[39mfit(emp_corr)\n",
      "File \u001B[0;32m~/Desktop/College/GeorgiaTech/QCF/6767_project3/Factors.py:59\u001B[0m, in \u001B[0;36mFactors.get_corr_mat\u001B[0;34m(self, df)\u001B[0m\n\u001B[1;32m     58\u001B[0m \u001B[38;5;28;01mdef\u001B[39;00m \u001B[38;5;21mget_corr_mat\u001B[39m(\u001B[38;5;28mself\u001B[39m, df):\n\u001B[0;32m---> 59\u001B[0m     st_rets \u001B[38;5;241m=\u001B[39m \u001B[38;5;28;43mself\u001B[39;49m\u001B[38;5;241;43m.\u001B[39;49m\u001B[43mget_standardize_rets\u001B[49m\u001B[43m(\u001B[49m\u001B[43mdf\u001B[49m\u001B[43m)\u001B[49m\n\u001B[1;32m     60\u001B[0m     \u001B[38;5;28;01mreturn\u001B[39;00m st_rets\u001B[38;5;241m.\u001B[39mcorr()\n",
      "File \u001B[0;32m~/Desktop/College/GeorgiaTech/QCF/6767_project3/Factors.py:56\u001B[0m, in \u001B[0;36mFactors.get_standardize_rets\u001B[0;34m(self, df)\u001B[0m\n\u001B[1;32m     54\u001B[0m \u001B[38;5;28mself\u001B[39m\u001B[38;5;241m.\u001B[39masset_std \u001B[38;5;241m=\u001B[39m df\u001B[38;5;241m.\u001B[39mstd()  \u001B[38;5;66;03m# could also do np.sqrt(scaler.var_)\u001B[39;00m\n\u001B[1;32m     55\u001B[0m scaler \u001B[38;5;241m=\u001B[39m StandardScaler()\n\u001B[0;32m---> 56\u001B[0m \u001B[38;5;28;01mreturn\u001B[39;00m pd\u001B[38;5;241m.\u001B[39mDataFrame(\u001B[43mscaler\u001B[49m\u001B[38;5;241;43m.\u001B[39;49m\u001B[43mfit_transform\u001B[49m\u001B[43m(\u001B[49m\u001B[43mdf\u001B[49m\u001B[43m)\u001B[49m, index\u001B[38;5;241m=\u001B[39mdf\u001B[38;5;241m.\u001B[39mindex, columns\u001B[38;5;241m=\u001B[39mdf\u001B[38;5;241m.\u001B[39mcolumns)\n",
      "File \u001B[0;32m~/miniforge3/envs/tf_m1/lib/python3.9/site-packages/sklearn/base.py:867\u001B[0m, in \u001B[0;36mTransformerMixin.fit_transform\u001B[0;34m(self, X, y, **fit_params)\u001B[0m\n\u001B[1;32m    863\u001B[0m \u001B[38;5;66;03m# non-optimized default implementation; override when a better\u001B[39;00m\n\u001B[1;32m    864\u001B[0m \u001B[38;5;66;03m# method is possible for a given clustering algorithm\u001B[39;00m\n\u001B[1;32m    865\u001B[0m \u001B[38;5;28;01mif\u001B[39;00m y \u001B[38;5;129;01mis\u001B[39;00m \u001B[38;5;28;01mNone\u001B[39;00m:\n\u001B[1;32m    866\u001B[0m     \u001B[38;5;66;03m# fit method of arity 1 (unsupervised transformation)\u001B[39;00m\n\u001B[0;32m--> 867\u001B[0m     \u001B[38;5;28;01mreturn\u001B[39;00m \u001B[38;5;28;43mself\u001B[39;49m\u001B[38;5;241;43m.\u001B[39;49m\u001B[43mfit\u001B[49m\u001B[43m(\u001B[49m\u001B[43mX\u001B[49m\u001B[43m,\u001B[49m\u001B[43m \u001B[49m\u001B[38;5;241;43m*\u001B[39;49m\u001B[38;5;241;43m*\u001B[39;49m\u001B[43mfit_params\u001B[49m\u001B[43m)\u001B[49m\u001B[38;5;241m.\u001B[39mtransform(X)\n\u001B[1;32m    868\u001B[0m \u001B[38;5;28;01melse\u001B[39;00m:\n\u001B[1;32m    869\u001B[0m     \u001B[38;5;66;03m# fit method of arity 2 (supervised transformation)\u001B[39;00m\n\u001B[1;32m    870\u001B[0m     \u001B[38;5;28;01mreturn\u001B[39;00m \u001B[38;5;28mself\u001B[39m\u001B[38;5;241m.\u001B[39mfit(X, y, \u001B[38;5;241m*\u001B[39m\u001B[38;5;241m*\u001B[39mfit_params)\u001B[38;5;241m.\u001B[39mtransform(X)\n",
      "File \u001B[0;32m~/miniforge3/envs/tf_m1/lib/python3.9/site-packages/sklearn/preprocessing/_data.py:809\u001B[0m, in \u001B[0;36mStandardScaler.fit\u001B[0;34m(self, X, y, sample_weight)\u001B[0m\n\u001B[1;32m    807\u001B[0m \u001B[38;5;66;03m# Reset internal state before fitting\u001B[39;00m\n\u001B[1;32m    808\u001B[0m \u001B[38;5;28mself\u001B[39m\u001B[38;5;241m.\u001B[39m_reset()\n\u001B[0;32m--> 809\u001B[0m \u001B[38;5;28;01mreturn\u001B[39;00m \u001B[38;5;28;43mself\u001B[39;49m\u001B[38;5;241;43m.\u001B[39;49m\u001B[43mpartial_fit\u001B[49m\u001B[43m(\u001B[49m\u001B[43mX\u001B[49m\u001B[43m,\u001B[49m\u001B[43m \u001B[49m\u001B[43my\u001B[49m\u001B[43m,\u001B[49m\u001B[43m \u001B[49m\u001B[43msample_weight\u001B[49m\u001B[43m)\u001B[49m\n",
      "File \u001B[0;32m~/miniforge3/envs/tf_m1/lib/python3.9/site-packages/sklearn/preprocessing/_data.py:844\u001B[0m, in \u001B[0;36mStandardScaler.partial_fit\u001B[0;34m(self, X, y, sample_weight)\u001B[0m\n\u001B[1;32m    812\u001B[0m \u001B[38;5;124;03m\"\"\"Online computation of mean and std on X for later scaling.\u001B[39;00m\n\u001B[1;32m    813\u001B[0m \n\u001B[1;32m    814\u001B[0m \u001B[38;5;124;03mAll of X is processed as a single batch. This is intended for cases\u001B[39;00m\n\u001B[0;32m   (...)\u001B[0m\n\u001B[1;32m    841\u001B[0m \u001B[38;5;124;03m    Fitted scaler.\u001B[39;00m\n\u001B[1;32m    842\u001B[0m \u001B[38;5;124;03m\"\"\"\u001B[39;00m\n\u001B[1;32m    843\u001B[0m first_call \u001B[38;5;241m=\u001B[39m \u001B[38;5;129;01mnot\u001B[39;00m \u001B[38;5;28mhasattr\u001B[39m(\u001B[38;5;28mself\u001B[39m, \u001B[38;5;124m\"\u001B[39m\u001B[38;5;124mn_samples_seen_\u001B[39m\u001B[38;5;124m\"\u001B[39m)\n\u001B[0;32m--> 844\u001B[0m X \u001B[38;5;241m=\u001B[39m \u001B[38;5;28;43mself\u001B[39;49m\u001B[38;5;241;43m.\u001B[39;49m\u001B[43m_validate_data\u001B[49m\u001B[43m(\u001B[49m\n\u001B[1;32m    845\u001B[0m \u001B[43m    \u001B[49m\u001B[43mX\u001B[49m\u001B[43m,\u001B[49m\n\u001B[1;32m    846\u001B[0m \u001B[43m    \u001B[49m\u001B[43maccept_sparse\u001B[49m\u001B[38;5;241;43m=\u001B[39;49m\u001B[43m(\u001B[49m\u001B[38;5;124;43m\"\u001B[39;49m\u001B[38;5;124;43mcsr\u001B[39;49m\u001B[38;5;124;43m\"\u001B[39;49m\u001B[43m,\u001B[49m\u001B[43m \u001B[49m\u001B[38;5;124;43m\"\u001B[39;49m\u001B[38;5;124;43mcsc\u001B[39;49m\u001B[38;5;124;43m\"\u001B[39;49m\u001B[43m)\u001B[49m\u001B[43m,\u001B[49m\n\u001B[1;32m    847\u001B[0m \u001B[43m    \u001B[49m\u001B[43mdtype\u001B[49m\u001B[38;5;241;43m=\u001B[39;49m\u001B[43mFLOAT_DTYPES\u001B[49m\u001B[43m,\u001B[49m\n\u001B[1;32m    848\u001B[0m \u001B[43m    \u001B[49m\u001B[43mforce_all_finite\u001B[49m\u001B[38;5;241;43m=\u001B[39;49m\u001B[38;5;124;43m\"\u001B[39;49m\u001B[38;5;124;43mallow-nan\u001B[39;49m\u001B[38;5;124;43m\"\u001B[39;49m\u001B[43m,\u001B[49m\n\u001B[1;32m    849\u001B[0m \u001B[43m    \u001B[49m\u001B[43mreset\u001B[49m\u001B[38;5;241;43m=\u001B[39;49m\u001B[43mfirst_call\u001B[49m\u001B[43m,\u001B[49m\n\u001B[1;32m    850\u001B[0m \u001B[43m\u001B[49m\u001B[43m)\u001B[49m\n\u001B[1;32m    851\u001B[0m n_features \u001B[38;5;241m=\u001B[39m X\u001B[38;5;241m.\u001B[39mshape[\u001B[38;5;241m1\u001B[39m]\n\u001B[1;32m    853\u001B[0m \u001B[38;5;28;01mif\u001B[39;00m sample_weight \u001B[38;5;129;01mis\u001B[39;00m \u001B[38;5;129;01mnot\u001B[39;00m \u001B[38;5;28;01mNone\u001B[39;00m:\n",
      "File \u001B[0;32m~/miniforge3/envs/tf_m1/lib/python3.9/site-packages/sklearn/base.py:577\u001B[0m, in \u001B[0;36mBaseEstimator._validate_data\u001B[0;34m(self, X, y, reset, validate_separately, **check_params)\u001B[0m\n\u001B[1;32m    575\u001B[0m     \u001B[38;5;28;01mraise\u001B[39;00m \u001B[38;5;167;01mValueError\u001B[39;00m(\u001B[38;5;124m\"\u001B[39m\u001B[38;5;124mValidation should be done on X, y or both.\u001B[39m\u001B[38;5;124m\"\u001B[39m)\n\u001B[1;32m    576\u001B[0m \u001B[38;5;28;01melif\u001B[39;00m \u001B[38;5;129;01mnot\u001B[39;00m no_val_X \u001B[38;5;129;01mand\u001B[39;00m no_val_y:\n\u001B[0;32m--> 577\u001B[0m     X \u001B[38;5;241m=\u001B[39m \u001B[43mcheck_array\u001B[49m\u001B[43m(\u001B[49m\u001B[43mX\u001B[49m\u001B[43m,\u001B[49m\u001B[43m \u001B[49m\u001B[43minput_name\u001B[49m\u001B[38;5;241;43m=\u001B[39;49m\u001B[38;5;124;43m\"\u001B[39;49m\u001B[38;5;124;43mX\u001B[39;49m\u001B[38;5;124;43m\"\u001B[39;49m\u001B[43m,\u001B[49m\u001B[43m \u001B[49m\u001B[38;5;241;43m*\u001B[39;49m\u001B[38;5;241;43m*\u001B[39;49m\u001B[43mcheck_params\u001B[49m\u001B[43m)\u001B[49m\n\u001B[1;32m    578\u001B[0m     out \u001B[38;5;241m=\u001B[39m X\n\u001B[1;32m    579\u001B[0m \u001B[38;5;28;01melif\u001B[39;00m no_val_X \u001B[38;5;129;01mand\u001B[39;00m \u001B[38;5;129;01mnot\u001B[39;00m no_val_y:\n",
      "File \u001B[0;32m~/miniforge3/envs/tf_m1/lib/python3.9/site-packages/sklearn/utils/validation.py:909\u001B[0m, in \u001B[0;36mcheck_array\u001B[0;34m(array, accept_sparse, accept_large_sparse, dtype, order, copy, force_all_finite, ensure_2d, allow_nd, ensure_min_samples, ensure_min_features, estimator, input_name)\u001B[0m\n\u001B[1;32m    907\u001B[0m     n_samples \u001B[38;5;241m=\u001B[39m _num_samples(array)\n\u001B[1;32m    908\u001B[0m     \u001B[38;5;28;01mif\u001B[39;00m n_samples \u001B[38;5;241m<\u001B[39m ensure_min_samples:\n\u001B[0;32m--> 909\u001B[0m         \u001B[38;5;28;01mraise\u001B[39;00m \u001B[38;5;167;01mValueError\u001B[39;00m(\n\u001B[1;32m    910\u001B[0m             \u001B[38;5;124m\"\u001B[39m\u001B[38;5;124mFound array with \u001B[39m\u001B[38;5;132;01m%d\u001B[39;00m\u001B[38;5;124m sample(s) (shape=\u001B[39m\u001B[38;5;132;01m%s\u001B[39;00m\u001B[38;5;124m) while a\u001B[39m\u001B[38;5;124m\"\u001B[39m\n\u001B[1;32m    911\u001B[0m             \u001B[38;5;124m\"\u001B[39m\u001B[38;5;124m minimum of \u001B[39m\u001B[38;5;132;01m%d\u001B[39;00m\u001B[38;5;124m is required\u001B[39m\u001B[38;5;132;01m%s\u001B[39;00m\u001B[38;5;124m.\u001B[39m\u001B[38;5;124m\"\u001B[39m\n\u001B[1;32m    912\u001B[0m             \u001B[38;5;241m%\u001B[39m (n_samples, array\u001B[38;5;241m.\u001B[39mshape, ensure_min_samples, context)\n\u001B[1;32m    913\u001B[0m         )\n\u001B[1;32m    915\u001B[0m \u001B[38;5;28;01mif\u001B[39;00m ensure_min_features \u001B[38;5;241m>\u001B[39m \u001B[38;5;241m0\u001B[39m \u001B[38;5;129;01mand\u001B[39;00m array\u001B[38;5;241m.\u001B[39mndim \u001B[38;5;241m==\u001B[39m \u001B[38;5;241m2\u001B[39m:\n\u001B[1;32m    916\u001B[0m     n_features \u001B[38;5;241m=\u001B[39m array\u001B[38;5;241m.\u001B[39mshape[\u001B[38;5;241m1\u001B[39m]\n",
      "\u001B[0;31mValueError\u001B[0m: Found array with 0 sample(s) (shape=(0, 40)) while a minimum of 1 is required by StandardScaler."
     ]
    }
   ],
   "source": [
    "trade = Trade(window=240, start=start, finish=finish)"
   ],
   "metadata": {
    "collapsed": false
   }
  },
  {
   "cell_type": "code",
   "execution_count": null,
   "outputs": [],
   "source": [
    "trade.weighted_ret"
   ],
   "metadata": {
    "collapsed": false
   }
  },
  {
   "cell_type": "code",
   "execution_count": null,
   "outputs": [],
   "source": [],
   "metadata": {
    "collapsed": false
   }
  }
 ],
 "metadata": {
  "kernelspec": {
   "display_name": "Python 3",
   "language": "python",
   "name": "python3"
  },
  "language_info": {
   "codemirror_mode": {
    "name": "ipython",
    "version": 2
   },
   "file_extension": ".py",
   "mimetype": "text/x-python",
   "name": "python",
   "nbconvert_exporter": "python",
   "pygments_lexer": "ipython2",
   "version": "2.7.6"
  }
 },
 "nbformat": 4,
 "nbformat_minor": 0
}
