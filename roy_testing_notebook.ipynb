{
 "cells": [
  {
   "cell_type": "markdown",
   "source": [
    "# Roy\n",
    "\n",
    "This is for me to test around and write some functions out for the class, you can create your own notebook and test around if needed. The main notebook will be `StatArb.ipynb`."
   ],
   "metadata": {
    "collapsed": false
   }
  },
  {
   "cell_type": "code",
   "execution_count": 1,
   "outputs": [],
   "source": [
    "import pandas as pd\n",
    "import numpy as np\n",
    "import statsmodels.api as sm\n",
    "\n",
    "from sklearn.decomposition import PCA\n",
    "from Factors import Factors\n",
    "from StatArbStrategy import StatArbStrategy\n",
    "from Trade import Trade"
   ],
   "metadata": {
    "collapsed": false
   }
  },
  {
   "cell_type": "code",
   "execution_count": 2,
   "outputs": [],
   "source": [
    "start=\"2021-09-26 00:00:00\"\n",
    "finish=\"2021-09-27 00:00:00\""
   ],
   "metadata": {
    "collapsed": false
   }
  },
  {
   "cell_type": "code",
   "execution_count": 3,
   "outputs": [],
   "source": [
    "trading_signals = {}\n",
    "hourly_returns = {}"
   ],
   "metadata": {
    "collapsed": false
   }
  },
  {
   "cell_type": "code",
   "execution_count": 4,
   "outputs": [
    {
     "data": {
      "text/plain": "(25,)"
     },
     "execution_count": 4,
     "metadata": {},
     "output_type": "execute_result"
    }
   ],
   "source": [
    "date_range = pd.date_range(start, finish, freq='H')\n",
    "date_range.shape"
   ],
   "metadata": {
    "collapsed": false
   }
  },
  {
   "cell_type": "code",
   "execution_count": 5,
   "outputs": [],
   "source": [
    "for d in date_range:\n",
    "    start_time = d\n",
    "    arb = StatArbStrategy(window=240, start=d, finish=finish)\n",
    "\n",
    "    params = arb.get_params()\n",
    "    s = arb.get_s_score(params)\n",
    "\n",
    "    # get trading signals with a certain start time and their returns\n",
    "    trading_signals[start_time] = arb.generate_trading_signals(s)\n",
    "    # hourly_returns[start_time] = arb.hourly_returns"
   ],
   "metadata": {
    "collapsed": false
   }
  },
  {
   "cell_type": "code",
   "execution_count": 6,
   "outputs": [
    {
     "data": {
      "text/plain": "                     BTC  BNB  XRP  SOL DOGE LINK  UNI  LTC  BCH MATIC  ...  \\\n2021-09-26 00:00:00  CSP  CSP  CLP  CSP  CSP  STO  STO  CSP  CSP   CSP  ...   \n2021-09-26 01:00:00  CSP  CSP  CLP  CSP  CSP  STO  STO  CSP  CSP   CSP  ...   \n2021-09-26 02:00:00  CSP  CSP  CLP  CSP  CSP  STO  STO  CSP  CSP   CSP  ...   \n2021-09-26 03:00:00  CSP  CSP  CLP  CSP  CSP  STO  CLP  CSP  CSP   STO  ...   \n2021-09-26 04:00:00  CSP  CSP  CLP  CSP  CSP  STO  CLP  STO  CSP   CLP  ...   \n2021-09-26 05:00:00  CSP  CSP  CLP  CSP  CSP  STO  STO  CSP  CSP   CSP  ...   \n2021-09-26 06:00:00  CSP  CSP  CSP  CSP  CSP  STO  CLP  CLP  CSP   CSP  ...   \n2021-09-26 07:00:00  CSP  CSP  CSP  CSP  CSP  STO  CLP  CSP  CSP   CSP  ...   \n2021-09-26 08:00:00  CSP  CSP  CLP  CSP  CSP  STO  STO  CSP  CSP   CLP  ...   \n2021-09-26 09:00:00  CSP  CSP  CLP  CSP  CSP  STO  STO  CLP  CSP   STO  ...   \n2021-09-26 10:00:00  CSP  BTO  CLP  CSP  CSP  STO  CSP  CSP  CSP   CSP  ...   \n2021-09-26 11:00:00  CSP  BTO  CSP  CSP  BTO  STO  STO  CSP  CSP   CSP  ...   \n2021-09-26 12:00:00  CSP  BTO  CSP  CSP  BTO  STO  STO  CSP  CSP   CSP  ...   \n2021-09-26 13:00:00  CSP  BTO  CSP  CSP  BTO  STO  STO  CSP  CSP   CSP  ...   \n2021-09-26 14:00:00  CSP  BTO  CSP  CSP  BTO  STO  STO  CSP  CSP   CSP  ...   \n2021-09-26 15:00:00  CSP  BTO  CSP  CSP  BTO  STO  STO  CSP  CSP   CSP  ...   \n2021-09-26 16:00:00  CSP  BTO  CSP  CSP  BTO  STO  STO  CSP  CSP   CSP  ...   \n2021-09-26 17:00:00  CSP  BTO  CSP  CSP  BTO  STO  STO  CSP  CSP   CSP  ...   \n2021-09-26 18:00:00  CSP  BTO  CSP  CSP  BTO  STO  STO  CSP  BTO   CSP  ...   \n2021-09-26 19:00:00  CSP  BTO  CSP  CSP  BTO  CLP  STO  CSP  BTO   CSP  ...   \n2021-09-26 20:00:00  CSP  BTO  CSP  CSP  BTO  CLP  STO  CSP  BTO   CSP  ...   \n2021-09-26 21:00:00  CSP  BTO  CSP  BTO  BTO  CLP  STO  BTO  BTO   CSP  ...   \n2021-09-26 22:00:00  CSP  BTO  CSP  BTO  BTO  CLP  STO  BTO  BTO   CSP  ...   \n2021-09-26 23:00:00  CSP  BTO  CSP  BTO  BTO  CLP  STO  BTO  BTO   BTO  ...   \n2021-09-27 00:00:00  CSP  BTO  CSP  BTO  BTO  CLP  STO  BTO  BTO   BTO  ...   \n\n                    AUDIO  BNT  ZRX DYDX  RAY PERP SAND  C98  CRO  HNT  \n2021-09-26 00:00:00   BTO  STO  CSP  CSP  CSP  CSP  CSP  CSP  NaN  NaN  \n2021-09-26 01:00:00   CSP  STO  CSP  CSP  CSP  CLP  CSP  CSP  NaN  NaN  \n2021-09-26 02:00:00   BTO  CLP  CSP  CSP  CSP  CLP  CSP  CSP  NaN  NaN  \n2021-09-26 03:00:00   BTO  CLP  CSP  CSP  CSP  CLP  CSP  CSP  NaN  NaN  \n2021-09-26 04:00:00   BTO  CLP  CSP  CSP  CSP  CSP  NaN  NaN  CSP  CSP  \n2021-09-26 05:00:00   BTO  CLP  CSP  CSP  CSP  CSP  NaN  NaN  CSP  CSP  \n2021-09-26 06:00:00   BTO  CLP  CSP  CSP  CSP  CLP  NaN  NaN  CSP  CSP  \n2021-09-26 07:00:00   BTO  STO  CSP  CSP  CSP  CSP  NaN  NaN  CSP  CSP  \n2021-09-26 08:00:00   BTO  STO  CSP  CSP  CSP  CSP  NaN  NaN  CSP  CSP  \n2021-09-26 09:00:00   BTO  STO  CSP  CSP  CSP  CSP  NaN  NaN  CSP  CSP  \n2021-09-26 10:00:00   CSP  CLP  CSP  CSP  CSP  STO  NaN  NaN  CSP  CSP  \n2021-09-26 11:00:00   BTO  STO  CSP  CSP  CSP  STO  NaN  NaN  CSP  CSP  \n2021-09-26 12:00:00   BTO  CLP  CSP  CSP  CSP  STO  NaN  NaN  CSP  CSP  \n2021-09-26 13:00:00   BTO  CLP  CSP  CSP  CSP  STO  NaN  NaN  CSP  CSP  \n2021-09-26 14:00:00   BTO  STO  CSP  CSP  CSP  STO  NaN  NaN  BTO  CSP  \n2021-09-26 15:00:00   BTO  STO  CSP  CSP  CSP  STO  NaN  NaN  CSP  CSP  \n2021-09-26 16:00:00   BTO  CLP  CSP  CLP  CSP  STO  NaN  NaN  CSP  CSP  \n2021-09-26 17:00:00   CSP  CLP  CSP  CLP  CSP  STO  NaN  NaN  CSP  CSP  \n2021-09-26 18:00:00   CSP  CLP  CSP  CLP  CSP  STO  NaN  NaN  CSP  CSP  \n2021-09-26 19:00:00   CSP  CLP  CSP  CLP  CSP  STO  NaN  NaN  CSP  CSP  \n2021-09-26 20:00:00   CSP  CLP  CSP  CLP  CSP  STO  NaN  NaN  CSP  CSP  \n2021-09-26 21:00:00   CSP  CLP  CSP  CLP  CSP  STO  NaN  NaN  CSP  CSP  \n2021-09-26 22:00:00   CSP  CLP  CSP  CLP  CSP  STO  NaN  NaN  CSP  CSP  \n2021-09-26 23:00:00   CSP  CLP  CSP  CLP  CSP  STO  NaN  NaN  CSP  CSP  \n2021-09-27 00:00:00   CSP  CLP  CSP  CLP  CSP  STO  NaN  NaN  CSP  CSP  \n\n[25 rows x 42 columns]",
      "text/html": "<div>\n<style scoped>\n    .dataframe tbody tr th:only-of-type {\n        vertical-align: middle;\n    }\n\n    .dataframe tbody tr th {\n        vertical-align: top;\n    }\n\n    .dataframe thead th {\n        text-align: right;\n    }\n</style>\n<table border=\"1\" class=\"dataframe\">\n  <thead>\n    <tr style=\"text-align: right;\">\n      <th></th>\n      <th>BTC</th>\n      <th>BNB</th>\n      <th>XRP</th>\n      <th>SOL</th>\n      <th>DOGE</th>\n      <th>LINK</th>\n      <th>UNI</th>\n      <th>LTC</th>\n      <th>BCH</th>\n      <th>MATIC</th>\n      <th>...</th>\n      <th>AUDIO</th>\n      <th>BNT</th>\n      <th>ZRX</th>\n      <th>DYDX</th>\n      <th>RAY</th>\n      <th>PERP</th>\n      <th>SAND</th>\n      <th>C98</th>\n      <th>CRO</th>\n      <th>HNT</th>\n    </tr>\n  </thead>\n  <tbody>\n    <tr>\n      <th>2021-09-26 00:00:00</th>\n      <td>CSP</td>\n      <td>CSP</td>\n      <td>CLP</td>\n      <td>CSP</td>\n      <td>CSP</td>\n      <td>STO</td>\n      <td>STO</td>\n      <td>CSP</td>\n      <td>CSP</td>\n      <td>CSP</td>\n      <td>...</td>\n      <td>BTO</td>\n      <td>STO</td>\n      <td>CSP</td>\n      <td>CSP</td>\n      <td>CSP</td>\n      <td>CSP</td>\n      <td>CSP</td>\n      <td>CSP</td>\n      <td>NaN</td>\n      <td>NaN</td>\n    </tr>\n    <tr>\n      <th>2021-09-26 01:00:00</th>\n      <td>CSP</td>\n      <td>CSP</td>\n      <td>CLP</td>\n      <td>CSP</td>\n      <td>CSP</td>\n      <td>STO</td>\n      <td>STO</td>\n      <td>CSP</td>\n      <td>CSP</td>\n      <td>CSP</td>\n      <td>...</td>\n      <td>CSP</td>\n      <td>STO</td>\n      <td>CSP</td>\n      <td>CSP</td>\n      <td>CSP</td>\n      <td>CLP</td>\n      <td>CSP</td>\n      <td>CSP</td>\n      <td>NaN</td>\n      <td>NaN</td>\n    </tr>\n    <tr>\n      <th>2021-09-26 02:00:00</th>\n      <td>CSP</td>\n      <td>CSP</td>\n      <td>CLP</td>\n      <td>CSP</td>\n      <td>CSP</td>\n      <td>STO</td>\n      <td>STO</td>\n      <td>CSP</td>\n      <td>CSP</td>\n      <td>CSP</td>\n      <td>...</td>\n      <td>BTO</td>\n      <td>CLP</td>\n      <td>CSP</td>\n      <td>CSP</td>\n      <td>CSP</td>\n      <td>CLP</td>\n      <td>CSP</td>\n      <td>CSP</td>\n      <td>NaN</td>\n      <td>NaN</td>\n    </tr>\n    <tr>\n      <th>2021-09-26 03:00:00</th>\n      <td>CSP</td>\n      <td>CSP</td>\n      <td>CLP</td>\n      <td>CSP</td>\n      <td>CSP</td>\n      <td>STO</td>\n      <td>CLP</td>\n      <td>CSP</td>\n      <td>CSP</td>\n      <td>STO</td>\n      <td>...</td>\n      <td>BTO</td>\n      <td>CLP</td>\n      <td>CSP</td>\n      <td>CSP</td>\n      <td>CSP</td>\n      <td>CLP</td>\n      <td>CSP</td>\n      <td>CSP</td>\n      <td>NaN</td>\n      <td>NaN</td>\n    </tr>\n    <tr>\n      <th>2021-09-26 04:00:00</th>\n      <td>CSP</td>\n      <td>CSP</td>\n      <td>CLP</td>\n      <td>CSP</td>\n      <td>CSP</td>\n      <td>STO</td>\n      <td>CLP</td>\n      <td>STO</td>\n      <td>CSP</td>\n      <td>CLP</td>\n      <td>...</td>\n      <td>BTO</td>\n      <td>CLP</td>\n      <td>CSP</td>\n      <td>CSP</td>\n      <td>CSP</td>\n      <td>CSP</td>\n      <td>NaN</td>\n      <td>NaN</td>\n      <td>CSP</td>\n      <td>CSP</td>\n    </tr>\n    <tr>\n      <th>2021-09-26 05:00:00</th>\n      <td>CSP</td>\n      <td>CSP</td>\n      <td>CLP</td>\n      <td>CSP</td>\n      <td>CSP</td>\n      <td>STO</td>\n      <td>STO</td>\n      <td>CSP</td>\n      <td>CSP</td>\n      <td>CSP</td>\n      <td>...</td>\n      <td>BTO</td>\n      <td>CLP</td>\n      <td>CSP</td>\n      <td>CSP</td>\n      <td>CSP</td>\n      <td>CSP</td>\n      <td>NaN</td>\n      <td>NaN</td>\n      <td>CSP</td>\n      <td>CSP</td>\n    </tr>\n    <tr>\n      <th>2021-09-26 06:00:00</th>\n      <td>CSP</td>\n      <td>CSP</td>\n      <td>CSP</td>\n      <td>CSP</td>\n      <td>CSP</td>\n      <td>STO</td>\n      <td>CLP</td>\n      <td>CLP</td>\n      <td>CSP</td>\n      <td>CSP</td>\n      <td>...</td>\n      <td>BTO</td>\n      <td>CLP</td>\n      <td>CSP</td>\n      <td>CSP</td>\n      <td>CSP</td>\n      <td>CLP</td>\n      <td>NaN</td>\n      <td>NaN</td>\n      <td>CSP</td>\n      <td>CSP</td>\n    </tr>\n    <tr>\n      <th>2021-09-26 07:00:00</th>\n      <td>CSP</td>\n      <td>CSP</td>\n      <td>CSP</td>\n      <td>CSP</td>\n      <td>CSP</td>\n      <td>STO</td>\n      <td>CLP</td>\n      <td>CSP</td>\n      <td>CSP</td>\n      <td>CSP</td>\n      <td>...</td>\n      <td>BTO</td>\n      <td>STO</td>\n      <td>CSP</td>\n      <td>CSP</td>\n      <td>CSP</td>\n      <td>CSP</td>\n      <td>NaN</td>\n      <td>NaN</td>\n      <td>CSP</td>\n      <td>CSP</td>\n    </tr>\n    <tr>\n      <th>2021-09-26 08:00:00</th>\n      <td>CSP</td>\n      <td>CSP</td>\n      <td>CLP</td>\n      <td>CSP</td>\n      <td>CSP</td>\n      <td>STO</td>\n      <td>STO</td>\n      <td>CSP</td>\n      <td>CSP</td>\n      <td>CLP</td>\n      <td>...</td>\n      <td>BTO</td>\n      <td>STO</td>\n      <td>CSP</td>\n      <td>CSP</td>\n      <td>CSP</td>\n      <td>CSP</td>\n      <td>NaN</td>\n      <td>NaN</td>\n      <td>CSP</td>\n      <td>CSP</td>\n    </tr>\n    <tr>\n      <th>2021-09-26 09:00:00</th>\n      <td>CSP</td>\n      <td>CSP</td>\n      <td>CLP</td>\n      <td>CSP</td>\n      <td>CSP</td>\n      <td>STO</td>\n      <td>STO</td>\n      <td>CLP</td>\n      <td>CSP</td>\n      <td>STO</td>\n      <td>...</td>\n      <td>BTO</td>\n      <td>STO</td>\n      <td>CSP</td>\n      <td>CSP</td>\n      <td>CSP</td>\n      <td>CSP</td>\n      <td>NaN</td>\n      <td>NaN</td>\n      <td>CSP</td>\n      <td>CSP</td>\n    </tr>\n    <tr>\n      <th>2021-09-26 10:00:00</th>\n      <td>CSP</td>\n      <td>BTO</td>\n      <td>CLP</td>\n      <td>CSP</td>\n      <td>CSP</td>\n      <td>STO</td>\n      <td>CSP</td>\n      <td>CSP</td>\n      <td>CSP</td>\n      <td>CSP</td>\n      <td>...</td>\n      <td>CSP</td>\n      <td>CLP</td>\n      <td>CSP</td>\n      <td>CSP</td>\n      <td>CSP</td>\n      <td>STO</td>\n      <td>NaN</td>\n      <td>NaN</td>\n      <td>CSP</td>\n      <td>CSP</td>\n    </tr>\n    <tr>\n      <th>2021-09-26 11:00:00</th>\n      <td>CSP</td>\n      <td>BTO</td>\n      <td>CSP</td>\n      <td>CSP</td>\n      <td>BTO</td>\n      <td>STO</td>\n      <td>STO</td>\n      <td>CSP</td>\n      <td>CSP</td>\n      <td>CSP</td>\n      <td>...</td>\n      <td>BTO</td>\n      <td>STO</td>\n      <td>CSP</td>\n      <td>CSP</td>\n      <td>CSP</td>\n      <td>STO</td>\n      <td>NaN</td>\n      <td>NaN</td>\n      <td>CSP</td>\n      <td>CSP</td>\n    </tr>\n    <tr>\n      <th>2021-09-26 12:00:00</th>\n      <td>CSP</td>\n      <td>BTO</td>\n      <td>CSP</td>\n      <td>CSP</td>\n      <td>BTO</td>\n      <td>STO</td>\n      <td>STO</td>\n      <td>CSP</td>\n      <td>CSP</td>\n      <td>CSP</td>\n      <td>...</td>\n      <td>BTO</td>\n      <td>CLP</td>\n      <td>CSP</td>\n      <td>CSP</td>\n      <td>CSP</td>\n      <td>STO</td>\n      <td>NaN</td>\n      <td>NaN</td>\n      <td>CSP</td>\n      <td>CSP</td>\n    </tr>\n    <tr>\n      <th>2021-09-26 13:00:00</th>\n      <td>CSP</td>\n      <td>BTO</td>\n      <td>CSP</td>\n      <td>CSP</td>\n      <td>BTO</td>\n      <td>STO</td>\n      <td>STO</td>\n      <td>CSP</td>\n      <td>CSP</td>\n      <td>CSP</td>\n      <td>...</td>\n      <td>BTO</td>\n      <td>CLP</td>\n      <td>CSP</td>\n      <td>CSP</td>\n      <td>CSP</td>\n      <td>STO</td>\n      <td>NaN</td>\n      <td>NaN</td>\n      <td>CSP</td>\n      <td>CSP</td>\n    </tr>\n    <tr>\n      <th>2021-09-26 14:00:00</th>\n      <td>CSP</td>\n      <td>BTO</td>\n      <td>CSP</td>\n      <td>CSP</td>\n      <td>BTO</td>\n      <td>STO</td>\n      <td>STO</td>\n      <td>CSP</td>\n      <td>CSP</td>\n      <td>CSP</td>\n      <td>...</td>\n      <td>BTO</td>\n      <td>STO</td>\n      <td>CSP</td>\n      <td>CSP</td>\n      <td>CSP</td>\n      <td>STO</td>\n      <td>NaN</td>\n      <td>NaN</td>\n      <td>BTO</td>\n      <td>CSP</td>\n    </tr>\n    <tr>\n      <th>2021-09-26 15:00:00</th>\n      <td>CSP</td>\n      <td>BTO</td>\n      <td>CSP</td>\n      <td>CSP</td>\n      <td>BTO</td>\n      <td>STO</td>\n      <td>STO</td>\n      <td>CSP</td>\n      <td>CSP</td>\n      <td>CSP</td>\n      <td>...</td>\n      <td>BTO</td>\n      <td>STO</td>\n      <td>CSP</td>\n      <td>CSP</td>\n      <td>CSP</td>\n      <td>STO</td>\n      <td>NaN</td>\n      <td>NaN</td>\n      <td>CSP</td>\n      <td>CSP</td>\n    </tr>\n    <tr>\n      <th>2021-09-26 16:00:00</th>\n      <td>CSP</td>\n      <td>BTO</td>\n      <td>CSP</td>\n      <td>CSP</td>\n      <td>BTO</td>\n      <td>STO</td>\n      <td>STO</td>\n      <td>CSP</td>\n      <td>CSP</td>\n      <td>CSP</td>\n      <td>...</td>\n      <td>BTO</td>\n      <td>CLP</td>\n      <td>CSP</td>\n      <td>CLP</td>\n      <td>CSP</td>\n      <td>STO</td>\n      <td>NaN</td>\n      <td>NaN</td>\n      <td>CSP</td>\n      <td>CSP</td>\n    </tr>\n    <tr>\n      <th>2021-09-26 17:00:00</th>\n      <td>CSP</td>\n      <td>BTO</td>\n      <td>CSP</td>\n      <td>CSP</td>\n      <td>BTO</td>\n      <td>STO</td>\n      <td>STO</td>\n      <td>CSP</td>\n      <td>CSP</td>\n      <td>CSP</td>\n      <td>...</td>\n      <td>CSP</td>\n      <td>CLP</td>\n      <td>CSP</td>\n      <td>CLP</td>\n      <td>CSP</td>\n      <td>STO</td>\n      <td>NaN</td>\n      <td>NaN</td>\n      <td>CSP</td>\n      <td>CSP</td>\n    </tr>\n    <tr>\n      <th>2021-09-26 18:00:00</th>\n      <td>CSP</td>\n      <td>BTO</td>\n      <td>CSP</td>\n      <td>CSP</td>\n      <td>BTO</td>\n      <td>STO</td>\n      <td>STO</td>\n      <td>CSP</td>\n      <td>BTO</td>\n      <td>CSP</td>\n      <td>...</td>\n      <td>CSP</td>\n      <td>CLP</td>\n      <td>CSP</td>\n      <td>CLP</td>\n      <td>CSP</td>\n      <td>STO</td>\n      <td>NaN</td>\n      <td>NaN</td>\n      <td>CSP</td>\n      <td>CSP</td>\n    </tr>\n    <tr>\n      <th>2021-09-26 19:00:00</th>\n      <td>CSP</td>\n      <td>BTO</td>\n      <td>CSP</td>\n      <td>CSP</td>\n      <td>BTO</td>\n      <td>CLP</td>\n      <td>STO</td>\n      <td>CSP</td>\n      <td>BTO</td>\n      <td>CSP</td>\n      <td>...</td>\n      <td>CSP</td>\n      <td>CLP</td>\n      <td>CSP</td>\n      <td>CLP</td>\n      <td>CSP</td>\n      <td>STO</td>\n      <td>NaN</td>\n      <td>NaN</td>\n      <td>CSP</td>\n      <td>CSP</td>\n    </tr>\n    <tr>\n      <th>2021-09-26 20:00:00</th>\n      <td>CSP</td>\n      <td>BTO</td>\n      <td>CSP</td>\n      <td>CSP</td>\n      <td>BTO</td>\n      <td>CLP</td>\n      <td>STO</td>\n      <td>CSP</td>\n      <td>BTO</td>\n      <td>CSP</td>\n      <td>...</td>\n      <td>CSP</td>\n      <td>CLP</td>\n      <td>CSP</td>\n      <td>CLP</td>\n      <td>CSP</td>\n      <td>STO</td>\n      <td>NaN</td>\n      <td>NaN</td>\n      <td>CSP</td>\n      <td>CSP</td>\n    </tr>\n    <tr>\n      <th>2021-09-26 21:00:00</th>\n      <td>CSP</td>\n      <td>BTO</td>\n      <td>CSP</td>\n      <td>BTO</td>\n      <td>BTO</td>\n      <td>CLP</td>\n      <td>STO</td>\n      <td>BTO</td>\n      <td>BTO</td>\n      <td>CSP</td>\n      <td>...</td>\n      <td>CSP</td>\n      <td>CLP</td>\n      <td>CSP</td>\n      <td>CLP</td>\n      <td>CSP</td>\n      <td>STO</td>\n      <td>NaN</td>\n      <td>NaN</td>\n      <td>CSP</td>\n      <td>CSP</td>\n    </tr>\n    <tr>\n      <th>2021-09-26 22:00:00</th>\n      <td>CSP</td>\n      <td>BTO</td>\n      <td>CSP</td>\n      <td>BTO</td>\n      <td>BTO</td>\n      <td>CLP</td>\n      <td>STO</td>\n      <td>BTO</td>\n      <td>BTO</td>\n      <td>CSP</td>\n      <td>...</td>\n      <td>CSP</td>\n      <td>CLP</td>\n      <td>CSP</td>\n      <td>CLP</td>\n      <td>CSP</td>\n      <td>STO</td>\n      <td>NaN</td>\n      <td>NaN</td>\n      <td>CSP</td>\n      <td>CSP</td>\n    </tr>\n    <tr>\n      <th>2021-09-26 23:00:00</th>\n      <td>CSP</td>\n      <td>BTO</td>\n      <td>CSP</td>\n      <td>BTO</td>\n      <td>BTO</td>\n      <td>CLP</td>\n      <td>STO</td>\n      <td>BTO</td>\n      <td>BTO</td>\n      <td>BTO</td>\n      <td>...</td>\n      <td>CSP</td>\n      <td>CLP</td>\n      <td>CSP</td>\n      <td>CLP</td>\n      <td>CSP</td>\n      <td>STO</td>\n      <td>NaN</td>\n      <td>NaN</td>\n      <td>CSP</td>\n      <td>CSP</td>\n    </tr>\n    <tr>\n      <th>2021-09-27 00:00:00</th>\n      <td>CSP</td>\n      <td>BTO</td>\n      <td>CSP</td>\n      <td>BTO</td>\n      <td>BTO</td>\n      <td>CLP</td>\n      <td>STO</td>\n      <td>BTO</td>\n      <td>BTO</td>\n      <td>BTO</td>\n      <td>...</td>\n      <td>CSP</td>\n      <td>CLP</td>\n      <td>CSP</td>\n      <td>CLP</td>\n      <td>CSP</td>\n      <td>STO</td>\n      <td>NaN</td>\n      <td>NaN</td>\n      <td>CSP</td>\n      <td>CSP</td>\n    </tr>\n  </tbody>\n</table>\n<p>25 rows × 42 columns</p>\n</div>"
     },
     "execution_count": 6,
     "metadata": {},
     "output_type": "execute_result"
    }
   ],
   "source": [
    "trading_signals = pd.DataFrame.from_dict(trading_signals, orient='index')\n",
    "trading_signals"
   ],
   "metadata": {
    "collapsed": false
   }
  },
  {
   "cell_type": "code",
   "execution_count": 19,
   "outputs": [],
   "source": [
    "def get_ret(df, start, finish):\n",
    "    a = df.loc[start]\n",
    "    b = df.loc[finish]\n",
    "    return pd.concat([a, b], axis=1).T.pct_change()[1:]"
   ],
   "metadata": {
    "collapsed": false
   }
  },
  {
   "cell_type": "code",
   "execution_count": 9,
   "outputs": [],
   "source": [
    "def map_signal_to_trade(current_signal, previous_signal, previous_signal_value, current_date, previous_date):\n",
    "    open_positions=pd.DataFrame()\n",
    "    closed_positions = pd.DataFrame()\n",
    "\n",
    "    ret_df = get_ret(arb.prices_df, previous_date, current_date)\n",
    "    ret_df = ret_df.loc[:, current_signal.index]\n",
    "\n",
    "    # if no change in signal\n",
    "    if current_signal == previous_signal:\n",
    "        current_position = previous_signal_value\n",
    "        open_positions.loc[current_date, 'Return'] = current_position@ret_df\n",
    "    else:\n",
    "        current_position = 0 # close previous position\n",
    "        if current_signal == \"BTO\":\n",
    "            current_position = 1\n",
    "        elif current_signal == \"STO\":\n",
    "            current_position = -1\n",
    "    return current_position, open_positions, closed_positions"
   ],
   "metadata": {
    "collapsed": false
   }
  },
  {
   "cell_type": "code",
   "execution_count": 31,
   "outputs": [],
   "source": [
    "ret_df = get_ret(arb.prices_df, previous_signal.name, current_line.name)\n",
    "ret_df = ret_df.loc[:, current_line.index]"
   ],
   "metadata": {
    "collapsed": false
   }
  },
  {
   "cell_type": "code",
   "execution_count": 26,
   "outputs": [],
   "source": [
    "current_line = trading_signals.iloc[1].copy(deep=True)\n",
    "previous_signal = trading_signals.iloc[0].copy(deep=True)"
   ],
   "metadata": {
    "collapsed": false
   }
  },
  {
   "cell_type": "code",
   "execution_count": null,
   "outputs": [],
   "source": [
    "d = {}\n",
    "d['STOCK'] = {\"TIME\": weight}"
   ],
   "metadata": {
    "collapsed": false
   }
  },
  {
   "cell_type": "code",
   "execution_count": 36,
   "outputs": [],
   "source": [
    "ts = pd.DataFrame(np.where(trading_signals==\"BTO\", 1, np.where(trading_signals==\"STO\", -1, 0)), index=trading_signals.index, columns=trading_signals.columns)"
   ],
   "metadata": {
    "collapsed": false
   }
  },
  {
   "cell_type": "code",
   "execution_count": 38,
   "outputs": [
    {
     "data": {
      "text/plain": "2021-09-26 00:00:00   -1\n2021-09-26 01:00:00   -1\n2021-09-26 02:00:00   -1\n2021-09-26 03:00:00    0\n2021-09-26 04:00:00    0\n2021-09-26 05:00:00   -1\n2021-09-26 06:00:00    0\n2021-09-26 07:00:00    0\n2021-09-26 08:00:00   -1\n2021-09-26 09:00:00   -1\n2021-09-26 10:00:00    0\n2021-09-26 11:00:00   -1\n2021-09-26 12:00:00   -1\n2021-09-26 13:00:00   -1\n2021-09-26 14:00:00   -1\n2021-09-26 15:00:00   -1\n2021-09-26 16:00:00   -1\n2021-09-26 17:00:00   -1\n2021-09-26 18:00:00   -1\n2021-09-26 19:00:00   -1\n2021-09-26 20:00:00   -1\n2021-09-26 21:00:00   -1\n2021-09-26 22:00:00   -1\n2021-09-26 23:00:00   -1\n2021-09-27 00:00:00   -1\nName: UNI, dtype: int64"
     },
     "execution_count": 38,
     "metadata": {},
     "output_type": "execute_result"
    }
   ],
   "source": [
    "ts['UNI']"
   ],
   "metadata": {
    "collapsed": false
   }
  },
  {
   "cell_type": "code",
   "execution_count": 39,
   "outputs": [],
   "source": [
    "def get_ret(df, start, finish):\n",
    "    # a = df.loc[start]\n",
    "    # b = df.loc[finish]\n",
    "    # return pd.concat([a, b], axis=1).T.pct_change()[1:]\n",
    "    return df.loc[start:finish].pct_change()[1:]"
   ],
   "metadata": {
    "collapsed": false
   }
  },
  {
   "cell_type": "code",
   "execution_count": 49,
   "outputs": [],
   "source": [
    "ret_df = get_ret(arb.prices_df, start, finish)\n",
    "ret_df = ret_df.loc[:, ts.columns].shift(-1)"
   ],
   "metadata": {
    "collapsed": false
   }
  },
  {
   "cell_type": "code",
   "execution_count": 56,
   "outputs": [
    {
     "data": {
      "text/plain": "                     BTC  BNB  XRP  SOL  DOGE  LINK  UNI  LTC  BCH  MATIC  \\\n2021-09-26 00:00:00    0    0    0    0     0    -1   -1    0    0      0   \n2021-09-26 01:00:00    0    0    0    0     0    -1   -1    0    0      0   \n2021-09-26 02:00:00    0    0    0    0     0    -1   -1    0    0      0   \n2021-09-26 03:00:00    0    0    0    0     0    -1    0    0    0     -1   \n2021-09-26 04:00:00    0    0    0    0     0    -1    0   -1    0      0   \n2021-09-26 05:00:00    0    0    0    0     0    -1   -1    0    0      0   \n2021-09-26 06:00:00    0    0    0    0     0    -1    0    0    0      0   \n2021-09-26 07:00:00    0    0    0    0     0    -1    0    0    0      0   \n2021-09-26 08:00:00    0    0    0    0     0    -1   -1    0    0      0   \n2021-09-26 09:00:00    0    0    0    0     0    -1   -1    0    0     -1   \n2021-09-26 10:00:00    0    1    0    0     0    -1    0    0    0      0   \n2021-09-26 11:00:00    0    1    0    0     1    -1   -1    0    0      0   \n2021-09-26 12:00:00    0    1    0    0     1    -1   -1    0    0      0   \n2021-09-26 13:00:00    0    1    0    0     1    -1   -1    0    0      0   \n2021-09-26 14:00:00    0    1    0    0     1    -1   -1    0    0      0   \n2021-09-26 15:00:00    0    1    0    0     1    -1   -1    0    0      0   \n2021-09-26 16:00:00    0    1    0    0     1    -1   -1    0    0      0   \n2021-09-26 17:00:00    0    1    0    0     1    -1   -1    0    0      0   \n2021-09-26 18:00:00    0    1    0    0     1    -1   -1    0    1      0   \n2021-09-26 19:00:00    0    1    0    0     1     0   -1    0    1      0   \n2021-09-26 20:00:00    0    1    0    0     1     0   -1    0    1      0   \n2021-09-26 21:00:00    0    1    0    1     1     0   -1    1    1      0   \n2021-09-26 22:00:00    0    1    0    1     1     0   -1    1    1      0   \n2021-09-26 23:00:00    0    1    0    1     1     0   -1    1    1      1   \n2021-09-27 00:00:00    0    1    0    1     1     0   -1    1    1      1   \n\n                     ...  AUDIO  BNT  ZRX  DYDX  RAY  PERP  SAND  C98  CRO  \\\n2021-09-26 00:00:00  ...      1   -1    0     0    0     0     0    0    0   \n2021-09-26 01:00:00  ...      0   -1    0     0    0     0     0    0    0   \n2021-09-26 02:00:00  ...      1    0    0     0    0     0     0    0    0   \n2021-09-26 03:00:00  ...      1    0    0     0    0     0     0    0    0   \n2021-09-26 04:00:00  ...      1    0    0     0    0     0     0    0    0   \n2021-09-26 05:00:00  ...      1    0    0     0    0     0     0    0    0   \n2021-09-26 06:00:00  ...      1    0    0     0    0     0     0    0    0   \n2021-09-26 07:00:00  ...      1   -1    0     0    0     0     0    0    0   \n2021-09-26 08:00:00  ...      1   -1    0     0    0     0     0    0    0   \n2021-09-26 09:00:00  ...      1   -1    0     0    0     0     0    0    0   \n2021-09-26 10:00:00  ...      0    0    0     0    0    -1     0    0    0   \n2021-09-26 11:00:00  ...      1   -1    0     0    0    -1     0    0    0   \n2021-09-26 12:00:00  ...      1    0    0     0    0    -1     0    0    0   \n2021-09-26 13:00:00  ...      1    0    0     0    0    -1     0    0    0   \n2021-09-26 14:00:00  ...      1   -1    0     0    0    -1     0    0    1   \n2021-09-26 15:00:00  ...      1   -1    0     0    0    -1     0    0    0   \n2021-09-26 16:00:00  ...      1    0    0     0    0    -1     0    0    0   \n2021-09-26 17:00:00  ...      0    0    0     0    0    -1     0    0    0   \n2021-09-26 18:00:00  ...      0    0    0     0    0    -1     0    0    0   \n2021-09-26 19:00:00  ...      0    0    0     0    0    -1     0    0    0   \n2021-09-26 20:00:00  ...      0    0    0     0    0    -1     0    0    0   \n2021-09-26 21:00:00  ...      0    0    0     0    0    -1     0    0    0   \n2021-09-26 22:00:00  ...      0    0    0     0    0    -1     0    0    0   \n2021-09-26 23:00:00  ...      0    0    0     0    0    -1     0    0    0   \n2021-09-27 00:00:00  ...      0    0    0     0    0    -1     0    0    0   \n\n                     HNT  \n2021-09-26 00:00:00    0  \n2021-09-26 01:00:00    0  \n2021-09-26 02:00:00    0  \n2021-09-26 03:00:00    0  \n2021-09-26 04:00:00    0  \n2021-09-26 05:00:00    0  \n2021-09-26 06:00:00    0  \n2021-09-26 07:00:00    0  \n2021-09-26 08:00:00    0  \n2021-09-26 09:00:00    0  \n2021-09-26 10:00:00    0  \n2021-09-26 11:00:00    0  \n2021-09-26 12:00:00    0  \n2021-09-26 13:00:00    0  \n2021-09-26 14:00:00    0  \n2021-09-26 15:00:00    0  \n2021-09-26 16:00:00    0  \n2021-09-26 17:00:00    0  \n2021-09-26 18:00:00    0  \n2021-09-26 19:00:00    0  \n2021-09-26 20:00:00    0  \n2021-09-26 21:00:00    0  \n2021-09-26 22:00:00    0  \n2021-09-26 23:00:00    0  \n2021-09-27 00:00:00    0  \n\n[25 rows x 42 columns]",
      "text/html": "<div>\n<style scoped>\n    .dataframe tbody tr th:only-of-type {\n        vertical-align: middle;\n    }\n\n    .dataframe tbody tr th {\n        vertical-align: top;\n    }\n\n    .dataframe thead th {\n        text-align: right;\n    }\n</style>\n<table border=\"1\" class=\"dataframe\">\n  <thead>\n    <tr style=\"text-align: right;\">\n      <th></th>\n      <th>BTC</th>\n      <th>BNB</th>\n      <th>XRP</th>\n      <th>SOL</th>\n      <th>DOGE</th>\n      <th>LINK</th>\n      <th>UNI</th>\n      <th>LTC</th>\n      <th>BCH</th>\n      <th>MATIC</th>\n      <th>...</th>\n      <th>AUDIO</th>\n      <th>BNT</th>\n      <th>ZRX</th>\n      <th>DYDX</th>\n      <th>RAY</th>\n      <th>PERP</th>\n      <th>SAND</th>\n      <th>C98</th>\n      <th>CRO</th>\n      <th>HNT</th>\n    </tr>\n  </thead>\n  <tbody>\n    <tr>\n      <th>2021-09-26 00:00:00</th>\n      <td>0</td>\n      <td>0</td>\n      <td>0</td>\n      <td>0</td>\n      <td>0</td>\n      <td>-1</td>\n      <td>-1</td>\n      <td>0</td>\n      <td>0</td>\n      <td>0</td>\n      <td>...</td>\n      <td>1</td>\n      <td>-1</td>\n      <td>0</td>\n      <td>0</td>\n      <td>0</td>\n      <td>0</td>\n      <td>0</td>\n      <td>0</td>\n      <td>0</td>\n      <td>0</td>\n    </tr>\n    <tr>\n      <th>2021-09-26 01:00:00</th>\n      <td>0</td>\n      <td>0</td>\n      <td>0</td>\n      <td>0</td>\n      <td>0</td>\n      <td>-1</td>\n      <td>-1</td>\n      <td>0</td>\n      <td>0</td>\n      <td>0</td>\n      <td>...</td>\n      <td>0</td>\n      <td>-1</td>\n      <td>0</td>\n      <td>0</td>\n      <td>0</td>\n      <td>0</td>\n      <td>0</td>\n      <td>0</td>\n      <td>0</td>\n      <td>0</td>\n    </tr>\n    <tr>\n      <th>2021-09-26 02:00:00</th>\n      <td>0</td>\n      <td>0</td>\n      <td>0</td>\n      <td>0</td>\n      <td>0</td>\n      <td>-1</td>\n      <td>-1</td>\n      <td>0</td>\n      <td>0</td>\n      <td>0</td>\n      <td>...</td>\n      <td>1</td>\n      <td>0</td>\n      <td>0</td>\n      <td>0</td>\n      <td>0</td>\n      <td>0</td>\n      <td>0</td>\n      <td>0</td>\n      <td>0</td>\n      <td>0</td>\n    </tr>\n    <tr>\n      <th>2021-09-26 03:00:00</th>\n      <td>0</td>\n      <td>0</td>\n      <td>0</td>\n      <td>0</td>\n      <td>0</td>\n      <td>-1</td>\n      <td>0</td>\n      <td>0</td>\n      <td>0</td>\n      <td>-1</td>\n      <td>...</td>\n      <td>1</td>\n      <td>0</td>\n      <td>0</td>\n      <td>0</td>\n      <td>0</td>\n      <td>0</td>\n      <td>0</td>\n      <td>0</td>\n      <td>0</td>\n      <td>0</td>\n    </tr>\n    <tr>\n      <th>2021-09-26 04:00:00</th>\n      <td>0</td>\n      <td>0</td>\n      <td>0</td>\n      <td>0</td>\n      <td>0</td>\n      <td>-1</td>\n      <td>0</td>\n      <td>-1</td>\n      <td>0</td>\n      <td>0</td>\n      <td>...</td>\n      <td>1</td>\n      <td>0</td>\n      <td>0</td>\n      <td>0</td>\n      <td>0</td>\n      <td>0</td>\n      <td>0</td>\n      <td>0</td>\n      <td>0</td>\n      <td>0</td>\n    </tr>\n    <tr>\n      <th>2021-09-26 05:00:00</th>\n      <td>0</td>\n      <td>0</td>\n      <td>0</td>\n      <td>0</td>\n      <td>0</td>\n      <td>-1</td>\n      <td>-1</td>\n      <td>0</td>\n      <td>0</td>\n      <td>0</td>\n      <td>...</td>\n      <td>1</td>\n      <td>0</td>\n      <td>0</td>\n      <td>0</td>\n      <td>0</td>\n      <td>0</td>\n      <td>0</td>\n      <td>0</td>\n      <td>0</td>\n      <td>0</td>\n    </tr>\n    <tr>\n      <th>2021-09-26 06:00:00</th>\n      <td>0</td>\n      <td>0</td>\n      <td>0</td>\n      <td>0</td>\n      <td>0</td>\n      <td>-1</td>\n      <td>0</td>\n      <td>0</td>\n      <td>0</td>\n      <td>0</td>\n      <td>...</td>\n      <td>1</td>\n      <td>0</td>\n      <td>0</td>\n      <td>0</td>\n      <td>0</td>\n      <td>0</td>\n      <td>0</td>\n      <td>0</td>\n      <td>0</td>\n      <td>0</td>\n    </tr>\n    <tr>\n      <th>2021-09-26 07:00:00</th>\n      <td>0</td>\n      <td>0</td>\n      <td>0</td>\n      <td>0</td>\n      <td>0</td>\n      <td>-1</td>\n      <td>0</td>\n      <td>0</td>\n      <td>0</td>\n      <td>0</td>\n      <td>...</td>\n      <td>1</td>\n      <td>-1</td>\n      <td>0</td>\n      <td>0</td>\n      <td>0</td>\n      <td>0</td>\n      <td>0</td>\n      <td>0</td>\n      <td>0</td>\n      <td>0</td>\n    </tr>\n    <tr>\n      <th>2021-09-26 08:00:00</th>\n      <td>0</td>\n      <td>0</td>\n      <td>0</td>\n      <td>0</td>\n      <td>0</td>\n      <td>-1</td>\n      <td>-1</td>\n      <td>0</td>\n      <td>0</td>\n      <td>0</td>\n      <td>...</td>\n      <td>1</td>\n      <td>-1</td>\n      <td>0</td>\n      <td>0</td>\n      <td>0</td>\n      <td>0</td>\n      <td>0</td>\n      <td>0</td>\n      <td>0</td>\n      <td>0</td>\n    </tr>\n    <tr>\n      <th>2021-09-26 09:00:00</th>\n      <td>0</td>\n      <td>0</td>\n      <td>0</td>\n      <td>0</td>\n      <td>0</td>\n      <td>-1</td>\n      <td>-1</td>\n      <td>0</td>\n      <td>0</td>\n      <td>-1</td>\n      <td>...</td>\n      <td>1</td>\n      <td>-1</td>\n      <td>0</td>\n      <td>0</td>\n      <td>0</td>\n      <td>0</td>\n      <td>0</td>\n      <td>0</td>\n      <td>0</td>\n      <td>0</td>\n    </tr>\n    <tr>\n      <th>2021-09-26 10:00:00</th>\n      <td>0</td>\n      <td>1</td>\n      <td>0</td>\n      <td>0</td>\n      <td>0</td>\n      <td>-1</td>\n      <td>0</td>\n      <td>0</td>\n      <td>0</td>\n      <td>0</td>\n      <td>...</td>\n      <td>0</td>\n      <td>0</td>\n      <td>0</td>\n      <td>0</td>\n      <td>0</td>\n      <td>-1</td>\n      <td>0</td>\n      <td>0</td>\n      <td>0</td>\n      <td>0</td>\n    </tr>\n    <tr>\n      <th>2021-09-26 11:00:00</th>\n      <td>0</td>\n      <td>1</td>\n      <td>0</td>\n      <td>0</td>\n      <td>1</td>\n      <td>-1</td>\n      <td>-1</td>\n      <td>0</td>\n      <td>0</td>\n      <td>0</td>\n      <td>...</td>\n      <td>1</td>\n      <td>-1</td>\n      <td>0</td>\n      <td>0</td>\n      <td>0</td>\n      <td>-1</td>\n      <td>0</td>\n      <td>0</td>\n      <td>0</td>\n      <td>0</td>\n    </tr>\n    <tr>\n      <th>2021-09-26 12:00:00</th>\n      <td>0</td>\n      <td>1</td>\n      <td>0</td>\n      <td>0</td>\n      <td>1</td>\n      <td>-1</td>\n      <td>-1</td>\n      <td>0</td>\n      <td>0</td>\n      <td>0</td>\n      <td>...</td>\n      <td>1</td>\n      <td>0</td>\n      <td>0</td>\n      <td>0</td>\n      <td>0</td>\n      <td>-1</td>\n      <td>0</td>\n      <td>0</td>\n      <td>0</td>\n      <td>0</td>\n    </tr>\n    <tr>\n      <th>2021-09-26 13:00:00</th>\n      <td>0</td>\n      <td>1</td>\n      <td>0</td>\n      <td>0</td>\n      <td>1</td>\n      <td>-1</td>\n      <td>-1</td>\n      <td>0</td>\n      <td>0</td>\n      <td>0</td>\n      <td>...</td>\n      <td>1</td>\n      <td>0</td>\n      <td>0</td>\n      <td>0</td>\n      <td>0</td>\n      <td>-1</td>\n      <td>0</td>\n      <td>0</td>\n      <td>0</td>\n      <td>0</td>\n    </tr>\n    <tr>\n      <th>2021-09-26 14:00:00</th>\n      <td>0</td>\n      <td>1</td>\n      <td>0</td>\n      <td>0</td>\n      <td>1</td>\n      <td>-1</td>\n      <td>-1</td>\n      <td>0</td>\n      <td>0</td>\n      <td>0</td>\n      <td>...</td>\n      <td>1</td>\n      <td>-1</td>\n      <td>0</td>\n      <td>0</td>\n      <td>0</td>\n      <td>-1</td>\n      <td>0</td>\n      <td>0</td>\n      <td>1</td>\n      <td>0</td>\n    </tr>\n    <tr>\n      <th>2021-09-26 15:00:00</th>\n      <td>0</td>\n      <td>1</td>\n      <td>0</td>\n      <td>0</td>\n      <td>1</td>\n      <td>-1</td>\n      <td>-1</td>\n      <td>0</td>\n      <td>0</td>\n      <td>0</td>\n      <td>...</td>\n      <td>1</td>\n      <td>-1</td>\n      <td>0</td>\n      <td>0</td>\n      <td>0</td>\n      <td>-1</td>\n      <td>0</td>\n      <td>0</td>\n      <td>0</td>\n      <td>0</td>\n    </tr>\n    <tr>\n      <th>2021-09-26 16:00:00</th>\n      <td>0</td>\n      <td>1</td>\n      <td>0</td>\n      <td>0</td>\n      <td>1</td>\n      <td>-1</td>\n      <td>-1</td>\n      <td>0</td>\n      <td>0</td>\n      <td>0</td>\n      <td>...</td>\n      <td>1</td>\n      <td>0</td>\n      <td>0</td>\n      <td>0</td>\n      <td>0</td>\n      <td>-1</td>\n      <td>0</td>\n      <td>0</td>\n      <td>0</td>\n      <td>0</td>\n    </tr>\n    <tr>\n      <th>2021-09-26 17:00:00</th>\n      <td>0</td>\n      <td>1</td>\n      <td>0</td>\n      <td>0</td>\n      <td>1</td>\n      <td>-1</td>\n      <td>-1</td>\n      <td>0</td>\n      <td>0</td>\n      <td>0</td>\n      <td>...</td>\n      <td>0</td>\n      <td>0</td>\n      <td>0</td>\n      <td>0</td>\n      <td>0</td>\n      <td>-1</td>\n      <td>0</td>\n      <td>0</td>\n      <td>0</td>\n      <td>0</td>\n    </tr>\n    <tr>\n      <th>2021-09-26 18:00:00</th>\n      <td>0</td>\n      <td>1</td>\n      <td>0</td>\n      <td>0</td>\n      <td>1</td>\n      <td>-1</td>\n      <td>-1</td>\n      <td>0</td>\n      <td>1</td>\n      <td>0</td>\n      <td>...</td>\n      <td>0</td>\n      <td>0</td>\n      <td>0</td>\n      <td>0</td>\n      <td>0</td>\n      <td>-1</td>\n      <td>0</td>\n      <td>0</td>\n      <td>0</td>\n      <td>0</td>\n    </tr>\n    <tr>\n      <th>2021-09-26 19:00:00</th>\n      <td>0</td>\n      <td>1</td>\n      <td>0</td>\n      <td>0</td>\n      <td>1</td>\n      <td>0</td>\n      <td>-1</td>\n      <td>0</td>\n      <td>1</td>\n      <td>0</td>\n      <td>...</td>\n      <td>0</td>\n      <td>0</td>\n      <td>0</td>\n      <td>0</td>\n      <td>0</td>\n      <td>-1</td>\n      <td>0</td>\n      <td>0</td>\n      <td>0</td>\n      <td>0</td>\n    </tr>\n    <tr>\n      <th>2021-09-26 20:00:00</th>\n      <td>0</td>\n      <td>1</td>\n      <td>0</td>\n      <td>0</td>\n      <td>1</td>\n      <td>0</td>\n      <td>-1</td>\n      <td>0</td>\n      <td>1</td>\n      <td>0</td>\n      <td>...</td>\n      <td>0</td>\n      <td>0</td>\n      <td>0</td>\n      <td>0</td>\n      <td>0</td>\n      <td>-1</td>\n      <td>0</td>\n      <td>0</td>\n      <td>0</td>\n      <td>0</td>\n    </tr>\n    <tr>\n      <th>2021-09-26 21:00:00</th>\n      <td>0</td>\n      <td>1</td>\n      <td>0</td>\n      <td>1</td>\n      <td>1</td>\n      <td>0</td>\n      <td>-1</td>\n      <td>1</td>\n      <td>1</td>\n      <td>0</td>\n      <td>...</td>\n      <td>0</td>\n      <td>0</td>\n      <td>0</td>\n      <td>0</td>\n      <td>0</td>\n      <td>-1</td>\n      <td>0</td>\n      <td>0</td>\n      <td>0</td>\n      <td>0</td>\n    </tr>\n    <tr>\n      <th>2021-09-26 22:00:00</th>\n      <td>0</td>\n      <td>1</td>\n      <td>0</td>\n      <td>1</td>\n      <td>1</td>\n      <td>0</td>\n      <td>-1</td>\n      <td>1</td>\n      <td>1</td>\n      <td>0</td>\n      <td>...</td>\n      <td>0</td>\n      <td>0</td>\n      <td>0</td>\n      <td>0</td>\n      <td>0</td>\n      <td>-1</td>\n      <td>0</td>\n      <td>0</td>\n      <td>0</td>\n      <td>0</td>\n    </tr>\n    <tr>\n      <th>2021-09-26 23:00:00</th>\n      <td>0</td>\n      <td>1</td>\n      <td>0</td>\n      <td>1</td>\n      <td>1</td>\n      <td>0</td>\n      <td>-1</td>\n      <td>1</td>\n      <td>1</td>\n      <td>1</td>\n      <td>...</td>\n      <td>0</td>\n      <td>0</td>\n      <td>0</td>\n      <td>0</td>\n      <td>0</td>\n      <td>-1</td>\n      <td>0</td>\n      <td>0</td>\n      <td>0</td>\n      <td>0</td>\n    </tr>\n    <tr>\n      <th>2021-09-27 00:00:00</th>\n      <td>0</td>\n      <td>1</td>\n      <td>0</td>\n      <td>1</td>\n      <td>1</td>\n      <td>0</td>\n      <td>-1</td>\n      <td>1</td>\n      <td>1</td>\n      <td>1</td>\n      <td>...</td>\n      <td>0</td>\n      <td>0</td>\n      <td>0</td>\n      <td>0</td>\n      <td>0</td>\n      <td>-1</td>\n      <td>0</td>\n      <td>0</td>\n      <td>0</td>\n      <td>0</td>\n    </tr>\n  </tbody>\n</table>\n<p>25 rows × 42 columns</p>\n</div>"
     },
     "execution_count": 56,
     "metadata": {},
     "output_type": "execute_result"
    }
   ],
   "source": [
    "ts"
   ],
   "metadata": {
    "collapsed": false
   }
  },
  {
   "cell_type": "code",
   "execution_count": 58,
   "outputs": [
    {
     "data": {
      "text/plain": "                          BTC       BNB       XRP       SOL      DOGE  \\\nstartTime                                                               \n2021-09-26 01:00:00 -0.004554 -0.007901 -0.000161 -0.013884 -0.006635   \n2021-09-26 02:00:00 -0.007687 -0.013838 -0.008906  0.001110 -0.009441   \n2021-09-26 03:00:00  0.003612  0.007342  0.006651  0.001720  0.007380   \n2021-09-26 04:00:00  0.000260 -0.001527 -0.002940  0.000114 -0.004850   \n2021-09-26 05:00:00 -0.003669 -0.000791 -0.004030 -0.003853 -0.000298   \n2021-09-26 06:00:00 -0.002447 -0.007346 -0.004074 -0.004883 -0.003696   \n2021-09-26 07:00:00 -0.017434 -0.039862 -0.019906 -0.022725 -0.030120   \n2021-09-26 08:00:00  0.009114  0.001332  0.007429  0.011282 -0.003006   \n2021-09-26 09:00:00  0.039515  0.058264  0.036068  0.052003  0.037823   \n2021-09-26 10:00:00 -0.005846 -0.013394 -0.004078 -0.012215 -0.007663   \n2021-09-26 11:00:00  0.001557  0.008135  0.008672  0.013134  0.007266   \n2021-09-26 12:00:00  0.004688  0.010930  0.006183  0.017735  0.007429   \n2021-09-26 13:00:00 -0.001155 -0.001574 -0.002927 -0.012302 -0.002467   \n2021-09-26 14:00:00  0.002428  0.006505  0.000503  0.006365  0.005484   \n2021-09-26 15:00:00  0.000369  0.005187  0.003093  0.024935  0.004784   \n2021-09-26 16:00:00 -0.002744 -0.008516 -0.007221 -0.011861 -0.007602   \n2021-09-26 17:00:00 -0.001711  0.000608  0.003239 -0.012274  0.002149   \n2021-09-26 18:00:00  0.001089  0.002936 -0.000582  0.000110 -0.001793   \n2021-09-26 19:00:00  0.001342  0.003853 -0.000794 -0.004294  0.002854   \n2021-09-26 20:00:00  0.008851  0.006131  0.006041  0.017709  0.007120   \n2021-09-26 21:00:00 -0.001764 -0.008412 -0.002897 -0.010531 -0.004662   \n2021-09-26 22:00:00 -0.014869 -0.015635 -0.010539 -0.010789 -0.014169   \n2021-09-26 23:00:00  0.005870  0.002690  0.007742 -0.000074  0.004339   \n2021-09-27 00:00:00       NaN       NaN       NaN       NaN       NaN   \n\n                         LINK       UNI       LTC       BCH     MATIC  ...  \\\nstartTime                                                              ...   \n2021-09-26 01:00:00 -0.005622 -0.013799 -0.004057 -0.007392 -0.009187  ...   \n2021-09-26 02:00:00 -0.008887 -0.001862 -0.006060 -0.002417 -0.007726  ...   \n2021-09-26 03:00:00  0.018818  0.015511  0.007282  0.008256  0.006576  ...   \n2021-09-26 04:00:00 -0.000496 -0.008293 -0.001479 -0.002893 -0.004816  ...   \n2021-09-26 05:00:00 -0.006821  0.000582 -0.002930 -0.003934 -0.012740  ...   \n2021-09-26 06:00:00 -0.011551 -0.009574 -0.005134 -0.008097 -0.006931  ...   \n2021-09-26 07:00:00 -0.039964 -0.036798 -0.025732 -0.028570 -0.024871  ...   \n2021-09-26 08:00:00  0.006602  0.016302 -0.000558 -0.000307  0.004889  ...   \n2021-09-26 09:00:00  0.066171  0.205467  0.048182  0.054226  0.049929  ...   \n2021-09-26 10:00:00 -0.004946  0.011813 -0.007783 -0.011425  0.006378  ...   \n2021-09-26 11:00:00  0.016471  0.021202  0.010694  0.005754  0.010103  ...   \n2021-09-26 12:00:00  0.014446  0.030749  0.004080  0.004401  0.015006  ...   \n2021-09-26 13:00:00 -0.006493 -0.002975  0.001850  0.001655 -0.005581  ...   \n2021-09-26 14:00:00 -0.006796  0.010315  0.002737  0.003937  0.026197  ...   \n2021-09-26 15:00:00  0.014513  0.007425  0.006576  0.003534 -0.003335  ...   \n2021-09-26 16:00:00 -0.023338 -0.008794 -0.011825 -0.010806 -0.001822  ...   \n2021-09-26 17:00:00 -0.006947  0.019223  0.000628 -0.004340  0.003345  ...   \n2021-09-26 18:00:00  0.002769  0.002860  0.001784 -0.001322 -0.016331  ...   \n2021-09-26 19:00:00  0.004091  0.005497  0.002177  0.001717 -0.003748  ...   \n2021-09-26 20:00:00  0.012082 -0.000329  0.004969  0.002350  0.006144  ...   \n2021-09-26 21:00:00  0.003885  0.006086 -0.002849 -0.008011 -0.004110  ...   \n2021-09-26 22:00:00 -0.024685 -0.033596 -0.018816 -0.017136 -0.016483  ...   \n2021-09-26 23:00:00  0.012254  0.017636  0.009672  0.008567  0.006131  ...   \n2021-09-27 00:00:00       NaN       NaN       NaN       NaN       NaN  ...   \n\n                        AUDIO       BNT       ZRX      DYDX       RAY  \\\nstartTime                                                               \n2021-09-26 01:00:00 -0.011026  0.001706 -0.009621 -0.040664 -0.014884   \n2021-09-26 02:00:00 -0.003065  0.003123 -0.006571  0.001296 -0.010327   \n2021-09-26 03:00:00  0.007315  0.001698  0.005177  0.005406  0.001797   \n2021-09-26 04:00:00  0.005686  0.007629 -0.003720  0.153730 -0.003683   \n2021-09-26 05:00:00 -0.009766 -0.000841 -0.004595  0.007351 -0.003114   \n2021-09-26 06:00:00 -0.009912 -0.018804 -0.006347 -0.017528 -0.004760   \n2021-09-26 07:00:00 -0.024292  0.013158 -0.038328 -0.046691 -0.029318   \n2021-09-26 08:00:00 -0.000128  0.014963 -0.002114  0.145401  0.005565   \n2021-09-26 09:00:00  0.058858  0.010848  0.054766  0.019801  0.067258   \n2021-09-26 10:00:00 -0.007250 -0.006054 -0.004877 -0.006194 -0.015537   \n2021-09-26 11:00:00  0.014461 -0.006921  0.012684  0.074254  0.006954   \n2021-09-26 12:00:00  0.002376  0.000558  0.012240  0.022092  0.026581   \n2021-09-26 13:00:00 -0.004621  0.002229  0.000000 -0.028055  0.006748   \n2021-09-26 14:00:00  0.002093 -0.009730  0.007030  0.022070 -0.015665   \n2021-09-26 15:00:00  0.027338  0.000281  0.014521 -0.028407  0.004268   \n2021-09-26 16:00:00 -0.023807  0.000842 -0.011285  0.037041 -0.007579   \n2021-09-26 17:00:00  0.013522 -0.006450  0.004733 -0.019795 -0.003916   \n2021-09-26 18:00:00 -0.000094  0.004516  0.003048 -0.012962  0.001536   \n2021-09-26 19:00:00 -0.008124 -0.000281  0.000000  0.013358 -0.001799   \n2021-09-26 20:00:00  0.001381 -0.004497  0.003591  0.061016  0.010096   \n2021-09-26 21:00:00  0.003757 -0.002259 -0.006056  0.003460 -0.007208   \n2021-09-26 22:00:00 -0.031599 -0.008772 -0.018554 -0.015672 -0.017736   \n2021-09-26 23:00:00  0.009368  0.002284  0.009312  0.025687  0.007412   \n2021-09-27 00:00:00       NaN       NaN       NaN       NaN       NaN   \n\n                         PERP      SAND       C98       CRO       HNT  \nstartTime                                                              \n2021-09-26 01:00:00 -0.005622 -0.010349 -0.012962 -0.005775 -0.001921  \n2021-09-26 02:00:00 -0.032811 -0.003537 -0.012110 -0.009358  0.013823  \n2021-09-26 03:00:00 -0.003543  0.005942  0.008317  0.005212  0.006006  \n2021-09-26 04:00:00  0.022222 -0.002915 -0.006228 -0.001458 -0.002127  \n2021-09-26 05:00:00 -0.016522  0.032620 -0.000967 -0.003083  0.010699  \n2021-09-26 06:00:00 -0.008134 -0.011474 -0.019285  0.001302 -0.007899  \n2021-09-26 07:00:00 -0.036994 -0.052683 -0.046746 -0.025520 -0.020186  \n2021-09-26 08:00:00  0.203740  0.012809  0.002356  0.006172 -0.018287  \n2021-09-26 09:00:00  0.102276  0.049411  0.076340  0.048408  0.041592  \n2021-09-26 10:00:00 -0.040324 -0.008384 -0.019187 -0.010595 -0.008910  \n2021-09-26 11:00:00  0.039619  0.004605  0.004520  0.002877  0.012950  \n2021-09-26 12:00:00  0.060206  0.007439  0.020717  0.007331  0.008580  \n2021-09-26 13:00:00 -0.012531 -0.008354 -0.012467 -0.001740  0.004631  \n2021-09-26 14:00:00  0.011889  0.004212  0.009693  0.011569  0.001004  \n2021-09-26 15:00:00  0.019406 -0.001723  0.008116  0.000940  0.012280  \n2021-09-26 16:00:00 -0.003691 -0.006753 -0.019504 -0.005478 -0.005689  \n2021-09-26 17:00:00 -0.032170 -0.000453 -0.005407 -0.007240  0.001570  \n2021-09-26 18:00:00 -0.009535  0.001134  0.002248  0.004280  0.010370  \n2021-09-26 19:00:00 -0.005695  0.002567  0.000335  0.000158 -0.000594  \n2021-09-26 20:00:00  0.027138  0.004217  0.009037  0.007734  0.011838  \n2021-09-26 21:00:00 -0.046004 -0.001500 -0.002886  0.004855 -0.006353  \n2021-09-26 22:00:00 -0.023241 -0.017947 -0.026780 -0.022756 -0.014714  \n2021-09-26 23:00:00  0.006483  0.002447  0.003042  0.004147  0.006011  \n2021-09-27 00:00:00       NaN       NaN       NaN       NaN       NaN  \n\n[24 rows x 42 columns]",
      "text/html": "<div>\n<style scoped>\n    .dataframe tbody tr th:only-of-type {\n        vertical-align: middle;\n    }\n\n    .dataframe tbody tr th {\n        vertical-align: top;\n    }\n\n    .dataframe thead th {\n        text-align: right;\n    }\n</style>\n<table border=\"1\" class=\"dataframe\">\n  <thead>\n    <tr style=\"text-align: right;\">\n      <th></th>\n      <th>BTC</th>\n      <th>BNB</th>\n      <th>XRP</th>\n      <th>SOL</th>\n      <th>DOGE</th>\n      <th>LINK</th>\n      <th>UNI</th>\n      <th>LTC</th>\n      <th>BCH</th>\n      <th>MATIC</th>\n      <th>...</th>\n      <th>AUDIO</th>\n      <th>BNT</th>\n      <th>ZRX</th>\n      <th>DYDX</th>\n      <th>RAY</th>\n      <th>PERP</th>\n      <th>SAND</th>\n      <th>C98</th>\n      <th>CRO</th>\n      <th>HNT</th>\n    </tr>\n    <tr>\n      <th>startTime</th>\n      <th></th>\n      <th></th>\n      <th></th>\n      <th></th>\n      <th></th>\n      <th></th>\n      <th></th>\n      <th></th>\n      <th></th>\n      <th></th>\n      <th></th>\n      <th></th>\n      <th></th>\n      <th></th>\n      <th></th>\n      <th></th>\n      <th></th>\n      <th></th>\n      <th></th>\n      <th></th>\n      <th></th>\n    </tr>\n  </thead>\n  <tbody>\n    <tr>\n      <th>2021-09-26 01:00:00</th>\n      <td>-0.004554</td>\n      <td>-0.007901</td>\n      <td>-0.000161</td>\n      <td>-0.013884</td>\n      <td>-0.006635</td>\n      <td>-0.005622</td>\n      <td>-0.013799</td>\n      <td>-0.004057</td>\n      <td>-0.007392</td>\n      <td>-0.009187</td>\n      <td>...</td>\n      <td>-0.011026</td>\n      <td>0.001706</td>\n      <td>-0.009621</td>\n      <td>-0.040664</td>\n      <td>-0.014884</td>\n      <td>-0.005622</td>\n      <td>-0.010349</td>\n      <td>-0.012962</td>\n      <td>-0.005775</td>\n      <td>-0.001921</td>\n    </tr>\n    <tr>\n      <th>2021-09-26 02:00:00</th>\n      <td>-0.007687</td>\n      <td>-0.013838</td>\n      <td>-0.008906</td>\n      <td>0.001110</td>\n      <td>-0.009441</td>\n      <td>-0.008887</td>\n      <td>-0.001862</td>\n      <td>-0.006060</td>\n      <td>-0.002417</td>\n      <td>-0.007726</td>\n      <td>...</td>\n      <td>-0.003065</td>\n      <td>0.003123</td>\n      <td>-0.006571</td>\n      <td>0.001296</td>\n      <td>-0.010327</td>\n      <td>-0.032811</td>\n      <td>-0.003537</td>\n      <td>-0.012110</td>\n      <td>-0.009358</td>\n      <td>0.013823</td>\n    </tr>\n    <tr>\n      <th>2021-09-26 03:00:00</th>\n      <td>0.003612</td>\n      <td>0.007342</td>\n      <td>0.006651</td>\n      <td>0.001720</td>\n      <td>0.007380</td>\n      <td>0.018818</td>\n      <td>0.015511</td>\n      <td>0.007282</td>\n      <td>0.008256</td>\n      <td>0.006576</td>\n      <td>...</td>\n      <td>0.007315</td>\n      <td>0.001698</td>\n      <td>0.005177</td>\n      <td>0.005406</td>\n      <td>0.001797</td>\n      <td>-0.003543</td>\n      <td>0.005942</td>\n      <td>0.008317</td>\n      <td>0.005212</td>\n      <td>0.006006</td>\n    </tr>\n    <tr>\n      <th>2021-09-26 04:00:00</th>\n      <td>0.000260</td>\n      <td>-0.001527</td>\n      <td>-0.002940</td>\n      <td>0.000114</td>\n      <td>-0.004850</td>\n      <td>-0.000496</td>\n      <td>-0.008293</td>\n      <td>-0.001479</td>\n      <td>-0.002893</td>\n      <td>-0.004816</td>\n      <td>...</td>\n      <td>0.005686</td>\n      <td>0.007629</td>\n      <td>-0.003720</td>\n      <td>0.153730</td>\n      <td>-0.003683</td>\n      <td>0.022222</td>\n      <td>-0.002915</td>\n      <td>-0.006228</td>\n      <td>-0.001458</td>\n      <td>-0.002127</td>\n    </tr>\n    <tr>\n      <th>2021-09-26 05:00:00</th>\n      <td>-0.003669</td>\n      <td>-0.000791</td>\n      <td>-0.004030</td>\n      <td>-0.003853</td>\n      <td>-0.000298</td>\n      <td>-0.006821</td>\n      <td>0.000582</td>\n      <td>-0.002930</td>\n      <td>-0.003934</td>\n      <td>-0.012740</td>\n      <td>...</td>\n      <td>-0.009766</td>\n      <td>-0.000841</td>\n      <td>-0.004595</td>\n      <td>0.007351</td>\n      <td>-0.003114</td>\n      <td>-0.016522</td>\n      <td>0.032620</td>\n      <td>-0.000967</td>\n      <td>-0.003083</td>\n      <td>0.010699</td>\n    </tr>\n    <tr>\n      <th>2021-09-26 06:00:00</th>\n      <td>-0.002447</td>\n      <td>-0.007346</td>\n      <td>-0.004074</td>\n      <td>-0.004883</td>\n      <td>-0.003696</td>\n      <td>-0.011551</td>\n      <td>-0.009574</td>\n      <td>-0.005134</td>\n      <td>-0.008097</td>\n      <td>-0.006931</td>\n      <td>...</td>\n      <td>-0.009912</td>\n      <td>-0.018804</td>\n      <td>-0.006347</td>\n      <td>-0.017528</td>\n      <td>-0.004760</td>\n      <td>-0.008134</td>\n      <td>-0.011474</td>\n      <td>-0.019285</td>\n      <td>0.001302</td>\n      <td>-0.007899</td>\n    </tr>\n    <tr>\n      <th>2021-09-26 07:00:00</th>\n      <td>-0.017434</td>\n      <td>-0.039862</td>\n      <td>-0.019906</td>\n      <td>-0.022725</td>\n      <td>-0.030120</td>\n      <td>-0.039964</td>\n      <td>-0.036798</td>\n      <td>-0.025732</td>\n      <td>-0.028570</td>\n      <td>-0.024871</td>\n      <td>...</td>\n      <td>-0.024292</td>\n      <td>0.013158</td>\n      <td>-0.038328</td>\n      <td>-0.046691</td>\n      <td>-0.029318</td>\n      <td>-0.036994</td>\n      <td>-0.052683</td>\n      <td>-0.046746</td>\n      <td>-0.025520</td>\n      <td>-0.020186</td>\n    </tr>\n    <tr>\n      <th>2021-09-26 08:00:00</th>\n      <td>0.009114</td>\n      <td>0.001332</td>\n      <td>0.007429</td>\n      <td>0.011282</td>\n      <td>-0.003006</td>\n      <td>0.006602</td>\n      <td>0.016302</td>\n      <td>-0.000558</td>\n      <td>-0.000307</td>\n      <td>0.004889</td>\n      <td>...</td>\n      <td>-0.000128</td>\n      <td>0.014963</td>\n      <td>-0.002114</td>\n      <td>0.145401</td>\n      <td>0.005565</td>\n      <td>0.203740</td>\n      <td>0.012809</td>\n      <td>0.002356</td>\n      <td>0.006172</td>\n      <td>-0.018287</td>\n    </tr>\n    <tr>\n      <th>2021-09-26 09:00:00</th>\n      <td>0.039515</td>\n      <td>0.058264</td>\n      <td>0.036068</td>\n      <td>0.052003</td>\n      <td>0.037823</td>\n      <td>0.066171</td>\n      <td>0.205467</td>\n      <td>0.048182</td>\n      <td>0.054226</td>\n      <td>0.049929</td>\n      <td>...</td>\n      <td>0.058858</td>\n      <td>0.010848</td>\n      <td>0.054766</td>\n      <td>0.019801</td>\n      <td>0.067258</td>\n      <td>0.102276</td>\n      <td>0.049411</td>\n      <td>0.076340</td>\n      <td>0.048408</td>\n      <td>0.041592</td>\n    </tr>\n    <tr>\n      <th>2021-09-26 10:00:00</th>\n      <td>-0.005846</td>\n      <td>-0.013394</td>\n      <td>-0.004078</td>\n      <td>-0.012215</td>\n      <td>-0.007663</td>\n      <td>-0.004946</td>\n      <td>0.011813</td>\n      <td>-0.007783</td>\n      <td>-0.011425</td>\n      <td>0.006378</td>\n      <td>...</td>\n      <td>-0.007250</td>\n      <td>-0.006054</td>\n      <td>-0.004877</td>\n      <td>-0.006194</td>\n      <td>-0.015537</td>\n      <td>-0.040324</td>\n      <td>-0.008384</td>\n      <td>-0.019187</td>\n      <td>-0.010595</td>\n      <td>-0.008910</td>\n    </tr>\n    <tr>\n      <th>2021-09-26 11:00:00</th>\n      <td>0.001557</td>\n      <td>0.008135</td>\n      <td>0.008672</td>\n      <td>0.013134</td>\n      <td>0.007266</td>\n      <td>0.016471</td>\n      <td>0.021202</td>\n      <td>0.010694</td>\n      <td>0.005754</td>\n      <td>0.010103</td>\n      <td>...</td>\n      <td>0.014461</td>\n      <td>-0.006921</td>\n      <td>0.012684</td>\n      <td>0.074254</td>\n      <td>0.006954</td>\n      <td>0.039619</td>\n      <td>0.004605</td>\n      <td>0.004520</td>\n      <td>0.002877</td>\n      <td>0.012950</td>\n    </tr>\n    <tr>\n      <th>2021-09-26 12:00:00</th>\n      <td>0.004688</td>\n      <td>0.010930</td>\n      <td>0.006183</td>\n      <td>0.017735</td>\n      <td>0.007429</td>\n      <td>0.014446</td>\n      <td>0.030749</td>\n      <td>0.004080</td>\n      <td>0.004401</td>\n      <td>0.015006</td>\n      <td>...</td>\n      <td>0.002376</td>\n      <td>0.000558</td>\n      <td>0.012240</td>\n      <td>0.022092</td>\n      <td>0.026581</td>\n      <td>0.060206</td>\n      <td>0.007439</td>\n      <td>0.020717</td>\n      <td>0.007331</td>\n      <td>0.008580</td>\n    </tr>\n    <tr>\n      <th>2021-09-26 13:00:00</th>\n      <td>-0.001155</td>\n      <td>-0.001574</td>\n      <td>-0.002927</td>\n      <td>-0.012302</td>\n      <td>-0.002467</td>\n      <td>-0.006493</td>\n      <td>-0.002975</td>\n      <td>0.001850</td>\n      <td>0.001655</td>\n      <td>-0.005581</td>\n      <td>...</td>\n      <td>-0.004621</td>\n      <td>0.002229</td>\n      <td>0.000000</td>\n      <td>-0.028055</td>\n      <td>0.006748</td>\n      <td>-0.012531</td>\n      <td>-0.008354</td>\n      <td>-0.012467</td>\n      <td>-0.001740</td>\n      <td>0.004631</td>\n    </tr>\n    <tr>\n      <th>2021-09-26 14:00:00</th>\n      <td>0.002428</td>\n      <td>0.006505</td>\n      <td>0.000503</td>\n      <td>0.006365</td>\n      <td>0.005484</td>\n      <td>-0.006796</td>\n      <td>0.010315</td>\n      <td>0.002737</td>\n      <td>0.003937</td>\n      <td>0.026197</td>\n      <td>...</td>\n      <td>0.002093</td>\n      <td>-0.009730</td>\n      <td>0.007030</td>\n      <td>0.022070</td>\n      <td>-0.015665</td>\n      <td>0.011889</td>\n      <td>0.004212</td>\n      <td>0.009693</td>\n      <td>0.011569</td>\n      <td>0.001004</td>\n    </tr>\n    <tr>\n      <th>2021-09-26 15:00:00</th>\n      <td>0.000369</td>\n      <td>0.005187</td>\n      <td>0.003093</td>\n      <td>0.024935</td>\n      <td>0.004784</td>\n      <td>0.014513</td>\n      <td>0.007425</td>\n      <td>0.006576</td>\n      <td>0.003534</td>\n      <td>-0.003335</td>\n      <td>...</td>\n      <td>0.027338</td>\n      <td>0.000281</td>\n      <td>0.014521</td>\n      <td>-0.028407</td>\n      <td>0.004268</td>\n      <td>0.019406</td>\n      <td>-0.001723</td>\n      <td>0.008116</td>\n      <td>0.000940</td>\n      <td>0.012280</td>\n    </tr>\n    <tr>\n      <th>2021-09-26 16:00:00</th>\n      <td>-0.002744</td>\n      <td>-0.008516</td>\n      <td>-0.007221</td>\n      <td>-0.011861</td>\n      <td>-0.007602</td>\n      <td>-0.023338</td>\n      <td>-0.008794</td>\n      <td>-0.011825</td>\n      <td>-0.010806</td>\n      <td>-0.001822</td>\n      <td>...</td>\n      <td>-0.023807</td>\n      <td>0.000842</td>\n      <td>-0.011285</td>\n      <td>0.037041</td>\n      <td>-0.007579</td>\n      <td>-0.003691</td>\n      <td>-0.006753</td>\n      <td>-0.019504</td>\n      <td>-0.005478</td>\n      <td>-0.005689</td>\n    </tr>\n    <tr>\n      <th>2021-09-26 17:00:00</th>\n      <td>-0.001711</td>\n      <td>0.000608</td>\n      <td>0.003239</td>\n      <td>-0.012274</td>\n      <td>0.002149</td>\n      <td>-0.006947</td>\n      <td>0.019223</td>\n      <td>0.000628</td>\n      <td>-0.004340</td>\n      <td>0.003345</td>\n      <td>...</td>\n      <td>0.013522</td>\n      <td>-0.006450</td>\n      <td>0.004733</td>\n      <td>-0.019795</td>\n      <td>-0.003916</td>\n      <td>-0.032170</td>\n      <td>-0.000453</td>\n      <td>-0.005407</td>\n      <td>-0.007240</td>\n      <td>0.001570</td>\n    </tr>\n    <tr>\n      <th>2021-09-26 18:00:00</th>\n      <td>0.001089</td>\n      <td>0.002936</td>\n      <td>-0.000582</td>\n      <td>0.000110</td>\n      <td>-0.001793</td>\n      <td>0.002769</td>\n      <td>0.002860</td>\n      <td>0.001784</td>\n      <td>-0.001322</td>\n      <td>-0.016331</td>\n      <td>...</td>\n      <td>-0.000094</td>\n      <td>0.004516</td>\n      <td>0.003048</td>\n      <td>-0.012962</td>\n      <td>0.001536</td>\n      <td>-0.009535</td>\n      <td>0.001134</td>\n      <td>0.002248</td>\n      <td>0.004280</td>\n      <td>0.010370</td>\n    </tr>\n    <tr>\n      <th>2021-09-26 19:00:00</th>\n      <td>0.001342</td>\n      <td>0.003853</td>\n      <td>-0.000794</td>\n      <td>-0.004294</td>\n      <td>0.002854</td>\n      <td>0.004091</td>\n      <td>0.005497</td>\n      <td>0.002177</td>\n      <td>0.001717</td>\n      <td>-0.003748</td>\n      <td>...</td>\n      <td>-0.008124</td>\n      <td>-0.000281</td>\n      <td>0.000000</td>\n      <td>0.013358</td>\n      <td>-0.001799</td>\n      <td>-0.005695</td>\n      <td>0.002567</td>\n      <td>0.000335</td>\n      <td>0.000158</td>\n      <td>-0.000594</td>\n    </tr>\n    <tr>\n      <th>2021-09-26 20:00:00</th>\n      <td>0.008851</td>\n      <td>0.006131</td>\n      <td>0.006041</td>\n      <td>0.017709</td>\n      <td>0.007120</td>\n      <td>0.012082</td>\n      <td>-0.000329</td>\n      <td>0.004969</td>\n      <td>0.002350</td>\n      <td>0.006144</td>\n      <td>...</td>\n      <td>0.001381</td>\n      <td>-0.004497</td>\n      <td>0.003591</td>\n      <td>0.061016</td>\n      <td>0.010096</td>\n      <td>0.027138</td>\n      <td>0.004217</td>\n      <td>0.009037</td>\n      <td>0.007734</td>\n      <td>0.011838</td>\n    </tr>\n    <tr>\n      <th>2021-09-26 21:00:00</th>\n      <td>-0.001764</td>\n      <td>-0.008412</td>\n      <td>-0.002897</td>\n      <td>-0.010531</td>\n      <td>-0.004662</td>\n      <td>0.003885</td>\n      <td>0.006086</td>\n      <td>-0.002849</td>\n      <td>-0.008011</td>\n      <td>-0.004110</td>\n      <td>...</td>\n      <td>0.003757</td>\n      <td>-0.002259</td>\n      <td>-0.006056</td>\n      <td>0.003460</td>\n      <td>-0.007208</td>\n      <td>-0.046004</td>\n      <td>-0.001500</td>\n      <td>-0.002886</td>\n      <td>0.004855</td>\n      <td>-0.006353</td>\n    </tr>\n    <tr>\n      <th>2021-09-26 22:00:00</th>\n      <td>-0.014869</td>\n      <td>-0.015635</td>\n      <td>-0.010539</td>\n      <td>-0.010789</td>\n      <td>-0.014169</td>\n      <td>-0.024685</td>\n      <td>-0.033596</td>\n      <td>-0.018816</td>\n      <td>-0.017136</td>\n      <td>-0.016483</td>\n      <td>...</td>\n      <td>-0.031599</td>\n      <td>-0.008772</td>\n      <td>-0.018554</td>\n      <td>-0.015672</td>\n      <td>-0.017736</td>\n      <td>-0.023241</td>\n      <td>-0.017947</td>\n      <td>-0.026780</td>\n      <td>-0.022756</td>\n      <td>-0.014714</td>\n    </tr>\n    <tr>\n      <th>2021-09-26 23:00:00</th>\n      <td>0.005870</td>\n      <td>0.002690</td>\n      <td>0.007742</td>\n      <td>-0.000074</td>\n      <td>0.004339</td>\n      <td>0.012254</td>\n      <td>0.017636</td>\n      <td>0.009672</td>\n      <td>0.008567</td>\n      <td>0.006131</td>\n      <td>...</td>\n      <td>0.009368</td>\n      <td>0.002284</td>\n      <td>0.009312</td>\n      <td>0.025687</td>\n      <td>0.007412</td>\n      <td>0.006483</td>\n      <td>0.002447</td>\n      <td>0.003042</td>\n      <td>0.004147</td>\n      <td>0.006011</td>\n    </tr>\n    <tr>\n      <th>2021-09-27 00:00:00</th>\n      <td>NaN</td>\n      <td>NaN</td>\n      <td>NaN</td>\n      <td>NaN</td>\n      <td>NaN</td>\n      <td>NaN</td>\n      <td>NaN</td>\n      <td>NaN</td>\n      <td>NaN</td>\n      <td>NaN</td>\n      <td>...</td>\n      <td>NaN</td>\n      <td>NaN</td>\n      <td>NaN</td>\n      <td>NaN</td>\n      <td>NaN</td>\n      <td>NaN</td>\n      <td>NaN</td>\n      <td>NaN</td>\n      <td>NaN</td>\n      <td>NaN</td>\n    </tr>\n  </tbody>\n</table>\n<p>24 rows × 42 columns</p>\n</div>"
     },
     "execution_count": 58,
     "metadata": {},
     "output_type": "execute_result"
    }
   ],
   "source": [
    "ret_df"
   ],
   "metadata": {
    "collapsed": false
   }
  },
  {
   "cell_type": "code",
   "execution_count": 59,
   "outputs": [
    {
     "data": {
      "text/plain": "2021-09-26 00:00:00         NaN\n2021-09-26 01:00:00    0.013799\n2021-09-26 02:00:00    0.001862\n2021-09-26 03:00:00    0.000000\n2021-09-26 04:00:00   -0.000000\n2021-09-26 05:00:00   -0.000582\n2021-09-26 06:00:00   -0.000000\n2021-09-26 07:00:00   -0.000000\n2021-09-26 08:00:00   -0.016302\n2021-09-26 09:00:00   -0.205467\n2021-09-26 10:00:00    0.000000\n2021-09-26 11:00:00   -0.021202\n2021-09-26 12:00:00   -0.030749\n2021-09-26 13:00:00    0.002975\n2021-09-26 14:00:00   -0.010315\n2021-09-26 15:00:00   -0.007425\n2021-09-26 16:00:00    0.008794\n2021-09-26 17:00:00   -0.019223\n2021-09-26 18:00:00   -0.002860\n2021-09-26 19:00:00   -0.005497\n2021-09-26 20:00:00    0.000329\n2021-09-26 21:00:00   -0.006086\n2021-09-26 22:00:00    0.033596\n2021-09-26 23:00:00   -0.017636\n2021-09-27 00:00:00         NaN\nName: UNI, dtype: float64"
     },
     "execution_count": 59,
     "metadata": {},
     "output_type": "execute_result"
    }
   ],
   "source": [
    "weighted_ret['UNI']"
   ],
   "metadata": {
    "collapsed": false
   }
  },
  {
   "cell_type": "code",
   "execution_count": 57,
   "outputs": [
    {
     "data": {
      "text/plain": "<AxesSubplot:>"
     },
     "execution_count": 57,
     "metadata": {},
     "output_type": "execute_result"
    },
    {
     "data": {
      "text/plain": "<Figure size 432x288 with 1 Axes>",
      "image/png": "[encoded data removed]"
     },
     "metadata": {
      "needs_background": "light"
     },
     "output_type": "display_data"
    }
   ],
   "source": [
    "weighted_ret = ts * ret_df\n",
    "weighted_ret['UNI'].plot()"
   ],
   "metadata": {
    "collapsed": false
   }
  },
  {
   "cell_type": "code",
   "execution_count": null,
   "outputs": [],
   "source": [],
   "metadata": {
    "collapsed": false
   }
  },
  {
   "cell_type": "code",
   "execution_count": null,
   "outputs": [],
   "source": [
    "ts = pd.DataFrame(np.where(trading_signals==\"BTO\", 1, np.where(trading_signals==\"STO\", -1, 0)), index=trading_signals.index, columns=trading_signals.columns)\n",
    "\n",
    "open_positions={}\n",
    "closed_positions = {}\n",
    "df = pd.DataFrame()\n",
    "for i,j in enumerate(trading_signals.index):\n",
    "    current_line = trading_signals.iloc[i].copy(deep=True)\n",
    "    previous_signal = trading_signals.iloc[i-1].copy(deep=True)\n",
    "\n",
    "    ret_df = get_ret(arb.prices_df, previous_signal.name, current_line.name)\n",
    "    ret_df = ret_df.loc[:, current_signal.index]\n",
    "\n",
    "    for ticker in current_line.index:\n",
    "        if ticker in open_positions:\n",
    "            if i == 0:\n",
    "                current_line_applied = current_line[ticker].apply(lambda x: 1 if x == \"BTO\" else (-1 if x == \"STO\" else 0))\n",
    "                previous_signal_value = current_line_applied\n",
    "                open_positions = current_line_applied[current_line_applied.isin([-1, 1])].to_dict()\n",
    "\n",
    "            else:\n",
    "                previous_signal = trading_signals.iloc[i-1].copy(deep=True)\n",
    "                current_line_applied = current_line.apply(map_signal_to_trade, previous_signal=previous_signal[ticker], previous_signal_value=previous_signal_value[ticker])\n",
    "                previous_signal_value = current_line_applied\n",
    "        else:\n",
    "            if i == 0:\n",
    "                current_line_applied = current_line.apply(lambda x: 1 if x == \"BTO\" else (-1 if x == \"STO\" else 0))\n",
    "                previous_signal_value = current_line_applied\n",
    "                open_positions = current_line_applied[current_line_applied.isin([-1, 1])].to_dict()\n",
    "\n",
    "            else:\n",
    "                previous_signal = trading_signals.iloc[i-1].copy(deep=True)\n",
    "                current_line_applied = current_line.apply(map_signal_to_trade, previous_signal=previous_signal[ticker], previous_signal_value=previous_signal_value[ticker])\n",
    "                previous_signal_value = current_line_applied"
   ],
   "metadata": {
    "collapsed": false
   }
  },
  {
   "cell_type": "code",
   "execution_count": 33,
   "outputs": [
    {
     "data": {
      "text/plain": "BTC      0\nBNB      0\nXRP      0\nSOL      0\nDOGE     0\nLINK    -1\nUNI     -1\nLTC      0\nBCH      0\nMATIC    0\nFTT     -1\nTRX     -1\nAXS      0\nSHIB     0\nAAVE    -1\nOKB      1\nGRT     -1\nFTM      0\nCEL      0\nMKR      0\nCOMP     0\nSUSHI   -1\nSNX      0\nHT       1\nCHZ      0\nOMG      0\nENJ      0\nYFI     -1\nSRM      0\nBAT      0\nCRV      0\nREN     -1\nAUDIO    1\nBNT     -1\nZRX      0\nDYDX     0\nRAY      0\nPERP     0\nSAND     0\nC98      0\nCRO      0\nHNT      0\nName: 2021-09-26 00:00:00, dtype: int64"
     },
     "execution_count": 33,
     "metadata": {},
     "output_type": "execute_result"
    }
   ],
   "source": [
    "current_line_applied@"
   ],
   "metadata": {
    "collapsed": false
   }
  },
  {
   "cell_type": "code",
   "execution_count": 15,
   "outputs": [],
   "source": [
    "current_line_applied = current_line.apply(lambda x: 1 if x == \"BTO\" else (-1 if x == \"STO\" else 0))"
   ],
   "metadata": {
    "collapsed": false
   }
  },
  {
   "cell_type": "code",
   "execution_count": 32,
   "outputs": [
    {
     "data": {
      "text/plain": "LINK    -1\nUNI     -1\nFTT     -1\nTRX     -1\nAAVE    -1\nOKB      1\nGRT     -1\nSUSHI   -1\nHT       1\nYFI     -1\nREN     -1\nAUDIO    1\nBNT     -1\nName: 2021-09-26 00:00:00, dtype: int64"
     },
     "execution_count": 32,
     "metadata": {},
     "output_type": "execute_result"
    }
   ],
   "source": [
    "d = current_line_applied[current_line_applied.isin([-1, 1])]\n",
    "d"
   ],
   "metadata": {
    "collapsed": false
   }
  },
  {
   "cell_type": "code",
   "execution_count": null,
   "outputs": [],
   "source": [],
   "metadata": {
    "collapsed": false
   }
  },
  {
   "cell_type": "code",
   "execution_count": null,
   "outputs": [],
   "source": [],
   "metadata": {
    "collapsed": false
   }
  },
  {
   "cell_type": "code",
   "execution_count": 24,
   "outputs": [
    {
     "data": {
      "text/plain": "-1"
     },
     "execution_count": 24,
     "metadata": {},
     "output_type": "execute_result"
    }
   ],
   "source": [
    "d['LINK'] = {\"Ticker\": \"LINK\", \"Position\": d['LINK'], \"Return\":}"
   ],
   "metadata": {
    "collapsed": false
   }
  },
  {
   "cell_type": "code",
   "execution_count": 10,
   "outputs": [
    {
     "ename": "ValueError",
     "evalue": "The truth value of a Series is ambiguous. Use a.empty, a.bool(), a.item(), a.any() or a.all().",
     "output_type": "error",
     "traceback": [
      "\u001B[0;31m---------------------------------------------------------------------------\u001B[0m",
      "\u001B[0;31mValueError\u001B[0m                                Traceback (most recent call last)",
      "Input \u001B[0;32mIn [10]\u001B[0m, in \u001B[0;36m<cell line: 2>\u001B[0;34m()\u001B[0m\n\u001B[1;32m      7\u001B[0m \u001B[38;5;28;01melse\u001B[39;00m:\n\u001B[1;32m      8\u001B[0m     previous_signal \u001B[38;5;241m=\u001B[39m trading_signals\u001B[38;5;241m.\u001B[39miloc[i\u001B[38;5;241m-\u001B[39m\u001B[38;5;241m1\u001B[39m]\u001B[38;5;241m.\u001B[39mcopy(deep\u001B[38;5;241m=\u001B[39m\u001B[38;5;28;01mTrue\u001B[39;00m)\n\u001B[0;32m----> 9\u001B[0m     current_line_applied \u001B[38;5;241m=\u001B[39m \u001B[43mcurrent_line\u001B[49m\u001B[38;5;241;43m.\u001B[39;49m\u001B[43mapply\u001B[49m\u001B[43m(\u001B[49m\u001B[43mmap_signal_to_trade\u001B[49m\u001B[43m,\u001B[49m\u001B[43m \u001B[49m\u001B[43mprevious_signal\u001B[49m\u001B[38;5;241;43m=\u001B[39;49m\u001B[43mprevious_signal\u001B[49m\u001B[43m,\u001B[49m\u001B[43m \u001B[49m\u001B[43mprevious_signal_value\u001B[49m\u001B[38;5;241;43m=\u001B[39;49m\u001B[43mprevious_signal_value\u001B[49m\u001B[43m)\u001B[49m\n\u001B[1;32m     10\u001B[0m     previous_signal_value \u001B[38;5;241m=\u001B[39m current_line_applied\n\u001B[1;32m     12\u001B[0m df\u001B[38;5;241m.\u001B[39mloc[j, current_line_applied\u001B[38;5;241m.\u001B[39mindex] \u001B[38;5;241m=\u001B[39m current_line_applied\n",
      "File \u001B[0;32m~/miniforge3/envs/tf_m1/lib/python3.9/site-packages/pandas/core/series.py:4357\u001B[0m, in \u001B[0;36mSeries.apply\u001B[0;34m(self, func, convert_dtype, args, **kwargs)\u001B[0m\n\u001B[1;32m   4247\u001B[0m \u001B[38;5;28;01mdef\u001B[39;00m \u001B[38;5;21mapply\u001B[39m(\n\u001B[1;32m   4248\u001B[0m     \u001B[38;5;28mself\u001B[39m,\n\u001B[1;32m   4249\u001B[0m     func: AggFuncType,\n\u001B[0;32m   (...)\u001B[0m\n\u001B[1;32m   4252\u001B[0m     \u001B[38;5;241m*\u001B[39m\u001B[38;5;241m*\u001B[39mkwargs,\n\u001B[1;32m   4253\u001B[0m ) \u001B[38;5;241m-\u001B[39m\u001B[38;5;241m>\u001B[39m FrameOrSeriesUnion:\n\u001B[1;32m   4254\u001B[0m     \u001B[38;5;124;03m\"\"\"\u001B[39;00m\n\u001B[1;32m   4255\u001B[0m \u001B[38;5;124;03m    Invoke function on values of Series.\u001B[39;00m\n\u001B[1;32m   4256\u001B[0m \n\u001B[0;32m   (...)\u001B[0m\n\u001B[1;32m   4355\u001B[0m \u001B[38;5;124;03m    dtype: float64\u001B[39;00m\n\u001B[1;32m   4356\u001B[0m \u001B[38;5;124;03m    \"\"\"\u001B[39;00m\n\u001B[0;32m-> 4357\u001B[0m     \u001B[38;5;28;01mreturn\u001B[39;00m \u001B[43mSeriesApply\u001B[49m\u001B[43m(\u001B[49m\u001B[38;5;28;43mself\u001B[39;49m\u001B[43m,\u001B[49m\u001B[43m \u001B[49m\u001B[43mfunc\u001B[49m\u001B[43m,\u001B[49m\u001B[43m \u001B[49m\u001B[43mconvert_dtype\u001B[49m\u001B[43m,\u001B[49m\u001B[43m \u001B[49m\u001B[43margs\u001B[49m\u001B[43m,\u001B[49m\u001B[43m \u001B[49m\u001B[43mkwargs\u001B[49m\u001B[43m)\u001B[49m\u001B[38;5;241;43m.\u001B[39;49m\u001B[43mapply\u001B[49m\u001B[43m(\u001B[49m\u001B[43m)\u001B[49m\n",
      "File \u001B[0;32m~/miniforge3/envs/tf_m1/lib/python3.9/site-packages/pandas/core/apply.py:1043\u001B[0m, in \u001B[0;36mSeriesApply.apply\u001B[0;34m(self)\u001B[0m\n\u001B[1;32m   1039\u001B[0m \u001B[38;5;28;01mif\u001B[39;00m \u001B[38;5;28misinstance\u001B[39m(\u001B[38;5;28mself\u001B[39m\u001B[38;5;241m.\u001B[39mf, \u001B[38;5;28mstr\u001B[39m):\n\u001B[1;32m   1040\u001B[0m     \u001B[38;5;66;03m# if we are a string, try to dispatch\u001B[39;00m\n\u001B[1;32m   1041\u001B[0m     \u001B[38;5;28;01mreturn\u001B[39;00m \u001B[38;5;28mself\u001B[39m\u001B[38;5;241m.\u001B[39mapply_str()\n\u001B[0;32m-> 1043\u001B[0m \u001B[38;5;28;01mreturn\u001B[39;00m \u001B[38;5;28;43mself\u001B[39;49m\u001B[38;5;241;43m.\u001B[39;49m\u001B[43mapply_standard\u001B[49m\u001B[43m(\u001B[49m\u001B[43m)\u001B[49m\n",
      "File \u001B[0;32m~/miniforge3/envs/tf_m1/lib/python3.9/site-packages/pandas/core/apply.py:1098\u001B[0m, in \u001B[0;36mSeriesApply.apply_standard\u001B[0;34m(self)\u001B[0m\n\u001B[1;32m   1092\u001B[0m         values \u001B[38;5;241m=\u001B[39m obj\u001B[38;5;241m.\u001B[39mastype(\u001B[38;5;28mobject\u001B[39m)\u001B[38;5;241m.\u001B[39m_values\n\u001B[1;32m   1093\u001B[0m         \u001B[38;5;66;03m# error: Argument 2 to \"map_infer\" has incompatible type\u001B[39;00m\n\u001B[1;32m   1094\u001B[0m         \u001B[38;5;66;03m# \"Union[Callable[..., Any], str, List[Union[Callable[..., Any], str]],\u001B[39;00m\n\u001B[1;32m   1095\u001B[0m         \u001B[38;5;66;03m# Dict[Hashable, Union[Union[Callable[..., Any], str],\u001B[39;00m\n\u001B[1;32m   1096\u001B[0m         \u001B[38;5;66;03m# List[Union[Callable[..., Any], str]]]]]\"; expected\u001B[39;00m\n\u001B[1;32m   1097\u001B[0m         \u001B[38;5;66;03m# \"Callable[[Any], Any]\"\u001B[39;00m\n\u001B[0;32m-> 1098\u001B[0m         mapped \u001B[38;5;241m=\u001B[39m \u001B[43mlib\u001B[49m\u001B[38;5;241;43m.\u001B[39;49m\u001B[43mmap_infer\u001B[49m\u001B[43m(\u001B[49m\n\u001B[1;32m   1099\u001B[0m \u001B[43m            \u001B[49m\u001B[43mvalues\u001B[49m\u001B[43m,\u001B[49m\n\u001B[1;32m   1100\u001B[0m \u001B[43m            \u001B[49m\u001B[43mf\u001B[49m\u001B[43m,\u001B[49m\u001B[43m  \u001B[49m\u001B[38;5;66;43;03m# type: ignore[arg-type]\u001B[39;49;00m\n\u001B[1;32m   1101\u001B[0m \u001B[43m            \u001B[49m\u001B[43mconvert\u001B[49m\u001B[38;5;241;43m=\u001B[39;49m\u001B[38;5;28;43mself\u001B[39;49m\u001B[38;5;241;43m.\u001B[39;49m\u001B[43mconvert_dtype\u001B[49m\u001B[43m,\u001B[49m\n\u001B[1;32m   1102\u001B[0m \u001B[43m        \u001B[49m\u001B[43m)\u001B[49m\n\u001B[1;32m   1104\u001B[0m \u001B[38;5;28;01mif\u001B[39;00m \u001B[38;5;28mlen\u001B[39m(mapped) \u001B[38;5;129;01mand\u001B[39;00m \u001B[38;5;28misinstance\u001B[39m(mapped[\u001B[38;5;241m0\u001B[39m], ABCSeries):\n\u001B[1;32m   1105\u001B[0m     \u001B[38;5;66;03m# GH 25959 use pd.array instead of tolist\u001B[39;00m\n\u001B[1;32m   1106\u001B[0m     \u001B[38;5;66;03m# so extension arrays can be used\u001B[39;00m\n\u001B[1;32m   1107\u001B[0m     \u001B[38;5;28;01mreturn\u001B[39;00m obj\u001B[38;5;241m.\u001B[39m_constructor_expanddim(pd_array(mapped), index\u001B[38;5;241m=\u001B[39mobj\u001B[38;5;241m.\u001B[39mindex)\n",
      "File \u001B[0;32m~/miniforge3/envs/tf_m1/lib/python3.9/site-packages/pandas/_libs/lib.pyx:2859\u001B[0m, in \u001B[0;36mpandas._libs.lib.map_infer\u001B[0;34m()\u001B[0m\n",
      "File \u001B[0;32m~/miniforge3/envs/tf_m1/lib/python3.9/site-packages/pandas/core/apply.py:131\u001B[0m, in \u001B[0;36mApply.__init__.<locals>.f\u001B[0;34m(x)\u001B[0m\n\u001B[1;32m    130\u001B[0m \u001B[38;5;28;01mdef\u001B[39;00m \u001B[38;5;21mf\u001B[39m(x):\n\u001B[0;32m--> 131\u001B[0m     \u001B[38;5;28;01mreturn\u001B[39;00m \u001B[43mfunc\u001B[49m\u001B[43m(\u001B[49m\u001B[43mx\u001B[49m\u001B[43m,\u001B[49m\u001B[43m \u001B[49m\u001B[38;5;241;43m*\u001B[39;49m\u001B[43margs\u001B[49m\u001B[43m,\u001B[49m\u001B[43m \u001B[49m\u001B[38;5;241;43m*\u001B[39;49m\u001B[38;5;241;43m*\u001B[39;49m\u001B[43mkwargs\u001B[49m\u001B[43m)\u001B[49m\n",
      "Input \u001B[0;32mIn [9]\u001B[0m, in \u001B[0;36mmap_signal_to_trade\u001B[0;34m(current_signal, previous_signal, previous_signal_value)\u001B[0m\n\u001B[1;32m      1\u001B[0m \u001B[38;5;28;01mdef\u001B[39;00m \u001B[38;5;21mmap_signal_to_trade\u001B[39m(current_signal, previous_signal, previous_signal_value):\n\u001B[0;32m----> 3\u001B[0m     \u001B[38;5;28;01mif\u001B[39;00m current_signal \u001B[38;5;241m==\u001B[39m previous_signal:\n\u001B[1;32m      4\u001B[0m         current_position \u001B[38;5;241m=\u001B[39m previous_signal_value\n\u001B[1;32m      5\u001B[0m     \u001B[38;5;28;01melse\u001B[39;00m:\n",
      "File \u001B[0;32m~/miniforge3/envs/tf_m1/lib/python3.9/site-packages/pandas/core/generic.py:1537\u001B[0m, in \u001B[0;36mNDFrame.__nonzero__\u001B[0;34m(self)\u001B[0m\n\u001B[1;32m   1535\u001B[0m \u001B[38;5;129m@final\u001B[39m\n\u001B[1;32m   1536\u001B[0m \u001B[38;5;28;01mdef\u001B[39;00m \u001B[38;5;21m__nonzero__\u001B[39m(\u001B[38;5;28mself\u001B[39m):\n\u001B[0;32m-> 1537\u001B[0m     \u001B[38;5;28;01mraise\u001B[39;00m \u001B[38;5;167;01mValueError\u001B[39;00m(\n\u001B[1;32m   1538\u001B[0m         \u001B[38;5;124mf\u001B[39m\u001B[38;5;124m\"\u001B[39m\u001B[38;5;124mThe truth value of a \u001B[39m\u001B[38;5;132;01m{\u001B[39;00m\u001B[38;5;28mtype\u001B[39m(\u001B[38;5;28mself\u001B[39m)\u001B[38;5;241m.\u001B[39m\u001B[38;5;18m__name__\u001B[39m\u001B[38;5;132;01m}\u001B[39;00m\u001B[38;5;124m is ambiguous. \u001B[39m\u001B[38;5;124m\"\u001B[39m\n\u001B[1;32m   1539\u001B[0m         \u001B[38;5;124m\"\u001B[39m\u001B[38;5;124mUse a.empty, a.bool(), a.item(), a.any() or a.all().\u001B[39m\u001B[38;5;124m\"\u001B[39m\n\u001B[1;32m   1540\u001B[0m     )\n",
      "\u001B[0;31mValueError\u001B[0m: The truth value of a Series is ambiguous. Use a.empty, a.bool(), a.item(), a.any() or a.all()."
     ]
    }
   ],
   "source": [
    "df = pd.DataFrame()\n",
    "for i,j in enumerate(trading_signals.index):\n",
    "    current_line = trading_signals.iloc[i].copy(deep=True)\n",
    "    if i == 0:\n",
    "        current_line_applied = current_line.apply(lambda x: 1 if x == \"BTO\" else (-1 if x == \"STO\" else 0))\n",
    "        previous_signal_value = current_line_applied\n",
    "    else:\n",
    "        previous_signal = trading_signals.iloc[i-1].copy(deep=True)\n",
    "        current_line_applied = current_line.apply(map_signal_to_trade, previous_signal=previous_signal, previous_signal_value=previous_signal_value)\n",
    "        previous_signal_value = current_line_applied\n",
    "\n",
    "    df.loc[j, current_line_applied.index] = current_line_applied"
   ],
   "metadata": {
    "collapsed": false
   }
  },
  {
   "cell_type": "code",
   "execution_count": 9,
   "outputs": [
    {
     "data": {
      "text/plain": "               1INCH      AAVE      AGLD      ALCX  ALGO     ALICE     ALPHA  \\\nstartTime                                                                      \n2021-09-26 -0.001323 -0.005222 -0.017925 -0.002537   NaN -0.002271 -0.002985   \n\n                AMPL  APE       ASD  ...       TRU       TRX      TRYB  \\\nstartTime                            ...                                 \n2021-09-26  0.002987  NaN  0.002552  ... -0.006105 -0.002424  0.000713   \n\n                 UNI     WAVES      XAUT       XRP      YFI      YFII      ZRX  \nstartTime                                                                       \n2021-09-26 -0.002357  0.000824 -0.006935  0.001277 -0.00132 -0.000929  0.00443  \n\n[1 rows x 125 columns]",
      "text/html": "<div>\n<style scoped>\n    .dataframe tbody tr th:only-of-type {\n        vertical-align: middle;\n    }\n\n    .dataframe tbody tr th {\n        vertical-align: top;\n    }\n\n    .dataframe thead th {\n        text-align: right;\n    }\n</style>\n<table border=\"1\" class=\"dataframe\">\n  <thead>\n    <tr style=\"text-align: right;\">\n      <th></th>\n      <th>1INCH</th>\n      <th>AAVE</th>\n      <th>AGLD</th>\n      <th>ALCX</th>\n      <th>ALGO</th>\n      <th>ALICE</th>\n      <th>ALPHA</th>\n      <th>AMPL</th>\n      <th>APE</th>\n      <th>ASD</th>\n      <th>...</th>\n      <th>TRU</th>\n      <th>TRX</th>\n      <th>TRYB</th>\n      <th>UNI</th>\n      <th>WAVES</th>\n      <th>XAUT</th>\n      <th>XRP</th>\n      <th>YFI</th>\n      <th>YFII</th>\n      <th>ZRX</th>\n    </tr>\n    <tr>\n      <th>startTime</th>\n      <th></th>\n      <th></th>\n      <th></th>\n      <th></th>\n      <th></th>\n      <th></th>\n      <th></th>\n      <th></th>\n      <th></th>\n      <th></th>\n      <th></th>\n      <th></th>\n      <th></th>\n      <th></th>\n      <th></th>\n      <th></th>\n      <th></th>\n      <th></th>\n      <th></th>\n      <th></th>\n      <th></th>\n    </tr>\n  </thead>\n  <tbody>\n    <tr>\n      <th>2021-09-26</th>\n      <td>-0.001323</td>\n      <td>-0.005222</td>\n      <td>-0.017925</td>\n      <td>-0.002537</td>\n      <td>NaN</td>\n      <td>-0.002271</td>\n      <td>-0.002985</td>\n      <td>0.002987</td>\n      <td>NaN</td>\n      <td>0.002552</td>\n      <td>...</td>\n      <td>-0.006105</td>\n      <td>-0.002424</td>\n      <td>0.000713</td>\n      <td>-0.002357</td>\n      <td>0.000824</td>\n      <td>-0.006935</td>\n      <td>0.001277</td>\n      <td>-0.00132</td>\n      <td>-0.000929</td>\n      <td>0.00443</td>\n    </tr>\n  </tbody>\n</table>\n<p>1 rows × 125 columns</p>\n</div>"
     },
     "execution_count": 9,
     "metadata": {},
     "output_type": "execute_result"
    }
   ],
   "source": [],
   "metadata": {
    "collapsed": false
   }
  },
  {
   "cell_type": "code",
   "execution_count": 17,
   "outputs": [
    {
     "data": {
      "text/plain": "{'BTC': 0,\n 'BNB': 0,\n 'XRP': 0,\n 'SOL': 0,\n 'DOGE': 0,\n 'LINK': -1,\n 'UNI': -1,\n 'LTC': 0,\n 'BCH': 0,\n 'MATIC': 0,\n 'FTT': -1,\n 'TRX': -1,\n 'AXS': 0,\n 'SHIB': 0,\n 'AAVE': -1,\n 'OKB': 1,\n 'GRT': -1,\n 'FTM': 0,\n 'CEL': 0,\n 'MKR': 0,\n 'COMP': 0,\n 'SUSHI': -1,\n 'SNX': 0,\n 'HT': 1,\n 'CHZ': 0,\n 'OMG': 0,\n 'ENJ': 0,\n 'YFI': -1,\n 'SRM': 0,\n 'BAT': 0,\n 'CRV': 0,\n 'REN': -1,\n 'AUDIO': 1,\n 'BNT': -1,\n 'ZRX': 0,\n 'DYDX': 0,\n 'RAY': 0,\n 'PERP': 0,\n 'SAND': 0,\n 'C98': 0,\n 'CRO': 0,\n 'HNT': 0}"
     },
     "execution_count": 17,
     "metadata": {},
     "output_type": "execute_result"
    }
   ],
   "source": [
    "current_line_applied.to_dict()"
   ],
   "metadata": {
    "collapsed": false
   }
  },
  {
   "cell_type": "code",
   "execution_count": null,
   "outputs": [],
   "source": [],
   "metadata": {
    "collapsed": false
   }
  }
 ],
 "metadata": {
  "kernelspec": {
   "display_name": "Python 3",
   "language": "python",
   "name": "python3"
  },
  "language_info": {
   "codemirror_mode": {
    "name": "ipython",
    "version": 2
   },
   "file_extension": ".py",
   "mimetype": "text/x-python",
   "name": "python",
   "nbconvert_exporter": "python",
   "pygments_lexer": "ipython2",
   "version": "2.7.6"
  }
 },
 "nbformat": 4,
 "nbformat_minor": 0
}
